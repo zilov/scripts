{
 "cells": [
  {
   "cell_type": "code",
   "execution_count": 19,
   "metadata": {},
   "outputs": [],
   "source": [
    "import os\n",
    "import os.path"
   ]
  },
  {
   "cell_type": "code",
   "execution_count": 60,
   "metadata": {},
   "outputs": [],
   "source": [
    "raw_read_1 = \"/media/eternus1/nfs/projects/evodevo/trim_testing/dataset/bacteria/ecoli_5/SRR519926_1.fastq\"\n",
    "read_1_trimmomatic = \"/media/eternus1/nfs/projects/evodevo/trim_testing/dataset/bacteria/ecoli_5/trimmomatic_14/out_1P.fq\"\n",
    "reads_1_v2trim = \"/media/eternus1/nfs/projects/evodevo/trim_testing/dataset/bacteria/ecoli_5/v2trim/trim.trim_1.fastq\""
   ]
  },
  {
   "cell_type": "code",
   "execution_count": 38,
   "metadata": {},
   "outputs": [],
   "source": [
    "def reads_reader(reads_file_fastq):    \n",
    "    reads = {}\n",
    "    header = None\n",
    "    with open(reads_file_fastq) as fh:\n",
    "        for i, line in enumerate(fh):\n",
    "            line = line.strip()\n",
    "            if line.startswith(\"@SRR\"):\n",
    "                if header:\n",
    "                    reads[header] = \"\".join(seq)\n",
    "                header = line.split()[0][1:]\n",
    "                seq = []\n",
    "                header_switcher = True\n",
    "            elif header_switcher:\n",
    "                seq.append(line)\n",
    "                header_switcher = False\n",
    "    if header:\n",
    "        reads[header] = \"\".join(seq)\n",
    "    return reads"
   ]
  },
  {
   "cell_type": "code",
   "execution_count": 61,
   "metadata": {},
   "outputs": [],
   "source": [
    "raw_reads = reads_reader(raw_read_1)\n",
    "trimmomatic_reads = reads_reader(read_1_trimmomatic)\n",
    "v2trim_reads = reads_reader(reads_1_v2trim)"
   ]
  },
  {
   "cell_type": "code",
   "execution_count": 62,
   "metadata": {},
   "outputs": [],
   "source": [
    "different_reads = []\n",
    "losted_reads = []\n",
    "i = 0\n",
    "for header, seq in trimmomatic_reads.items():\n",
    "    if header in v2trim_reads.keys():\n",
    "        if seq != v2trim_reads[header]:\n",
    "            different_reads.append(header)\n",
    "    else:\n",
    "        losted_reads.append(header)"
   ]
  },
  {
   "cell_type": "code",
   "execution_count": 68,
   "metadata": {},
   "outputs": [
    {
     "name": "stdout",
     "output_type": "stream",
     "text": [
      "157\n",
      "251\n"
     ]
    }
   ],
   "source": [
    "print(len(v2trim_reads[different_reads[0]]))\n",
    "print(len(trimmomatic_reads[different_reads[0]]))"
   ]
  },
  {
   "cell_type": "code",
   "execution_count": 66,
   "metadata": {},
   "outputs": [],
   "source": [
    "i = 0\n",
    "for header, seq in v2trim_reads.items():\n",
    "    if len(seq) == 251:\n",
    "        i += 1"
   ]
  },
  {
   "cell_type": "code",
   "execution_count": 70,
   "metadata": {},
   "outputs": [
    {
     "data": {
      "text/plain": [
       "4294"
      ]
     },
     "execution_count": 70,
     "metadata": {},
     "output_type": "execute_result"
    }
   ],
   "source": [
    "len(losted_reads)"
   ]
  },
  {
   "cell_type": "code",
   "execution_count": 80,
   "metadata": {},
   "outputs": [],
   "source": [
    "nontrimmed_by_trimmomatic = []\n",
    "for key in different_reads:\n",
    "    v2_seq = v2trim_reads[key]\n",
    "    trim_seq = trimmomatic_reads[key]\n",
    "    if len(v2_seq) > len(trim_seq):\n",
    "        print(v2_seq.replace(trim_seq, \"\"))\n",
    "    elif len(trim_seq) > len(v2_seq):\n",
    "        nontrimmed_by_trimmomatic.append(trim_seq.replace(v2_seq, \"\"))"
   ]
  },
  {
   "cell_type": "code",
   "execution_count": 87,
   "metadata": {},
   "outputs": [
    {
     "name": "stdout",
     "output_type": "stream",
     "text": [
      "21857\n"
     ]
    }
   ],
   "source": [
    "j = 0\n",
    "for i in nontrimmed_by_trimmomatic:\n",
    "    if \"CTCGTATGCCGTCTTCTGCTTG\" in i:\n",
    "        j += 1\n",
    "print(j)"
   ]
  },
  {
   "cell_type": "code",
   "execution_count": null,
   "metadata": {},
   "outputs": [],
   "source": []
  }
 ],
 "metadata": {
  "kernelspec": {
   "display_name": "Python 3",
   "language": "python",
   "name": "python3"
  },
  "language_info": {
   "codemirror_mode": {
    "name": "ipython",
    "version": 3
   },
   "file_extension": ".py",
   "mimetype": "text/x-python",
   "name": "python",
   "nbconvert_exporter": "python",
   "pygments_lexer": "ipython3",
   "version": "3.7.7"
  }
 },
 "nbformat": 4,
 "nbformat_minor": 4
}
