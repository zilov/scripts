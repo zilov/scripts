{
 "cells": [
  {
   "cell_type": "code",
   "execution_count": 114,
   "metadata": {},
   "outputs": [],
   "source": [
    "# steps\n",
    "# 1 read fna file\n",
    "# 2 read gff file\n",
    "# make >dnaA:genom_prefix:NC_010080.1:187:1554:COG:COG0593 header and seq file"
   ]
  },
  {
   "cell_type": "code",
   "execution_count": 115,
   "metadata": {},
   "outputs": [],
   "source": [
    "input_fasta = \"./NC_0100/NC_0100.fna\"\n",
    "input_gff = input_fasta.replace(\".fna\", \".gff\")\n",
    "prefix = input_fasta.split(\"/\")[-1].split(\".\")[0]\n",
    "\n",
    "out_file = prefix + \"_genes_seq.txt\""
   ]
  },
  {
   "cell_type": "code",
   "execution_count": 116,
   "metadata": {},
   "outputs": [
    {
     "name": "stdout",
     "output_type": "stream",
     "text": [
      "/mnt/data/ncbi/refseq/bacteria_single/prokka/NC_0001/NC_0001.fna\n",
      "/mnt/data/ncbi/refseq/bacteria_single/prokka/NC_0001/NC_0001.gff\n"
     ]
    }
   ],
   "source": [
    "import os\n",
    "import os.path\n",
    "path = \"/mnt/data/ncbi/refseq/bacteria_single/prokka/NC_0001/\"\n",
    "path = os.path.abspath(path)\n",
    "dire = os.listdir(path)\n",
    "for i in dire:\n",
    "    if \".fna\" in i:\n",
    "        input_fasta1 = path + \"/\" + i\n",
    "    if \".gff\" in i:\n",
    "        input_gff1 = path + \"/\" + i\n",
    "print(input_fasta1)\n",
    "print(input_gff1)\n"
   ]
  },
  {
   "cell_type": "code",
   "execution_count": 117,
   "metadata": {},
   "outputs": [],
   "source": [
    "def fasta_reader(file):\n",
    "    fasta = {}\n",
    "    header = None\n",
    "    with open(file) as fh:\n",
    "        for i, line in enumerate(fh):\n",
    "            line = line.strip()\n",
    "            if line.startswith(\">\"):\n",
    "                if header:\n",
    "                    fasta[header]=\"\".join(seq)\n",
    "                header = line\n",
    "                seq = []\n",
    "            else:\n",
    "                seq.append(line)\n",
    "    if header:\n",
    "        fasta[header] = \"\".join(seq)\n",
    "    return fasta "
   ]
  },
  {
   "cell_type": "code",
   "execution_count": 118,
   "metadata": {},
   "outputs": [],
   "source": [
    "def revcomp(seq):\n",
    "    new_seq = \"\"\n",
    "    for i in seq[::-1]:\n",
    "        if i == \"A\":\n",
    "            new_seq += \"T\"\n",
    "        elif i == \"T\":\n",
    "            new_seq += \"A\"\n",
    "        elif i == \"G\":\n",
    "            new_seq += \"C\"\n",
    "        else:\n",
    "            new_seq += \"G\"\n",
    "    return new_seq"
   ]
  },
  {
   "cell_type": "code",
   "execution_count": 119,
   "metadata": {},
   "outputs": [],
   "source": [
    "#gff_reader\n",
    "i = 0\n",
    "with open(out_file, \"w\") as fw: \n",
    "    with open(input_gff) as fh:\n",
    "        for line in fh:\n",
    "            if line.startswith(\"#\"):\n",
    "                continue\n",
    "            if line.startswith(\">\"): # to read until fasta part starts\n",
    "                break\n",
    "            line = line.strip().split(\"\\t\")\n",
    "            if not \"gene\" in line[8]:\n",
    "                continue\n",
    "            gene = line[8].split(\"gene\")[1].split(\";\")[0][1:]\n",
    "            contig = line[0]\n",
    "            start = int(line[3])\n",
    "            stop = int(line[4])\n",
    "            strain = line[6]\n",
    "            product = line[8].split(\";\")[-1]\n",
    "            new_header = \">%s:%s:%s:%s:%s:%s\" % (gene, prefix, contig, start, stop, product)\n",
    "            i+=1\n",
    "            for header, seq in fasta.items():\n",
    "                if header == \">\" + contig:\n",
    "                    fw.write(new_header + \"\\n\")\n",
    "                    if strain == \"+\":\n",
    "                        fw.write(seq[start-1:stop] + \"\\n\")\n",
    "                    elif strain == \"-\":\n",
    "                        fw.write(revcomp(seq[start-1:stop]) + \"\\n\") #add reverce compliment\n",
    "fw.close()"
   ]
  },
  {
   "cell_type": "code",
   "execution_count": 122,
   "metadata": {},
   "outputs": [],
   "source": []
  },
  {
   "cell_type": "code",
   "execution_count": null,
   "metadata": {},
   "outputs": [],
   "source": []
  },
  {
   "cell_type": "code",
   "execution_count": 121,
   "metadata": {},
   "outputs": [
    {
     "ename": "SyntaxError",
     "evalue": "invalid syntax (<ipython-input-121-00620f6fd8e9>, line 1)",
     "output_type": "error",
     "traceback": [
      "\u001b[0;36m  File \u001b[0;32m\"<ipython-input-121-00620f6fd8e9>\"\u001b[0;36m, line \u001b[0;32m1\u001b[0m\n\u001b[0;31m    21/4.2f\u001b[0m\n\u001b[0m          ^\u001b[0m\n\u001b[0;31mSyntaxError\u001b[0m\u001b[0;31m:\u001b[0m invalid syntax\n"
     ]
    }
   ],
   "source": []
  },
  {
   "cell_type": "code",
   "execution_count": null,
   "metadata": {},
   "outputs": [],
   "source": []
  }
 ],
 "metadata": {
  "kernelspec": {
   "display_name": "Python 3",
   "language": "python",
   "name": "python3"
  },
  "language_info": {
   "codemirror_mode": {
    "name": "ipython",
    "version": 3
   },
   "file_extension": ".py",
   "mimetype": "text/x-python",
   "name": "python",
   "nbconvert_exporter": "python",
   "pygments_lexer": "ipython3",
   "version": "3.7.7"
  }
 },
 "nbformat": 4,
 "nbformat_minor": 4
}
