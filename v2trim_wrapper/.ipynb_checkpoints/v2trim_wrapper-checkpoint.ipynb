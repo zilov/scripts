{
 "cells": [
  {
   "cell_type": "code",
   "execution_count": null,
   "id": "convinced-jungle",
   "metadata": {},
   "outputs": [],
   "source": [
    "# обще задачи:\n",
    "# 1) написать костыль - DONE\n",
    "# 2) разбить unzip and prepare на две функции - DONE\n",
    "# 3) добавить аргумент на распаковку архивов - DONE\n",
    "# 4) добавить два мода - PE и SE - DONE\n",
    "# 5) добавить unzip, tar, gunzip в зависимости - DONE\n",
    "# 6) добавить argparse usage -"
   ]
  },
  {
   "cell_type": "code",
   "execution_count": 16,
   "id": "featured-highlight",
   "metadata": {},
   "outputs": [],
   "source": [
    "import argparse\n",
    "import os\n",
    "import os.path\n",
    "from inspect import getsourcefile\n",
    "from os.path import abspath"
   ]
  },
  {
   "cell_type": "code",
   "execution_count": 14,
   "id": "wound-currency",
   "metadata": {},
   "outputs": [],
   "source": [
    "def check_input_and_output(trim_in_file, trim_out_file):\n",
    "    #check for input_file\n",
    "    check_in_file = os.path.exists(trim_in_file)\n",
    "    if check_in_file:\n",
    "        if os.path.getsize(trim_in_file) == 0:\n",
    "            print(trim_in_file + \" file is empty!\")\n",
    "            return False\n",
    "    else:\n",
    "        print(\"Cannot find %s, please check it.\" % trim_in_file)\n",
    "        return False\n",
    "    #check for output_file, returns True if everything is okay\n",
    "    check_out_file = os.path.exists(trim_out_file)\n",
    "    if check_out_file:\n",
    "        if os.path.getsize(trim_out_file) > 0:\n",
    "            rerun = input(\"U've already done Trimming. Do you want to rerun? [y/n]\")\n",
    "            if rerun == \"y\":\n",
    "                remove_output = \"rm %s\" % trim_out_file\n",
    "                os.system(remove_output)\n",
    "                return check_input_and_output(trim_in_file, trim_out_file)\n",
    "    else:\n",
    "        return True"
   ]
  },
  {
   "cell_type": "code",
   "execution_count": null,
   "id": "educated-airfare",
   "metadata": {},
   "outputs": [],
   "source": [
    "def unzip(file):\n",
    "    if file.endswith(\".tar.gz\"):\n",
    "        command = \"tar xfvz %s\" % (file)\n",
    "        print(command)\n",
    "        os.system(command)\n",
    "        file = file.replace(\".tar.gz\", \"\")\n",
    "    if file.endswith(\".gz\"):\n",
    "        command = \"gzip -d %s\" % (file)\n",
    "        print(command)\n",
    "        os.system(command)\n",
    "        file = file.replace(\".gz\", \"\")\n",
    "    if file.endswith(\".zip\"):\n",
    "        command = \"unzip %s\" % (file)\n",
    "        print(command)\n",
    "        os.system(command)\n",
    "        file = file.replace(\".zip\", \"\")\n",
    "    return file"
   ]
  },
  {
   "cell_type": "code",
   "execution_count": 4,
   "id": "comic-nomination",
   "metadata": {},
   "outputs": [],
   "source": [
    "# сделать две функции - unzip и prepare\n",
    "def prepare_in_file(file_path):\n",
    "    \"\"\"\n",
    "    V2_trim needs spicific pattern for input files, function renames input files\n",
    "    by pattern to make it runnable\n",
    "    \n",
    "    Pattern is - file name must end with \"_{1 or 2}.fasta\", where {1 or 2} is read direction\n",
    "    1 - forward read, 2 - reverse read.\n",
    "    \"\"\"\n",
    "    file_name = os.path.split(file_path)[1]\n",
    "    \n",
    "    # define the pattern\n",
    "    if \"_R1\" in file_name:\n",
    "        in_pattern = \"_R1\"\n",
    "        out_pattern = \"_1.fastq\"\n",
    "    elif \"_R2\" in file_name:\n",
    "        in_pattern = \"_R2\"\n",
    "        out_pattern = \"_2.fastq\"\n",
    "    else: \n",
    "        print(file_path + \" should have '_R1' or '_R2' to run v2trim\")\n",
    "        return False\n",
    "    # rename by pattern\n",
    "    while True:\n",
    "        if file.endswith(out_pattern):\n",
    "            print(\"Prepare of %s is done!\" % file)\n",
    "            break\n",
    "        else:\n",
    "            file_dir = os.path.split(file)[0]\n",
    "            file_prefix = file_name.split(in_pattern)[0] # prefix without _R1 or _R2\n",
    "            new_file = os.path.join(file_dir, file_prefix, out_pattern)\n",
    "            os.rename(file_path, new_file)\n",
    "            file = new_file\n",
    "    return file"
   ]
  },
  {
   "cell_type": "code",
   "execution_count": 15,
   "id": "blond-interface",
   "metadata": {},
   "outputs": [],
   "source": [
    "def v2trim_runner(v2trim_dir, trim_in_prefix, trim_out_prefix, threads, adapters_file,mode = \"fastq\", param = \"0\"):\n",
    "    command = \"V2_trim.exe %s %s %s %s %s %s\" % (v2trim_dir, trim_in_prefix, trim_out_prefix, threads, param, mode, adapters_file)            \n",
    "    print(command)\n",
    "    os.system(command)"
   ]
  },
  {
   "cell_type": "code",
   "execution_count": 10,
   "id": "democratic-memorabilia",
   "metadata": {},
   "outputs": [],
   "source": [
    "def rename(file1, file2):\n",
    "    if not os.path.exists(file2):\n",
    "        command = \"mv %s %s\" % (file1, file2)\n",
    "        print(command)\n",
    "        os.system(command)\n",
    "    assert os.path.exists(file2)"
   ]
  },
  {
   "cell_type": "code",
   "execution_count": 12,
   "id": "hindu-latino",
   "metadata": {},
   "outputs": [
    {
     "ename": "IndentationError",
     "evalue": "unexpected indent (<ipython-input-12-8ec7270b3898>, line 57)",
     "output_type": "error",
     "traceback": [
      "\u001b[0;36m  File \u001b[0;32m\"<ipython-input-12-8ec7270b3898>\"\u001b[0;36m, line \u001b[0;32m57\u001b[0m\n\u001b[0;31m    if rr:\u001b[0m\n\u001b[0m    ^\u001b[0m\n\u001b[0;31mIndentationError\u001b[0m\u001b[0;31m:\u001b[0m unexpected indent\n"
     ]
    }
   ],
   "source": [
    "def main_pe():\n",
    "    \"\"\"Runs v2trim on pair-end reads\"\"\"\n",
    "    # Check up inputs and outputs\n",
    "    inputs = [fr, rr]\n",
    "    outputs = [trim_out_file_1, trim_out_file_2]\n",
    "    for i in range(inputs):\n",
    "        check = check_input_and_output(inputs[i], outputs[i])\n",
    "        if not check: return \"Input and output files check failed!\"\n",
    "    \n",
    "    # Unzipping\n",
    "    if unzip_files:\n",
    "        fr = unzip(fr)\n",
    "        rr = unzip(rr)\n",
    "    \n",
    "    # Preparing file    \n",
    "    raw_fastq_1 = prepare(fr)\n",
    "    raw_fastq_2 = prepare(rr)\n",
    "    \n",
    "    #Running v2trim\n",
    "    v2trim_runner(v2trim_dir, trim_in_prefix, trim_out_prefix, threads, adapters_file)\n",
    "    rename(raw_fastq_1, fr)\n",
    "    rename(raw_fastq_2, fr)\n",
    "    \n",
    "    print(\"\\n\\nPlease cite us https://github.com/aglabx/v2trim\\n\\n\")\n",
    "    print(\"DONE!\")"
   ]
  },
  {
   "cell_type": "code",
   "execution_count": null,
   "id": "clean-crystal",
   "metadata": {},
   "outputs": [],
   "source": [
    "def main_se():\n",
    "    \"\"\"Runs v2trim on single-end reads\"\"\"\n",
    "    # Check up inputs and outputs\n",
    "    inputs = [fr]\n",
    "    outputs = [trim_out_file_1]\n",
    "    for i in range(inputs):\n",
    "        check = check_input_and_output(inputs[i], outputs[i])\n",
    "        if not check: return \"Input and output files check failed!\"\n",
    "    \n",
    "    # Unzipping\n",
    "    if unzip_files:\n",
    "        fr = unzip(fr)\n",
    "    \n",
    "    # Preparing file    \n",
    "    raw_fastq_1 = prepare(fr)\n",
    "    if not raw_fastq_1:\n",
    "        return \"Please rename input file\"\n",
    "    \n",
    "    #Running v2trim\n",
    "    v2trim_runner(v2trim_dir, trim_in_prefix, trim_out_prefix, threads, adapters_file, mode=\"fastq_se\")\n",
    "    rename(raw_fastq_1, fr)\n",
    "    \n",
    "    print(\"\\n\\nPlease cite us https://github.com/aglabx/v2trim\\n\\n\")\n",
    "    print(\"DONE!\")"
   ]
  },
  {
   "cell_type": "code",
   "execution_count": 19,
   "id": "optional-document",
   "metadata": {},
   "outputs": [
    {
     "name": "stderr",
     "output_type": "stream",
     "text": [
      "usage: ipykernel_launcher.py [-h] -1 FORWARD_READS [-2 REVERSE_READS]\n",
      "                             [-o OUTDIR] [-p PREFIX] [-t THREADS]\n",
      "                             [-a ADAPTERS] [-u UNZIP]\n",
      "ipykernel_launcher.py: error: the following arguments are required: -1/--forward_reads\n"
     ]
    },
    {
     "ename": "SystemExit",
     "evalue": "2",
     "output_type": "error",
     "traceback": [
      "An exception has occurred, use %tb to see the full traceback.\n",
      "\u001b[0;31mSystemExit\u001b[0m\u001b[0;31m:\u001b[0m 2\n"
     ]
    }
   ],
   "source": [
    "if __name__ == '__main__':\n",
    "    \n",
    "    parser = argparse.ArgumentParser(description='v2trim fast and accurate Illumina adapters trimming')\n",
    "    parser.add_argument('-1','--forward_reads', help='Forward reads file (or single-end) in fastq|fq|gz|tar.gz format', required=True)\n",
    "    parser.add_argument('-2','--reverse_reads', help='Reverse reads file in fastq|fq|gz|tar.gz format', required=False, default=False)\n",
    "    parser.add_argument('-o','--outdir', help='Ouput folder (default = reads filder)', required=False, default= False)\n",
    "    parser.add_argument('-p','--prefix', help='Output file prefix (default = prefix of original file)', required=False, default=False)\n",
    "    parser.add_argument('-t','--threads', help='Number of threads (default = 8)', required=False, default=\"8\")\n",
    "    parser.add_argument('-a','--adapters', help='File with adapters (default is /path/to/v2trim/data/illumina_ext.data)', required=False, default=\"default\")\n",
    "    parser.add_argument('-u','--unzip', action=\"store_true\", help='Will unzip your files before run (v2trim required unzipped reads)', required=False)\n",
    "    \n",
    "    args = vars(parser.parse_args())\n",
    "    print(args)\n",
    "    fr = os.path.abspath(args[\"forward_reads\"])\n",
    "    threads = args[\"threads\"]\n",
    "    prefix = args[\"prefix\"]\n",
    "    unzip_files = args[\"unzip\"]\n",
    "    \n",
    "    \n",
    "    if args[\"adapters\"] == \"default\":\n",
    "        adapters = v2trim_dir + \"/data/illumina_ext.data\"\n",
    "    else:\n",
    "        adapters = os.path.abspath(args[\"adapters\"])\n",
    "        \n",
    "    if args[\"reverse_reads\"]:\n",
    "        rr = os.path.abspath(args[\"reverse_reads\"])\n",
    "        \n",
    "    if not args[\"outdir\"]:\n",
    "        output_path = \"/\".join(fr.split(\"/\")[:-1])\n",
    "    else: \n",
    "        output_path = os.path.abspath(args[\"outdir\"])\n",
    "        if not os.path.exists(output_path):\n",
    "            os.mkdir(output_path)"
   ]
  },
  {
   "cell_type": "code",
   "execution_count": 2,
   "id": "forty-mustang",
   "metadata": {},
   "outputs": [
    {
     "name": "stdout",
     "output_type": "stream",
     "text": [
      "/media/eternus1/projects/zilov/data/promoters\n"
     ]
    }
   ],
   "source": [
    "import os.path\n",
    "some_path = \"/media/eternus1/projects/zilov/data/promoters/conergent_promoters.fasta\"\n",
    "splitted_path = os.path.split(some_path)\n",
    "print(splitted_path)"
   ]
  },
  {
   "cell_type": "code",
   "execution_count": 5,
   "id": "armed-hybrid",
   "metadata": {},
   "outputs": [
    {
     "ename": "NameError",
     "evalue": "name 'file_name' is not defined",
     "output_type": "error",
     "traceback": [
      "\u001b[0;31m---------------------------------------------------------------------------\u001b[0m",
      "\u001b[0;31mNameError\u001b[0m                                 Traceback (most recent call last)",
      "\u001b[0;32m<ipython-input-5-4bb09a8ca1ee>\u001b[0m in \u001b[0;36m<module>\u001b[0;34m\u001b[0m\n\u001b[0;32m----> 1\u001b[0;31m \u001b[0mfile_dir\u001b[0m \u001b[0;34m=\u001b[0m \u001b[0mos\u001b[0m\u001b[0;34m.\u001b[0m\u001b[0mpath\u001b[0m\u001b[0;34m.\u001b[0m\u001b[0msplit\u001b[0m\u001b[0;34m(\u001b[0m\u001b[0mfile_name\u001b[0m\u001b[0;34m)\u001b[0m\u001b[0;34m[\u001b[0m\u001b[0;36m0\u001b[0m\u001b[0;34m]\u001b[0m\u001b[0;34m\u001b[0m\u001b[0;34m\u001b[0m\u001b[0m\n\u001b[0m\u001b[1;32m      2\u001b[0m \u001b[0mnew_file\u001b[0m \u001b[0;34m=\u001b[0m \u001b[0mos\u001b[0m\u001b[0;34m.\u001b[0m\u001b[0mpath\u001b[0m\u001b[0;34m.\u001b[0m\u001b[0mjoin\u001b[0m\u001b[0;34m(\u001b[0m\u001b[0mfile_dir\u001b[0m\u001b[0;34m,\u001b[0m \u001b[0mfile_name\u001b[0m\u001b[0;34m.\u001b[0m\u001b[0msplit\u001b[0m\u001b[0;34m(\u001b[0m\u001b[0min_pattern\u001b[0m\u001b[0;34m)\u001b[0m\u001b[0;34m[\u001b[0m\u001b[0;36m0\u001b[0m\u001b[0;34m]\u001b[0m\u001b[0;34m,\u001b[0m \u001b[0mout_pattern\u001b[0m\u001b[0;34m)\u001b[0m\u001b[0;34m\u001b[0m\u001b[0;34m\u001b[0m\u001b[0m\n",
      "\u001b[0;31mNameError\u001b[0m: name 'file_name' is not defined"
     ]
    }
   ],
   "source": [
    "file_dir = os.path.split(file_name)[0]\n",
    "new_file = os.path.join(file_dir, file_name.split(in_pattern)[0], out_pattern)"
   ]
  },
  {
   "cell_type": "code",
   "execution_count": 6,
   "id": "subtle-ukraine",
   "metadata": {},
   "outputs": [
    {
     "name": "stdout",
     "output_type": "stream",
     "text": [
      "/media/eternus1/projects/zilov/data/promoters/conergent_promoters.fastashould have '_R1' or '_R2' to run v2trim\n"
     ]
    },
    {
     "data": {
      "text/plain": [
       "False"
      ]
     },
     "execution_count": 6,
     "metadata": {},
     "output_type": "execute_result"
    }
   ],
   "source": [
    "prepare_in_file(some_path)"
   ]
  },
  {
   "cell_type": "code",
   "execution_count": 8,
   "id": "promotional-southwest",
   "metadata": {},
   "outputs": [
    {
     "data": {
      "text/plain": [
       "'/home/dzilov'"
      ]
     },
     "execution_count": 8,
     "metadata": {},
     "output_type": "execute_result"
    }
   ],
   "source": [
    "os.path.dirname()"
   ]
  },
  {
   "cell_type": "code",
   "execution_count": 71,
   "id": "amended-aging",
   "metadata": {},
   "outputs": [
    {
     "name": "stdout",
     "output_type": "stream",
     "text": [
      "/media/eternus1/projects/zilov/soft/aglab_repo_conda/v2trim_git/<ipython-input-71-ddaa4c52f0d4>\n"
     ]
    }
   ],
   "source": [
    "from inspect import getsourcefile\n",
    "execution_folder = os.path.abspath(getsourcefile(lambda: 0))\n",
    "v2trim_folder_generator = os.walk(os.path.dirname(execution_folder))"
   ]
  },
  {
   "cell_type": "code",
   "execution_count": 59,
   "id": "critical-contamination",
   "metadata": {},
   "outputs": [
    {
     "name": "stdout",
     "output_type": "stream",
     "text": [
      "/media/eternus1/projects/zilov/soft/aglab_repo_conda/v2trim_git/data/V2_trim.exe\n"
     ]
    }
   ],
   "source": [
    "for directory,subdirs,files in v2trim_folder_generator:\n",
    "    for file in files:\n",
    "        if \"V2_trim.exe\" in file:\n",
    "            print(os.path.join(directory, file))"
   ]
  },
  {
   "cell_type": "markdown",
   "id": "disabled-obligation",
   "metadata": {},
   "source": [
    "os.getcwd()"
   ]
  },
  {
   "cell_type": "code",
   "execution_count": 64,
   "id": "natural-vegetation",
   "metadata": {},
   "outputs": [],
   "source": [
    "os.chdir(os.path.abspath(\"./\"))"
   ]
  },
  {
   "cell_type": "code",
   "execution_count": 66,
   "id": "closed-burton",
   "metadata": {},
   "outputs": [
    {
     "data": {
      "text/plain": [
       "b'/media/eternus1/projects/zilov/soft/aglab_repo_conda/v2trim_git'"
      ]
     },
     "execution_count": 66,
     "metadata": {},
     "output_type": "execute_result"
    }
   ],
   "source": [
    "os.getcwdb()"
   ]
  },
  {
   "cell_type": "code",
   "execution_count": 67,
   "id": "linear-samba",
   "metadata": {},
   "outputs": [
    {
     "data": {
      "text/plain": [
       "'/media/eternus1/projects/zilov/soft/aglab_repo_conda/v2trim_git'"
      ]
     },
     "execution_count": 67,
     "metadata": {},
     "output_type": "execute_result"
    }
   ],
   "source": [
    "os.path.abspath(\"./\")"
   ]
  },
  {
   "cell_type": "code",
   "execution_count": null,
   "id": "hungarian-citizen",
   "metadata": {},
   "outputs": [],
   "source": []
  }
 ],
 "metadata": {
  "kernelspec": {
   "display_name": "Python 3",
   "language": "python",
   "name": "python3"
  },
  "language_info": {
   "codemirror_mode": {
    "name": "ipython",
    "version": 3
   },
   "file_extension": ".py",
   "mimetype": "text/x-python",
   "name": "python",
   "nbconvert_exporter": "python",
   "pygments_lexer": "ipython3",
   "version": "3.7.9"
  }
 },
 "nbformat": 4,
 "nbformat_minor": 5
}
