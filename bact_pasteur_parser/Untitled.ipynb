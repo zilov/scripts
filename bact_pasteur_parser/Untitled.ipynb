{
 "cells": [
  {
   "cell_type": "code",
   "execution_count": 41,
   "metadata": {},
   "outputs": [],
   "source": [
    "amr_file = \"/home/dzilov/prokaryotic_pipeline/data/styphy92/funcan/unicycler/ncbi_report.txt\"\n",
    "virulence_file = \"/home/dzilov/prokaryotic_pipeline/data/styphy92/funcan/unicycler/virulence_report.txt\""
   ]
  },
  {
   "cell_type": "code",
   "execution_count": 42,
   "metadata": {},
   "outputs": [
    {
     "name": "stdout",
     "output_type": "stream",
     "text": [
      "dfrA7,catA1,tet(B),aph(6)-Id,aph(3'')-Ib,sul2,blaTEM-1,sul1,\n"
     ]
    }
   ],
   "source": [
    "ncbi_genes = \"\"\n",
    "with open(amr_file) as fh:\n",
    "    for line in fh:\n",
    "        if line.startswith(\"#\"):\n",
    "            continue\n",
    "        else:\n",
    "            line = line.strip().split(\"\\t\")\n",
    "            gene = line[5]\n",
    "            ncbi_genes += gene + \",\"\n",
    "print(ncbi_genes)"
   ]
  },
  {
   "cell_type": "code",
   "execution_count": 43,
   "metadata": {},
   "outputs": [],
   "source": [
    "virulence_genes = \"\"\n",
    "with open(virulence_file) as fh:\n",
    "    for line in fh:\n",
    "        if line.startswith(\"#\"):\n",
    "            continue\n",
    "        else:\n",
    "            line = line.strip().split(\"\\t\")\n",
    "            gene = line[5]\n",
    "            virulence_genes += gene + \",\""
   ]
  },
  {
   "cell_type": "code",
   "execution_count": 44,
   "metadata": {},
   "outputs": [
    {
     "data": {
      "text/plain": [
       "'mgtC,mgtB,misL,steA,sifB,entA,entB,fepG,fepC,fimF,fimH,fimD,fimC,fimI,sopA,sseL,vexE,vexD,vexC,vexB,vexA,tviE,tviD,tviC,tviB,ssaU,ssaT,ssaS,ssaR,ssaQ,ssaP,ssaO,ssaN,ssaV,ssaM,ssaL,ssaK,ssaJ,ssaI,ssaH,ssaG,sseG,sseF,sscB,sseE,sseD,sseC,sscA,sseB,sseA,ssaE,ssaD,ssaC,spiC/ssaB,sspH2,steC,sifA,pipB,sopB/sigD,csgG,csgF,csgE,csgD,csgC,csgA,mig-14,pipB2,cdtB,ompA,sopD2,sopE2,slrP,sopD,invH,invF,invG,invE,invA,invB,invC,invI,invJ,spaO,spaP,spaQ,spaR,spaS,sicA,sipB/sspB,sipC/sspC,sipD,sipA/sspA,sicP,sptP,prgH,prgI,prgJ,prgK,orgA,orgB,orgC,sinH,ratB,'"
      ]
     },
     "execution_count": 44,
     "metadata": {},
     "output_type": "execute_result"
    }
   ],
   "source": [
    "virulence_genes"
   ]
  },
  {
   "cell_type": "code",
   "execution_count": null,
   "metadata": {},
   "outputs": [],
   "source": []
  }
 ],
 "metadata": {
  "kernelspec": {
   "display_name": "Python 3",
   "language": "python",
   "name": "python3"
  },
  "language_info": {
   "codemirror_mode": {
    "name": "ipython",
    "version": 3
   },
   "file_extension": ".py",
   "mimetype": "text/x-python",
   "name": "python",
   "nbconvert_exporter": "python",
   "pygments_lexer": "ipython3",
   "version": "3.7.7"
  }
 },
 "nbformat": 4,
 "nbformat_minor": 4
}
