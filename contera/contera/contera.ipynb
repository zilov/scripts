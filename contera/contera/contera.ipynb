{
 "cells": [
  {
   "cell_type": "code",
   "execution_count": 3,
   "metadata": {},
   "outputs": [],
   "source": [
    "import os\n",
    "import os.path\n",
    "from collections import Counter"
   ]
  },
  {
   "cell_type": "code",
   "execution_count": 166,
   "metadata": {},
   "outputs": [],
   "source": [
    "#input\n",
    "blast_db = \"/mnt/data/ncbi/blast/db/nt\"\n",
    "scaffold = \"/home/dzilov/scripts/contera/test_data/scaffolds.fasta\"\n",
    "adapters_db = \"adapters_db/adaptor_fasta.fna\"\n",
    "threads = 100\n",
    "\n",
    "blastn_taxid_out = \"/home/dzilov/scripts/contera/results/Ecoli19.outfmt6\"\n",
    "output = \"/home/dzilov/scripts/contera/results/\"\n",
    "scaforarg = scaffold.split(\"/\")[-1].split(\".\")[0]\n",
    "prefix = blastn_taxid_out.split(\"/\")[-1].split(\".\")[0]\n",
    "\n",
    "scaffolds_filtered = output + scaforarg + \"_filtered.fasta\"\n",
    "contera_report = output + prefix + \".contera_report.txt\"\n",
    "vectors_log = output + prefix + \".vectors.tsv\"\n",
    "phages_log = output + prefix + \".phages.tsv\"\n",
    "adapters_report = output + prefix + \".adapters_report.outfmt6\""
   ]
  },
  {
   "cell_type": "code",
   "execution_count": 186,
   "metadata": {},
   "outputs": [
    {
     "data": {
      "text/plain": [
       "'/home/dzilov/scripts/contera/results'"
      ]
     },
     "execution_count": 186,
     "metadata": {},
     "output_type": "execute_result"
    }
   ],
   "source": [
    "os.path.abspath(\"./results/\")"
   ]
  },
  {
   "cell_type": "code",
   "execution_count": 167,
   "metadata": {},
   "outputs": [],
   "source": [
    "#нужно получить из бласта:\n",
    "# 1) Процентное отношение бактерий в сборке (каунтер по sscinames)\n",
    "# 2) Три самых часто встречающихся айди таксона (каунтер по staxids)\n",
    "# 3) Части контигов, которые нужно удалить (от qstart до qend в контиге qseqid)\n",
    "\n",
    "# итог работы контеры\n",
    "# 1) Таксон бактерии\n",
    "# 2) Контаминации в контигах (или гор. перенос)\n",
    "# 3) Адаптеры - проверка на наличие, если есть - удаление\n",
    "# 4) Референсный геном и аннотация для дальнейших действий"
   ]
  },
  {
   "cell_type": "code",
   "execution_count": 168,
   "metadata": {},
   "outputs": [
    {
     "name": "stdout",
     "output_type": "stream",
     "text": [
      "blastn -db nt -query /home/dzilov/scripts/contera/test_data/scaffolds.fasta -evalue 0.00001 -outfmt '6 qseqid sallacc pident qstart qend length evalue sscinames staxids' -max_target_seqs 5 -num_threads 100 -out /home/dzilov/scripts/contera/results/Ecoli19.outfmt6\n"
     ]
    }
   ],
   "source": [
    "# В RULES/CLEANING.SF BLAST, НЕ ПИХАТЬ В КОНЕЧНЫЙ СКРИПТ\n",
    "\n",
    "command = \"\"\"blastn \\\n",
    "-db nt \\\n",
    "-query %s \\\n",
    "-evalue 0.00001 \\\n",
    "-outfmt '6 qseqid sallacc pident qstart qend length evalue sscinames staxids' \\\n",
    "-max_target_seqs 5 \\\n",
    "-num_threads %s \\\n",
    "-out %s\"\"\" % (scaffold, threads, blastn_taxid_out)\n",
    "\n",
    "print(command)\n",
    "#os.system(command)\n",
    "\n",
    "# ФАЙЛ БЛАСТА ИДЕТ ДАЛЬШЕ КАК ИНПУТ В КОНТЕРУ"
   ]
  },
  {
   "cell_type": "code",
   "execution_count": 169,
   "metadata": {},
   "outputs": [],
   "source": [
    "# ПЕРВАЯ СТАДИЯ, ЧИТАЕМ БЛАСТ, НАХОДИМ ДЛИНУ УЧАСТКОВ ПО БАКТЕРИЯМ И ТАКСОНАМ\n",
    "\n",
    "bact_taxid = {}\n",
    "contigs = {} # ЗАПИСАВАЕМ КОНТИГИ В СЛОВАРЬ, ДАЛЬШЕ ЕГО ИСПОЛЬЗУЕМ ДЛЯ ПОИСКА КОНТАМИНАЦИЙ\n",
    "\n",
    "vectors = []\n",
    "phages = []\n",
    "\n",
    "bact_length = Counter()\n",
    "taxid_length = Counter()\n",
    "total_length = 0\n",
    "\n",
    "bact_seq = {}\n",
    "with open(blastn_taxid_out) as fh:\n",
    "    for line in fh:\n",
    "        line = line.strip().split(\"\\t\")\n",
    "        #Column names\n",
    "        contig = line[0]\n",
    "        contigs[contig] = []\n",
    "        ident = float(line[2])\n",
    "        start = line[3]\n",
    "        end = line[4]\n",
    "        length = int(line[5])\n",
    "        bact_full_name = line[7]\n",
    "        bacteria = \" \".join(line[7].split(\" \")[:2])\n",
    "        taxid = line[8]\n",
    "        \n",
    "        if \"vector\" in bact_full_name or \"Vector\" in bact_full_name:\n",
    "            vectors.append(line)\n",
    "        if \"phage\" in bact_full_name or \"Phage\" in bact_full_name:\n",
    "            phages.append(line)\n",
    "        \n",
    "        bact_length[bacteria] += length\n",
    "        taxid_length[taxid] += length\n",
    "        total_length += length\n",
    "        \n",
    "        bact_seq[bacteria] = contig + \":\" + start + \"..\" + end"
   ]
  },
  {
   "cell_type": "code",
   "execution_count": null,
   "metadata": {},
   "outputs": [],
   "source": []
  },
  {
   "cell_type": "code",
   "execution_count": 170,
   "metadata": {},
   "outputs": [
    {
     "name": "stdout",
     "output_type": "stream",
     "text": [
      "Bacterial content is: [('Escherichia coli', 98.64001261692864), ('Salmonella enterica', 0.4629528003266352), ('Shigella sonnei', 0.31416017217919956), ('uncultured bacterium', 0.16100092499377766), ('Shigella boydii', 0.10910131062736461)]\n",
      "Most common taxon ID is: [('562', 28597003), ('696406', 209852), ('624', 93026), ('59201', 88522), ('216592', 81464)]\n"
     ]
    }
   ],
   "source": [
    "# ШАГ 2. НАХОДИМ НАЗВАНИЕ НАШЕЙ БАКТЕРИИ И ЕЕ ТАКСОН \n",
    "\n",
    "target_bact_seq = {}\n",
    "bact_perc = Counter()\n",
    "for bact, length in bact_length.most_common():\n",
    "    bact_perc[bact] = length/total_length * 100\n",
    "    \n",
    "target_bact_sciname = bact_perc.most_common(1)[0][0]\n",
    "    \n",
    "print(\"Bacterial content is:\", bact_perc.most_common(5))\n",
    "print(\"Most common taxon ID is:\", taxid_length.most_common(5))\n",
    "\n",
    "# ЗАПИСЫВАЕМ В ФАЙЛ\n",
    "\n",
    "\n",
    "bacteria_id = []\n",
    "for i in taxid_length.most_common()[:3]:\n",
    "    bacteria_id.append(str(i[0]) + \" = \" + str(i[1]/total_length * 100) + \"%\")"
   ]
  },
  {
   "cell_type": "code",
   "execution_count": 171,
   "metadata": {},
   "outputs": [],
   "source": [
    "# ШАГ 3. ЗАПИСЫВАЕМ КОНТАМИНАЦИИ В СЛОВАРЬ\n",
    "\n",
    "for node, position in contigs.items():\n",
    "    with open(blastn_taxid_out) as fh:\n",
    "        for line in fh:\n",
    "            line = line.strip().split(\"\\t\")\n",
    "            \n",
    "            #column names\n",
    "            contig = line[0]\n",
    "            ident = float(line[2])\n",
    "            start = line[3]\n",
    "            end = line[4]\n",
    "            bacteria = \" \".join(line[7].split(\" \")[:2])\n",
    "\n",
    "            if contig == node and bacteria != target_bact_sciname and ident > 80:\n",
    "                if start + \":\" + end + \":\" + bacteria in position:\n",
    "                    continue\n",
    "                else:\n",
    "                    position.append(start + \":\" + end + \":\" + bacteria)\n",
    "                break\n",
    "        fh.close()"
   ]
  },
  {
   "cell_type": "code",
   "execution_count": 172,
   "metadata": {},
   "outputs": [],
   "source": [
    "#ФИЛЬТРУЕМ НАЙДЕННЫЕ КОНТАМИНАЦИИ, ВЛОЖЕННЫЕ УДЛИННЯЕМ\n",
    "delete_seq = {}\n",
    "\n",
    "for node, position in contigs.items():\n",
    "    if position:\n",
    "        position.sort(key=lambda x : (int(x.split(\":\")[0]), -1 * int(x.split(\":\")[1])))\n",
    "        delete_seq[node] = []\n",
    "        \n",
    "        i = 1\n",
    "        ps,pe = map(int, position[0].split(\":\")[:2])\n",
    "        bac = position[i-1].split(\":\")[2]\n",
    "        while i < len(position):\n",
    "            bac = position[i-1].split(\":\")[2]\n",
    "            s,e = map(int, position[i].split(\":\")[:2])\n",
    "            if pe + 1 < s:\n",
    "                delete_seq[node].append((ps, pe, bac))\n",
    "                ps, pe = s, e\n",
    "                i += 1\n",
    "                continue\n",
    "            \n",
    "            pe = max(e, pe)\n",
    "            i += 1\n",
    "        delete_seq[node].append((ps, pe, bac))"
   ]
  },
  {
   "cell_type": "code",
   "execution_count": 173,
   "metadata": {},
   "outputs": [
    {
     "name": "stdout",
     "output_type": "stream",
     "text": [
      "\n",
      "blastn -query /home/dzilov/scripts/contera/test_data/scaffolds.fasta                     -db adapters_db/adaptor_fasta.fna                     -outfmt 6                     -max_target_seqs 1000                     -task blastn                     -reward 1                     -penalty                     -5                     -gapopen 3                     -gapextend 3                     -dust yes                     -soft_masking true                     -evalue 0.00001                     -searchsp 1750000000000                     -out /home/dzilov/scripts/contera/results/Ecoli19.adapters_report.outfmt6\n",
      "          \n"
     ]
    },
    {
     "data": {
      "text/plain": [
       "0"
      ]
     },
     "execution_count": 173,
     "metadata": {},
     "output_type": "execute_result"
    }
   ],
   "source": [
    "# ШАГ 4, УДАЛЯЕМ АДАПТЕРЫ И ПОСЛЕ ЭТОГО КОНТИГИ ДЛИНОЙ МЕНЬШЕ 200 БП\n",
    "\n",
    "# БЛАСТИМ ГЕНОМ НА АДАПТЕРЫ\n",
    "\n",
    "command = \"\"\"\n",
    "blastn -query %s \\\n",
    "                    -db %s \\\n",
    "                    -outfmt 6 \\\n",
    "                    -max_target_seqs 1000 \\\n",
    "                    -task blastn \\\n",
    "                    -reward 1 \\\n",
    "                    -penalty \\\n",
    "                    -5 \\\n",
    "                    -gapopen 3 \\\n",
    "                    -gapextend 3 \\\n",
    "                    -dust yes \\\n",
    "                    -soft_masking true \\\n",
    "                    -evalue 0.00001 \\\n",
    "                    -searchsp 1750000000000 \\\n",
    "                    -out %s\n",
    "          \"\"\" % (scaffold, adapters_db, adapters_report)\n",
    "\n",
    "print(command)\n",
    "os.system(command)"
   ]
  },
  {
   "cell_type": "code",
   "execution_count": 184,
   "metadata": {
    "scrolled": true
   },
   "outputs": [],
   "source": [
    "adapters_to_del = {}\n",
    "with open(adapters_report) as fh:\n",
    "    for line in fh:\n",
    "        line = line.strip().split()\n",
    "        ids = line[1].split(\":\")[1]\n",
    "        contig = line[0]\n",
    "        start = line[6]\n",
    "        stop = line[7]\n",
    "        adapters_to_del[contig] = start + \":\" + stop       "
   ]
  },
  {
   "cell_type": "code",
   "execution_count": 175,
   "metadata": {},
   "outputs": [
    {
     "data": {
      "text/plain": [
       "{'NODE_24_length_83879_cov_151.567616': [(8822, 77701, 'Salmonella enterica')],\n",
       " 'NODE_28_length_57865_cov_145.685181': [(36430,\n",
       "   51308,\n",
       "   'Salmonella enterica')],\n",
       " 'NODE_42_length_33347_cov_94.659211': [(1, 25898, 'Shigella boydii')],\n",
       " 'NODE_60_length_10022_cov_102.927236': [(127, 10022, 'Shigella flexneri')],\n",
       " 'NODE_62_length_8413_cov_159.049481': [(1085, 7163, 'Salmonella enterica')],\n",
       " 'NODE_70_length_6173_cov_83.144393': [(127, 6173, 'Klebsiella pneumoniae')],\n",
       " 'NODE_72_length_5579_cov_89.099230': [(1, 5579, 'Klebsiella pneumoniae')],\n",
       " 'NODE_81_length_4218_cov_650.290638': [(1895, 4218, 'Salmonella enterica')],\n",
       " 'NODE_84_length_3906_cov_96.758137': [(80, 3906, 'uncultured bacterium')],\n",
       " 'NODE_85_length_3820_cov_224.504197': [(1, 3820, 'Shigella flexneri')],\n",
       " 'NODE_94_length_2849_cov_109.915871': [(1, 2849, 'Enterobacter hormaechei')],\n",
       " 'NODE_98_length_2440_cov_76.616515': [(1, 2440, 'Enterobacter hormaechei')],\n",
       " 'NODE_102_length_2199_cov_127.539575': [(122, 2199, 'Shigella flexneri')],\n",
       " 'NODE_109_length_1509_cov_257.509407': [(1, 1509, 'Shigella flexneri')],\n",
       " 'NODE_111_length_1372_cov_170.995181': [(1, 1372, 'Shigella flexneri')],\n",
       " 'NODE_112_length_1369_cov_105.522544': [(1, 1369, 'Escherichia albertii')],\n",
       " 'NODE_113_length_1340_cov_203.831822': [(1, 1340, 'Klebsiella pneumoniae')],\n",
       " 'NODE_125_length_967_cov_260.155952': [(1, 967, 'Escherichia albertii')],\n",
       " 'NODE_131_length_704_cov_251.991334': [(1, 704, 'Shigella sonnei')],\n",
       " 'NODE_136_length_569_cov_364.022624': [(1, 569, 'Salmonella enterica')],\n",
       " 'NODE_144_length_531_cov_98.707921': [(1, 531, 'Shigella sonnei')],\n",
       " 'NODE_145_length_530_cov_828.967742': [(1, 530, 'Providencia rettgeri')],\n",
       " 'NODE_164_length_253_cov_106.603175': [(1, 253, 'Klebsiella pneumoniae')]}"
      ]
     },
     "execution_count": 175,
     "metadata": {},
     "output_type": "execute_result"
    }
   ],
   "source": [
    "delete_seq"
   ]
  },
  {
   "cell_type": "code",
   "execution_count": 176,
   "metadata": {},
   "outputs": [],
   "source": [
    "fasta = {}\n",
    "header = None\n",
    "with open(scaffold) as fh:\n",
    "    for i, line in enumerate(fh):\n",
    "        line = line.strip()\n",
    "        if line.startswith(\">\"):\n",
    "            if header:\n",
    "                fasta[header]=\"\".join(seq)\n",
    "            header = line\n",
    "            seq = []\n",
    "        else:\n",
    "            seq.append(line)\n",
    "if header:\n",
    "    fasta[header] = \"\".join(seq)"
   ]
  },
  {
   "cell_type": "code",
   "execution_count": 177,
   "metadata": {},
   "outputs": [],
   "source": [
    "for contig, position in adapters_to_del.items():\n",
    "    start = int(position.split(\":\")[0])-1\n",
    "    stop = int(position.split(\":\")[1])\n",
    "    for key, value in fasta.items():\n",
    "        if key.startswith(\">\" + contig):\n",
    "            line_to_del = value[start:stop]\n",
    "            value = value.replace(line_to_del, \"\")\n",
    "            fasta[key] = value"
   ]
  },
  {
   "cell_type": "code",
   "execution_count": 178,
   "metadata": {},
   "outputs": [],
   "source": [
    "short_contig = []\n",
    "for key, value in fasta.items():\n",
    "    if len(value) < 200:\n",
    "        short_contig.append(key)\n",
    "\n",
    "for i in short_contig:\n",
    "    if i in fasta.keys():\n",
    "        fasta.pop(i)"
   ]
  },
  {
   "cell_type": "code",
   "execution_count": 179,
   "metadata": {},
   "outputs": [],
   "source": [
    "with open(scaffolds_filtered, \"w\") as fw:\n",
    "    for key, value in fasta.items():\n",
    "        fw.write(key + \"\\n\" + value + \"\\n\")\n",
    "fw.close()"
   ]
  },
  {
   "cell_type": "code",
   "execution_count": 180,
   "metadata": {},
   "outputs": [],
   "source": [
    "with open(contera_report, 'w') as fw:\n",
    "    fw.write(\"BACTERIAL CONTENT OF ASSEMBLY IS:\\n\")\n",
    "    for i in bact_perc.most_common(5):\n",
    "        bact = str(i[0])\n",
    "        perc = str(i[1])\n",
    "        fw.write(bact + \" - \" + perc +\"%\\n\")\n",
    "    \n",
    "    fw.write(\"\\nTHE MOST COMMON ID IS :\\n\" + \", \".join(bacteria_id) + \"\\n\\n\")\n",
    "    \n",
    "    fw.write(\"FOREIGN BACTERIA SITES:\\n\")\n",
    "    for node, position in delete_seq.items():\n",
    "        fw.write(node + \"\\t\")\n",
    "        for i in position:\n",
    "            start_to_stop = \":\".join(str(number) for number in i[:2])\n",
    "            bacteria = i[2]\n",
    "            fw.write(start_to_stop + \"\\t\" + bacteria + \"\\n\")\n",
    "    \n",
    "    fw.write(\"\\n\" + str(len(adapters_to_del)) + \" ADAPTERS WERE REMOVED IN:\\n\")\n",
    "    for node, position in adapters_to_del.items():\n",
    "        fw.write(node + \"\\t\" + position + \"\\n\")\n",
    "        \n",
    "    fw.close()"
   ]
  },
  {
   "cell_type": "code",
   "execution_count": 181,
   "metadata": {},
   "outputs": [],
   "source": [
    "# ШАГ 5, КАЧАЕМ РЕФЕРЕНСНЫЙ ГЕНОМ И АННОТАЦИЮ"
   ]
  },
  {
   "cell_type": "code",
   "execution_count": 182,
   "metadata": {},
   "outputs": [
    {
     "data": {
      "text/plain": [
       "[('Escherichia coli', 98.64001261692864),\n",
       " ('Salmonella enterica', 0.4629528003266352),\n",
       " ('Shigella sonnei', 0.31416017217919956),\n",
       " ('uncultured bacterium', 0.16100092499377766),\n",
       " ('Shigella boydii', 0.10910131062736461),\n",
       " ('Klebsiella pneumoniae', 0.09881121920528885),\n",
       " ('Shigella flexneri', 0.07869707922830056),\n",
       " ('Enterobacter hormaechei', 0.06539459478079268),\n",
       " ('Enterobacter cloacae', 0.02599708689436801),\n",
       " ('Escherichia albertii', 0.018712634253272683)]"
      ]
     },
     "execution_count": 182,
     "metadata": {},
     "output_type": "execute_result"
    }
   ],
   "source": [
    "bact_perc.most_common(10)\n"
   ]
  },
  {
   "cell_type": "code",
   "execution_count": 183,
   "metadata": {},
   "outputs": [
    {
     "name": "stdout",
     "output_type": "stream",
     "text": [
      "12:212\n"
     ]
    }
   ],
   "source": [
    "i = (12, 212)\n",
    "p = \":\".join(str(number) for number in i)\n",
    "print(p)"
   ]
  },
  {
   "cell_type": "code",
   "execution_count": null,
   "metadata": {},
   "outputs": [],
   "source": []
  }
 ],
 "metadata": {
  "kernelspec": {
   "display_name": "Python 3",
   "language": "python",
   "name": "python3"
  },
  "language_info": {
   "codemirror_mode": {
    "name": "ipython",
    "version": 3
   },
   "file_extension": ".py",
   "mimetype": "text/x-python",
   "name": "python",
   "nbconvert_exporter": "python",
   "pygments_lexer": "ipython3",
   "version": "3.7.7"
  }
 },
 "nbformat": 4,
 "nbformat_minor": 4
}
