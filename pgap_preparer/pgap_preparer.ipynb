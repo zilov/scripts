{
 "cells": [
  {
   "cell_type": "markdown",
   "metadata": {},
   "source": [
    "# A tool to prepare assembly file to run PGAP and to create input files - submol.yaml and input.yaml"
   ]
  },
  {
   "cell_type": "code",
   "execution_count": 2,
   "metadata": {},
   "outputs": [],
   "source": [
    "import os"
   ]
  },
  {
   "cell_type": "code",
   "execution_count": 3,
   "metadata": {},
   "outputs": [],
   "source": [
    "#inputs\n",
    "assembly_file = \"/home/dzilov/scripts/pgap_preparer/test_data/scaffolds.fasta\"\n",
    "adapters_file = \"/home/dzilov/scripts/pgap_preparer/adapters_db/adaptor_fasta.fna\"\n",
    "\n",
    "#outputs\n",
    "blast_out = \"/home/dzilov/scripts/pgap_preparer/results/blast_results.outfmt6\"\n",
    "out_assembly = \"/home/dzilov/scripts/pgap_preparer/results/scaffolds_pp.fasta\"\n",
    "submol_yaml =  \"/home/dzilov/scripts/pgap_preparer/results/submol.yaml\"\n",
    "input_yaml =  \"/home/dzilov/scripts/pgap_preparer/results/input.yaml\""
   ]
  },
  {
   "cell_type": "code",
   "execution_count": 4,
   "metadata": {},
   "outputs": [
    {
     "name": "stdout",
     "output_type": "stream",
     "text": [
      "\n",
      "blastn -query /home/dzilov/scripts/pgap_preparer/test_data/scaffolds.fasta                     -db /home/dzilov/scripts/pgap_preparer/adapters_db/adaptor_fasta.fna                     -outfmt 6                     -max_target_seqs 1000                     -task blastn                     -reward 1                     -penalty                     -5                     -gapopen 3                     -gapextend 3                     -dust yes                     -soft_masking true                     -evalue 0.00001                     -searchsp 1750000000000                     -out /home/dzilov/scripts/pgap_preparer/results/blast_results.outfmt6\n",
      "          \n"
     ]
    },
    {
     "data": {
      "text/plain": [
       "0"
      ]
     },
     "execution_count": 4,
     "metadata": {},
     "output_type": "execute_result"
    }
   ],
   "source": [
    "command = \"\"\"\n",
    "blastn -query %s \\\n",
    "                    -db %s \\\n",
    "                    -outfmt 6 \\\n",
    "                    -max_target_seqs 1000 \\\n",
    "                    -task blastn \\\n",
    "                    -reward 1 \\\n",
    "                    -penalty \\\n",
    "                    -5 \\\n",
    "                    -gapopen 3 \\\n",
    "                    -gapextend 3 \\\n",
    "                    -dust yes \\\n",
    "                    -soft_masking true \\\n",
    "                    -evalue 0.00001 \\\n",
    "                    -searchsp 1750000000000 \\\n",
    "                    -out %s\n",
    "          \"\"\" % (assembly_file, adapters_file, blast_out)\n",
    "\n",
    "print(command)\n",
    "os.system(command)"
   ]
  },
  {
   "cell_type": "code",
   "execution_count": 5,
   "metadata": {
    "scrolled": true
   },
   "outputs": [
    {
     "name": "stdout",
     "output_type": "stream",
     "text": [
      "NGB00736.1 NODE_61_length_8737_cov_90.704181 8552 8597\n",
      "NGB00728.1 NODE_148_length_482_cov_0.949296 321 350\n",
      "{'NODE_61_length_8737_cov_90.704181': '8552:8597', 'NODE_148_length_482_cov_0.949296': '321:350'}\n"
     ]
    }
   ],
   "source": [
    "seq_to_del = {}\n",
    "with open(blast_out) as fh:\n",
    "    for line in fh:\n",
    "        line = line.strip().split()\n",
    "        ids = line[1].split(\":\")[1]\n",
    "        contig = line[0]\n",
    "        start = line[6]\n",
    "        stop = line[7]\n",
    "        seq_to_del[contig] = start + \":\" + stop\n",
    "        print(ids, contig, start, stop)\n",
    "print(seq_to_del) "
   ]
  },
  {
   "cell_type": "code",
   "execution_count": 6,
   "metadata": {},
   "outputs": [],
   "source": [
    "fasta = {}\n",
    "header = None\n",
    "with open(assembly_file) as fh:\n",
    "    for i, line in enumerate(fh):\n",
    "        line = line.strip()\n",
    "        if line.startswith(\">\"):\n",
    "            if header:\n",
    "                fasta[header]=\"\".join(seq)\n",
    "            header = line\n",
    "            seq = []\n",
    "        else:\n",
    "            seq.append(line)\n",
    "if header:\n",
    "    fasta[header] = \"\".join(seq)"
   ]
  },
  {
   "cell_type": "code",
   "execution_count": 7,
   "metadata": {},
   "outputs": [],
   "source": [
    "for contig, position in seq_to_del.items():\n",
    "    start = int(position.split(\":\")[0])-1\n",
    "    stop = int(position.split(\":\")[1])\n",
    "    for key, value in fasta.items():\n",
    "        if key.startswith(\">\" + contig):\n",
    "            line_to_del = value[start:stop]\n",
    "            value = value.replace(line_to_del, \"\")\n",
    "            fasta[key] = value"
   ]
  },
  {
   "cell_type": "code",
   "execution_count": 8,
   "metadata": {},
   "outputs": [
    {
     "name": "stdout",
     "output_type": "stream",
     "text": [
      "0\n"
     ]
    }
   ],
   "source": [
    "short_contig = []\n",
    "for key, value in fasta.items():\n",
    "    if len(value) < 200:\n",
    "        short_contig.append(key)\n",
    "\n",
    "for i in short_contig:\n",
    "    if i in fasta.keys():\n",
    "        fasta.pop(i)"
   ]
  },
  {
   "cell_type": "code",
   "execution_count": null,
   "metadata": {},
   "outputs": [],
   "source": []
  },
  {
   "cell_type": "code",
   "execution_count": 27,
   "metadata": {},
   "outputs": [],
   "source": [
    "with open(out_assembly, \"w\") as fw:\n",
    "    for key, value in fasta.items():\n",
    "        fw.write(key + \"\\n\" + value + \"\\n\")\n",
    "fw.close()"
   ]
  },
  {
   "cell_type": "code",
   "execution_count": 42,
   "metadata": {},
   "outputs": [],
   "source": [
    "bact = \"Escherichia coli\"\n",
    "last_name = \"Zilov\"\n",
    "first_name = \"Danil\"\n",
    "email = \"zilov@scamt-itmo.ru\"\n",
    "organization = \"SCAMT Institute, ITMO University\"\n",
    "department = \"Applied Genomics Laboratory\"\n",
    "street = \"9, Lomonosova street\"\n",
    "city = \"Saint-Petersburg\"\n",
    "state = \"Saint-Petersburg\"\n",
    "postal_code = \"191002\"\n",
    "country = \"Russian Federation\"\n",
    "author_last_name = 'Zilov'        \n",
    "author_first_name = 'Danil'"
   ]
  },
  {
   "cell_type": "code",
   "execution_count": null,
   "metadata": {},
   "outputs": [],
   "source": []
  },
  {
   "cell_type": "code",
   "execution_count": null,
   "metadata": {},
   "outputs": [],
   "source": []
  },
  {
   "cell_type": "code",
   "execution_count": 47,
   "metadata": {},
   "outputs": [],
   "source": [
    "with open(submol_yaml, 'w') as fw:\n",
    "    fw.write(\"\"\"comment: 'There is no really a biologist {first_name} {last_name}'\n",
    "consortium: 'SkyNet consortium'\n",
    "organism:\n",
    "    genus_species: '{bact}' \n",
    "    strain: 'replaceme'\n",
    "contact_info:\n",
    "    last_name: '{last_name}'\n",
    "    first_name: '{first_name}'\n",
    "    email: '{email}'\n",
    "    organization: '{organization}'\n",
    "    department: '{department}'\n",
    "    phone: '301-555-0245'\n",
    "    street: '{street}'\n",
    "    city: '{city}'\n",
    "    postal_code: '{postal_code}'\n",
    "    country: '{country}'\n",
    "    \n",
    "authors:\n",
    "    -     author:\n",
    "            first_name: '{author_first_name}'\n",
    "            last_name: '{author_last_name}'\"\"\" .format(bact=bact, last_name=last_name, first_name=first_name,\n",
    "                        email=email, organization=organization, department=department,\n",
    "                        street=street, city=city,postal_code=postal_code,country=country,\n",
    "                        author_last_name=author_last_name, author_first_name=author_first_name))\n",
    "fw.close()"
   ]
  },
  {
   "cell_type": "code",
   "execution_count": 50,
   "metadata": {},
   "outputs": [],
   "source": [
    "with open(input_yaml, 'w') as fw:\n",
    "    fw.write(\"\"\"fasta:\n",
    "    class: File\n",
    "    location: {assembly}\n",
    "submol:\n",
    "  class: File\n",
    "  location: {submol_yaml}\n",
    "    \"\"\".format(assembly=out_assembly, submol_yaml=submol_yaml))\n",
    "fw.close()"
   ]
  },
  {
   "cell_type": "code",
   "execution_count": null,
   "metadata": {},
   "outputs": [],
   "source": []
  }
 ],
 "metadata": {
  "kernelspec": {
   "display_name": "Python 3",
   "language": "python",
   "name": "python3"
  },
  "language_info": {
   "codemirror_mode": {
    "name": "ipython",
    "version": 3
   },
   "file_extension": ".py",
   "mimetype": "text/x-python",
   "name": "python",
   "nbconvert_exporter": "python",
   "pygments_lexer": "ipython3",
   "version": "3.7.7"
  }
 },
 "nbformat": 4,
 "nbformat_minor": 4
}
