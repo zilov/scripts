{
 "cells": [
  {
   "cell_type": "code",
   "execution_count": 2,
   "metadata": {},
   "outputs": [],
   "source": [
    "import os\n",
    "import os.path\n",
    "import glob"
   ]
  },
  {
   "cell_type": "code",
   "execution_count": 224,
   "metadata": {},
   "outputs": [],
   "source": [
    "#inputs\n",
    "work_dir = os.path.abspath(\"/mnt/projects/zilov/metagenomes/usearch/cancer_16s_run_2/\")\n",
    "reads = os.path.abspath(\"/mnt/projects/zilov/data/quiime_metagenome/v16trim_R/*_R1_*.fastq\")\n",
    "\n",
    "common_out = work_dir + \"/common_out/\"\n",
    "uparse_out = work_dir + \"/uparse_out/\"\n",
    "unoise_out = work_dir + \"/unoise_out/\"\n",
    "\n",
    "threads = \"100\"\n",
    "\n",
    "dirs_to_create = [work_dir ,common_out, uparse_out, unoise_out]\n",
    "for folder in dirs_to_create:\n",
    "    if not os.path.exists(folder):\n",
    "        os.mkdir(folder)\n",
    "        \n",
    "tool = \"usearch\""
   ]
  },
  {
   "cell_type": "code",
   "execution_count": 225,
   "metadata": {},
   "outputs": [
    {
     "name": "stdout",
     "output_type": "stream",
     "text": [
      "usearch -fastq_mergepairs /mnt/projects/zilov/data/quiime_metagenome/v16trim_R/*_R1_*.fastq -fastq_maxdiffs 14 -fastq_pctid 10 -fastqout /mnt/projects/zilov/metagenomes/usearch/cancer_16s_run_2/common_out/merged.fq\n",
      "usearch -fastq_filter /mnt/projects/zilov/metagenomes/usearch/cancer_16s_run_2/common_out/merged.fq -fastq_maxee 1.0 -fastaout /mnt/projects/zilov/metagenomes/usearch/cancer_16s_run_2/common_out/filtered.fasta\n",
      "usearch -fastx_uniques /mnt/projects/zilov/metagenomes/usearch/cancer_16s_run_2/common_out/filtered.fasta -fastaout /mnt/projects/zilov/metagenomes/usearch/cancer_16s_run_2/common_out/uniques.fasta -relabel Uniq -sizeout\n"
     ]
    }
   ],
   "source": [
    "#common_script is consist of merging reads, filtering and uniques definitions\n",
    "\n",
    "#1) script for merging\n",
    "merge_in = reads\n",
    "merge_out = common_out + \"merged.fq\"\n",
    "merge_command = f\"{tool} -fastq_mergepairs {merge_in} -fastq_maxdiffs 14 -fastq_pctid 10 -fastqout {merge_out}\"\n",
    "print(merge_command)\n",
    "#2) script for filtering\n",
    "filt_in = merge_out\n",
    "filt_out = common_out + \"filtered.fasta\"\n",
    "filt_command = f\"{tool} -fastq_filter {filt_in} -fastq_maxee 1.0 -fastaout {filt_out}\"\n",
    "print(filt_command)\n",
    "# if not run because of file size, use split_merged_file function\n",
    "#3) script for uniques search\n",
    "unique_in = filt_out\n",
    "unique_out = common_out + \"uniques.fasta\"\n",
    "unique_command = f\"{tool} -fastx_uniques {unique_in} -fastaout {unique_out} -relabel Uniq -sizeout\"\n",
    "print(unique_command)\n",
    "# Than two ways OTU - Uparse, ASV - Unoise"
   ]
  },
  {
   "cell_type": "code",
   "execution_count": 237,
   "metadata": {},
   "outputs": [
    {
     "name": "stdout",
     "output_type": "stream",
     "text": [
      "/mnt/projects/zilov/metagenomes/usearch/cancer_16s_run_2/uparse_out/\n",
      "\n",
      "usearch -cluster_otus /mnt/projects/zilov/metagenomes/usearch/cancer_16s_run_2/common_out/uniques.fasta -minsize 2 -otus /mnt/projects/zilov/metagenomes/usearch/cancer_16s_run_2/uparse_out/otus.fa -relabel Otu\n",
      "\n",
      "usearch -otutab /mnt/projects/zilov/metagenomes/usearch/cancer_16s_run_2/common_out/merged.fq -otus /mnt/projects/zilov/metagenomes/usearch/cancer_16s_run_2/uparse_out/otus.fa -otutabout /mnt/projects/zilov/metagenomes/usearch/cancer_16s_run_2/uparse_out/otu_table.txt -mapout /mnt/projects/zilov/metagenomes/usearch/cancer_16s_run_2/uparse_out/map.txt\n",
      "\n",
      "usearch -usearch_global /mnt/projects/zilov/metagenomes/usearch/cancer_16s_run_2/common_out/merged.fq -db /mnt/projects/zilov/metagenomes/usearch/cancer_16s_run_2/uparse_out/otus.fa -strand plus -id 0.97 -otutabout /mnt/projects/zilov/metagenomes/usearch/cancer_16s/uparse_out/otutable_global.txt\n",
      "\n",
      "usearch -otutab_merge  -output /mnt/projects/zilov/metagenomes/usearch/cancer_16s_run_2/uparse_out/otu_table_full.txt -threads 100\n",
      "\n",
      "usearch -otutab_rare /mnt/projects/zilov/metagenomes/usearch/cancer_16s_run_2/uparse_out/otu_table_merged.txt -sample_size 5000 -output /mnt/projects/zilov/metagenomes/usearch/cancer_16s_run_2/uparse_out/otutab_sort_5k.txt\n",
      "\n",
      "usearch -alpha_div /mnt/projects/zilov/metagenomes/usearch/cancer_16s_run_2/uparse_out/otu_table_merged.txt -output /mnt/projects/zilov/metagenomes/usearch/cancer_16s_run_2/uparse_out/alpha_gini_simpson.txt -metrics simpson\n"
     ]
    }
   ],
   "source": [
    "# uparse pipeline \n",
    "uparse_dir = work_dir + \"/uparse_out/\"\n",
    "print(uparse_dir)\n",
    "#1) Build OTU clusters\n",
    "\n",
    "otu_cluster_in = unique_out\n",
    "otu_cluster_out = uparse_dir + 'otus.fa'\n",
    "otu_cluster_command = f\"{tool} -cluster_otus {otu_cluster_in} -minsize 2 -otus {otu_cluster_out} -relabel Otu\"\n",
    "print(f\"\\n{otu_cluster_command}\")\n",
    "\n",
    "#2) Build OTU table (that is better to do with xargs, if you got big dataset)\n",
    "\n",
    "otu_table_in = otu_cluster_out\n",
    "otu_table_out = uparse_dir + \"otu_table.txt\"\n",
    "otu_map_out = uparse_dir + \"map.txt\"\n",
    "otu_table_command = f\"{tool} -otutab {merge_out} -otus {otu_cluster_out} -otutabout {otu_table_out} -mapout {otu_map_out}\"\n",
    "print(f\"\\n{otu_table_command}\")\n",
    "\n",
    "# at that point I've got problem with merged.fq file again, I've splited it and made an OTU table for each part\n",
    "# I will merge OTUs in 4 step\n",
    "    \n",
    "# 2.1) Usearch global\n",
    "otu_tab_global = \"/mnt/projects/zilov/metagenomes/usearch/cancer_16s/uparse_out/otutable_global.txt\"\n",
    "command = f\"{tool} -usearch_global {merge_out} -db {otu_cluster_out} -strand plus -id 0.97 -otutabout {otu_tab_global}\"\n",
    "print(f\"\\n{command}\")\n",
    "    \n",
    "# 4) Merge few OTU tables (helpful when you have big files) - if doesnt work - use merge_and_sort_otu_tables function\n",
    "\n",
    "otu_merge_in = glob.glob(uparse_dir + \"otu_table_0*.txt\")\n",
    "otu_merge_in.sort()\n",
    "otu_merge_in = \",\".join(otu_merge_in)\n",
    "otu_merge_out = uparse_dir + \"otu_table_full.txt\"\n",
    "otu_merge_command = f\"{tool} -otutab_merge {otu_merge_in} -output {otu_merge_out} -threads {threads}\"\n",
    "print(f\"\\n{otu_merge_command}\")\n",
    "\n",
    "# 5) Sort rare samples - if doesnt work look at 4 step\n",
    "\n",
    "otu_sort_in = uparse_dir + \"otu_table_merged.txt\"\n",
    "otu_sort_out = uparse_dir + \"otutab_sort_5k.txt\"\n",
    "otu_sort_command = f\"{tool} -otutab_rare {otu_sort_in} -sample_size 5000 -output {otu_sort_out}\"\n",
    "print(f\"\\n{otu_sort_command}\")\n",
    "\n",
    "\n",
    "# 6) alpha-diversity\n",
    "\n",
    "alpha_in = uparse_dir + \"otu_table_merged.txt\"\n",
    "alpha_out = uparse_dir + \"alpha_gini_simpson.txt\"\n",
    "alpha_div_otu_command = f\"{tool} -alpha_div {alpha_in} -output {alpha_out} -metrics simpson\"\n",
    "print(f\"\\n{alpha_div_otu_command}\")"
   ]
  },
  {
   "cell_type": "code",
   "execution_count": 126,
   "metadata": {},
   "outputs": [
    {
     "name": "stdout",
     "output_type": "stream",
     "text": [
      "usearch -unoise3 /mnt/projects/zilov/metagenomes/usearch/cancer_16s/common_out/uniques.fasta -zotus /mnt/projects/zilov/metagenomes/usearch/cancer_16s/unoise_out/zotus.fa\n"
     ]
    }
   ],
   "source": [
    "# unoise pipeline\n",
    "unoise_in = unique_out\n",
    "unoise_out = '/mnt/projects/zilov/metagenomes/usearch/cancer_16s/unoise_out/zotus.fa'\n",
    "unoise_command = f\"usearch -unoise3 {unoise_in} -zotus {unoise_out}\"\n",
    "print(unoise_command)"
   ]
  },
  {
   "cell_type": "code",
   "execution_count": 251,
   "metadata": {},
   "outputs": [],
   "source": [
    "# SPLIT BIG FILES IN FEW ()\n",
    "# count number of lines in your merged file with (less ./merged.fq | wc -l)\n",
    "#inputs\n",
    "def split_files(file_path, lines_in, file_format = \"fastq\", split_number = 3):\n",
    "    \n",
    "    n = 4\n",
    "    if file_format == \"fasta\":\n",
    "        n = 2\n",
    "\n",
    "    reads_number = lines_in / n # 4 because of fastq file structure, use 2 for fasta\n",
    "\n",
    "    #found out split number\n",
    "    if n == 2:\n",
    "        if reads_number % split_number != 0:\n",
    "            lines_in += 1\n",
    "    else:\n",
    "        while reads_number % split_number != 0:\n",
    "            print(split_number)\n",
    "            split_number+=1\n",
    "    \n",
    "    print(f\"Will split file in {split_number} files\")\n",
    "\n",
    "    line_split_number = int(lines_in / split_number)\n",
    "    \n",
    "    prefix = file_path.split(\".\")[0] + \"_\"\n",
    "\n",
    "    command = f\"split -d -l{line_split_number} {file_path} {prefix}\"\n",
    "    print(\"Insert this command in command line:\", command)\n",
    "    print(\".\\n\"*5)\n",
    "    print(\"After spliting you can merge files with the help of cat command >>>\")\n",
    "    print(\".\")\n",
    "    command = \"cat ./file_00.fasta ./file_01.fasta ./file_02.fasta > ./file.fasta\"\n",
    "    print(command)"
   ]
  },
  {
   "cell_type": "code",
   "execution_count": 195,
   "metadata": {},
   "outputs": [],
   "source": [
    "# Merge few OTUs tables\n",
    "otu_table_list = glob.glob(uparse_dir + \"otu_*0*.txt\")\n",
    "otu_table_list.sort()\n",
    "\n",
    "otu_dir = {}\n",
    "\n",
    "def merge_and_sort_otu_tables(directory, prefix, output_prefix, sort_number = 5000):\n",
    "    \"\"\"\n",
    "    Desctiption: merges few Otu tables:\n",
    "    directory - path to the folder with OTU tables to merge (should end with \"/\")\n",
    "    prefix - prefix of tables in otu*0*.txt format\n",
    "    output_file - prefix to output file\n",
    "    \"\"\"\n",
    "    otu_table_list = glob.glob(directory + prefix)\n",
    "    for table in otu_table_list:\n",
    "        with open(table) as fh:\n",
    "            for line in fh:\n",
    "                if line.startswith(\"#\"):\n",
    "                    continue\n",
    "                line = line.split()\n",
    "                otu_key = line[0]\n",
    "                otu_value = line[1]\n",
    "                if otu_key in otu_dir.keys():\n",
    "                    otu_dir[otu_key] += otu_value\n",
    "                else:\n",
    "                    otu_dir[otu_key] = otu_value\n",
    "    \n",
    "    with open(directory + output_prefix, \"w\") as fw:\n",
    "        fw.write(\"#OTU ID\tM04266\")\n",
    "        for key, value in otu_dir.items():\n",
    "            if int(value) > sort_number:\n",
    "                fw.write(\"\\n\" + key + \"\\t\" + value)\n",
    "            \n",
    "merge_otu_tables(uparse_dir, \"otu_*0*.txt\", \"otu_table_merged.txt\")"
   ]
  },
  {
   "cell_type": "code",
   "execution_count": null,
   "metadata": {},
   "outputs": [],
   "source": [
    "otu_dir_1 = {}\n",
    "otu_dir_2 = {}\n",
    "otu_dir_3 = {}"
   ]
  },
  {
   "cell_type": "code",
   "execution_count": 180,
   "metadata": {},
   "outputs": [],
   "source": [
    "with open(otu_table_list[0]) as fh:\n",
    "    for line in fh:\n",
    "        if line.startswith(\"#\"):\n",
    "            continue\n",
    "        line = line.split()\n",
    "        otu_key = line[0]\n",
    "        otu_value = int(line[1])\n",
    "        otu_dir_1[otu_key] = otu_value"
   ]
  },
  {
   "cell_type": "code",
   "execution_count": 185,
   "metadata": {},
   "outputs": [
    {
     "name": "stdout",
     "output_type": "stream",
     "text": [
      "1444\n",
      "797\n",
      "2202\n",
      "4443\n",
      "4443\n"
     ]
    }
   ],
   "source": []
  },
  {
   "cell_type": "code",
   "execution_count": 253,
   "metadata": {},
   "outputs": [
    {
     "name": "stdout",
     "output_type": "stream",
     "text": [
      "Will split file in 3 files\n",
      "Insert this command in command line: split -d -l12787992 /mnt/projects/zilov/metagenomes/usearch/cancer_16s_run_2/common_out/merged.fq /mnt/projects/zilov/metagenomes/usearch/cancer_16s_run_2/common_out/merged_\n",
      ".\n",
      ".\n",
      ".\n",
      ".\n",
      ".\n",
      "\n",
      "After spliting you can merge files with the help of cat command >>>\n",
      ".\n",
      "cat ./file_00.fasta ./file_01.fasta ./file_02.fasta > ./file.fasta\n"
     ]
    }
   ],
   "source": [
    "# split merged_file\n",
    "split_files(\"/mnt/projects/zilov/metagenomes/usearch/cancer_16s_run_2/common_out/merged.fq\", 38363976)"
   ]
  },
  {
   "cell_type": "code",
   "execution_count": 119,
   "metadata": {},
   "outputs": [
    {
     "name": "stdout",
     "output_type": "stream",
     "text": [
      "Will split file in 2 files\n",
      "Insert this command in command line: split -d -l22966267 file file_\n",
      ".\n",
      ".\n",
      ".\n",
      ".\n",
      ".\n",
      "\n",
      "After spliting you can merge files with the help of cat command >>>\n",
      ".\n",
      "cat ./file_00.fasta ././file_01.fasta ./file_02.fasta > ./file.fasta\n"
     ]
    }
   ],
   "source": [
    "#split filtered file\n",
    "split_files(\"/mnt/projects/zilov/metagenomes/usearch/cancer_16s/common_out/filtered.fasta\", 38363976, \"fastq\", 2)"
   ]
  },
  {
   "cell_type": "code",
   "execution_count": 104,
   "metadata": {},
   "outputs": [
    {
     "data": {
      "text/plain": [
       "'split -d -l22966267.0 ./merged.fq ./merged_'"
      ]
     },
     "execution_count": 104,
     "metadata": {},
     "output_type": "execute_result"
    }
   ],
   "source": []
  },
  {
   "cell_type": "code",
   "execution_count": 44,
   "metadata": {},
   "outputs": [
    {
     "name": "stdout",
     "output_type": "stream",
     "text": [
      "usearch -fastq_mergepairs /mnt/projects/zilov/data/quiime_metagenome/v16trim/*_R1.fastq -fastq_maxdiffs 14 -fastq_pctid 10 -fastqout /mnt/projects/zilov/metagenomes/usearch/cancer_16s/merged/merged.fq \n"
     ]
    }
   ],
   "source": [
    "# merge(assembly) of 16S rRNA Illumina reads, options - https://drive5.com/usearch/manual/merge_options.html\n",
    "#command = f\"usearch -fastq_mergepairs {forward_read}\"\n",
    "# print(command)\n",
    "\n",
    "# если слилось меньше 70% ридов, меняем дефолтные параметры\n",
    "# -fastq_maxdiffs - как много ошибок может быть в риде (дефолт 5), увеличиваем на 1, проверяем как меняется процент\n",
    "# в какой=то момент он перестанет расти, это значение оставляем\n",
    "output_dir_merge = work_dir + \"/merged\"\n",
    "if not os.path.exists(output_dir_merge): \n",
    "    os.mkdir(output_dir_merge)\n",
    "\n",
    "command_new = f\"usearch -fastq_mergepairs {reads_dir}/*_R1.fastq -fastq_maxdiffs 14 -fastq_pctid 10 -fastqout {output_dir_merge}/merged.fq \"\n",
    "print(command_new)"
   ]
  },
  {
   "cell_type": "code",
   "execution_count": 20,
   "metadata": {},
   "outputs": [
    {
     "name": "stdout",
     "output_type": "stream",
     "text": [
      "usearch -fastx_info /mnt/projects/zilov/data/quiime_metagenome/v16trim/10b_1.fastq > /mnt/projects/zilov/metagenomes/usearch/cancer_16s/reads_stats/10b_1.stat\n",
      "usearch -fastx_info /mnt/projects/zilov/data/quiime_metagenome/v16trim/11b_1.fastq > /mnt/projects/zilov/metagenomes/usearch/cancer_16s/reads_stats/11b_1.stat\n",
      "usearch -fastx_info /mnt/projects/zilov/data/quiime_metagenome/v16trim/12b_1.fastq > /mnt/projects/zilov/metagenomes/usearch/cancer_16s/reads_stats/12b_1.stat\n",
      "usearch -fastx_info /mnt/projects/zilov/data/quiime_metagenome/v16trim/13b_1.fastq > /mnt/projects/zilov/metagenomes/usearch/cancer_16s/reads_stats/13b_1.stat\n",
      "usearch -fastx_info /mnt/projects/zilov/data/quiime_metagenome/v16trim/14b_1.fastq > /mnt/projects/zilov/metagenomes/usearch/cancer_16s/reads_stats/14b_1.stat\n",
      "usearch -fastx_info /mnt/projects/zilov/data/quiime_metagenome/v16trim/15b_1.fastq > /mnt/projects/zilov/metagenomes/usearch/cancer_16s/reads_stats/15b_1.stat\n",
      "usearch -fastx_info /mnt/projects/zilov/data/quiime_metagenome/v16trim/16b_1.fastq > /mnt/projects/zilov/metagenomes/usearch/cancer_16s/reads_stats/16b_1.stat\n",
      "usearch -fastx_info /mnt/projects/zilov/data/quiime_metagenome/v16trim/17b_1.fastq > /mnt/projects/zilov/metagenomes/usearch/cancer_16s/reads_stats/17b_1.stat\n",
      "usearch -fastx_info /mnt/projects/zilov/data/quiime_metagenome/v16trim/18b_1.fastq > /mnt/projects/zilov/metagenomes/usearch/cancer_16s/reads_stats/18b_1.stat\n",
      "usearch -fastx_info /mnt/projects/zilov/data/quiime_metagenome/v16trim/19b_1.fastq > /mnt/projects/zilov/metagenomes/usearch/cancer_16s/reads_stats/19b_1.stat\n",
      "usearch -fastx_info /mnt/projects/zilov/data/quiime_metagenome/v16trim/1_1.fastq > /mnt/projects/zilov/metagenomes/usearch/cancer_16s/reads_stats/1_1.stat\n",
      "usearch -fastx_info /mnt/projects/zilov/data/quiime_metagenome/v16trim/1b_1.fastq > /mnt/projects/zilov/metagenomes/usearch/cancer_16s/reads_stats/1b_1.stat\n",
      "usearch -fastx_info /mnt/projects/zilov/data/quiime_metagenome/v16trim/20b_1.fastq > /mnt/projects/zilov/metagenomes/usearch/cancer_16s/reads_stats/20b_1.stat\n",
      "usearch -fastx_info /mnt/projects/zilov/data/quiime_metagenome/v16trim/21b_1.fastq > /mnt/projects/zilov/metagenomes/usearch/cancer_16s/reads_stats/21b_1.stat\n",
      "usearch -fastx_info /mnt/projects/zilov/data/quiime_metagenome/v16trim/22b_1.fastq > /mnt/projects/zilov/metagenomes/usearch/cancer_16s/reads_stats/22b_1.stat\n",
      "usearch -fastx_info /mnt/projects/zilov/data/quiime_metagenome/v16trim/23b_1.fastq > /mnt/projects/zilov/metagenomes/usearch/cancer_16s/reads_stats/23b_1.stat\n",
      "usearch -fastx_info /mnt/projects/zilov/data/quiime_metagenome/v16trim/24b_1.fastq > /mnt/projects/zilov/metagenomes/usearch/cancer_16s/reads_stats/24b_1.stat\n",
      "usearch -fastx_info /mnt/projects/zilov/data/quiime_metagenome/v16trim/25b_1.fastq > /mnt/projects/zilov/metagenomes/usearch/cancer_16s/reads_stats/25b_1.stat\n",
      "usearch -fastx_info /mnt/projects/zilov/data/quiime_metagenome/v16trim/26b_1.fastq > /mnt/projects/zilov/metagenomes/usearch/cancer_16s/reads_stats/26b_1.stat\n",
      "usearch -fastx_info /mnt/projects/zilov/data/quiime_metagenome/v16trim/27b_1.fastq > /mnt/projects/zilov/metagenomes/usearch/cancer_16s/reads_stats/27b_1.stat\n",
      "usearch -fastx_info /mnt/projects/zilov/data/quiime_metagenome/v16trim/28b_1.fastq > /mnt/projects/zilov/metagenomes/usearch/cancer_16s/reads_stats/28b_1.stat\n",
      "usearch -fastx_info /mnt/projects/zilov/data/quiime_metagenome/v16trim/29b_1.fastq > /mnt/projects/zilov/metagenomes/usearch/cancer_16s/reads_stats/29b_1.stat\n",
      "usearch -fastx_info /mnt/projects/zilov/data/quiime_metagenome/v16trim/2_1.fastq > /mnt/projects/zilov/metagenomes/usearch/cancer_16s/reads_stats/2_1.stat\n",
      "usearch -fastx_info /mnt/projects/zilov/data/quiime_metagenome/v16trim/31b_1.fastq > /mnt/projects/zilov/metagenomes/usearch/cancer_16s/reads_stats/31b_1.stat\n",
      "usearch -fastx_info /mnt/projects/zilov/data/quiime_metagenome/v16trim/32b_1.fastq > /mnt/projects/zilov/metagenomes/usearch/cancer_16s/reads_stats/32b_1.stat\n",
      "usearch -fastx_info /mnt/projects/zilov/data/quiime_metagenome/v16trim/33b_1.fastq > /mnt/projects/zilov/metagenomes/usearch/cancer_16s/reads_stats/33b_1.stat\n",
      "usearch -fastx_info /mnt/projects/zilov/data/quiime_metagenome/v16trim/34b_1.fastq > /mnt/projects/zilov/metagenomes/usearch/cancer_16s/reads_stats/34b_1.stat\n",
      "usearch -fastx_info /mnt/projects/zilov/data/quiime_metagenome/v16trim/35b_1.fastq > /mnt/projects/zilov/metagenomes/usearch/cancer_16s/reads_stats/35b_1.stat\n",
      "usearch -fastx_info /mnt/projects/zilov/data/quiime_metagenome/v16trim/36b_1.fastq > /mnt/projects/zilov/metagenomes/usearch/cancer_16s/reads_stats/36b_1.stat\n",
      "usearch -fastx_info /mnt/projects/zilov/data/quiime_metagenome/v16trim/37b_1.fastq > /mnt/projects/zilov/metagenomes/usearch/cancer_16s/reads_stats/37b_1.stat\n",
      "usearch -fastx_info /mnt/projects/zilov/data/quiime_metagenome/v16trim/38b_1.fastq > /mnt/projects/zilov/metagenomes/usearch/cancer_16s/reads_stats/38b_1.stat\n",
      "usearch -fastx_info /mnt/projects/zilov/data/quiime_metagenome/v16trim/3_1.fastq > /mnt/projects/zilov/metagenomes/usearch/cancer_16s/reads_stats/3_1.stat\n",
      "usearch -fastx_info /mnt/projects/zilov/data/quiime_metagenome/v16trim/3b_1.fastq > /mnt/projects/zilov/metagenomes/usearch/cancer_16s/reads_stats/3b_1.stat\n",
      "usearch -fastx_info /mnt/projects/zilov/data/quiime_metagenome/v16trim/41b_1.fastq > /mnt/projects/zilov/metagenomes/usearch/cancer_16s/reads_stats/41b_1.stat\n",
      "usearch -fastx_info /mnt/projects/zilov/data/quiime_metagenome/v16trim/42b_1.fastq > /mnt/projects/zilov/metagenomes/usearch/cancer_16s/reads_stats/42b_1.stat\n",
      "usearch -fastx_info /mnt/projects/zilov/data/quiime_metagenome/v16trim/43b_1.fastq > /mnt/projects/zilov/metagenomes/usearch/cancer_16s/reads_stats/43b_1.stat\n",
      "usearch -fastx_info /mnt/projects/zilov/data/quiime_metagenome/v16trim/44b_1.fastq > /mnt/projects/zilov/metagenomes/usearch/cancer_16s/reads_stats/44b_1.stat\n",
      "usearch -fastx_info /mnt/projects/zilov/data/quiime_metagenome/v16trim/46b_1.fastq > /mnt/projects/zilov/metagenomes/usearch/cancer_16s/reads_stats/46b_1.stat\n",
      "usearch -fastx_info /mnt/projects/zilov/data/quiime_metagenome/v16trim/48b_1.fastq > /mnt/projects/zilov/metagenomes/usearch/cancer_16s/reads_stats/48b_1.stat\n",
      "usearch -fastx_info /mnt/projects/zilov/data/quiime_metagenome/v16trim/49b_1.fastq > /mnt/projects/zilov/metagenomes/usearch/cancer_16s/reads_stats/49b_1.stat\n",
      "usearch -fastx_info /mnt/projects/zilov/data/quiime_metagenome/v16trim/4_1.fastq > /mnt/projects/zilov/metagenomes/usearch/cancer_16s/reads_stats/4_1.stat\n",
      "usearch -fastx_info /mnt/projects/zilov/data/quiime_metagenome/v16trim/4b_1.fastq > /mnt/projects/zilov/metagenomes/usearch/cancer_16s/reads_stats/4b_1.stat\n",
      "usearch -fastx_info /mnt/projects/zilov/data/quiime_metagenome/v16trim/50b_1.fastq > /mnt/projects/zilov/metagenomes/usearch/cancer_16s/reads_stats/50b_1.stat\n",
      "usearch -fastx_info /mnt/projects/zilov/data/quiime_metagenome/v16trim/51b_1.fastq > /mnt/projects/zilov/metagenomes/usearch/cancer_16s/reads_stats/51b_1.stat\n",
      "usearch -fastx_info /mnt/projects/zilov/data/quiime_metagenome/v16trim/52b_1.fastq > /mnt/projects/zilov/metagenomes/usearch/cancer_16s/reads_stats/52b_1.stat\n",
      "usearch -fastx_info /mnt/projects/zilov/data/quiime_metagenome/v16trim/53b_1.fastq > /mnt/projects/zilov/metagenomes/usearch/cancer_16s/reads_stats/53b_1.stat\n",
      "usearch -fastx_info /mnt/projects/zilov/data/quiime_metagenome/v16trim/54b_1.fastq > /mnt/projects/zilov/metagenomes/usearch/cancer_16s/reads_stats/54b_1.stat\n",
      "usearch -fastx_info /mnt/projects/zilov/data/quiime_metagenome/v16trim/55b_1.fastq > /mnt/projects/zilov/metagenomes/usearch/cancer_16s/reads_stats/55b_1.stat\n",
      "usearch -fastx_info /mnt/projects/zilov/data/quiime_metagenome/v16trim/5_1.fastq > /mnt/projects/zilov/metagenomes/usearch/cancer_16s/reads_stats/5_1.stat\n",
      "usearch -fastx_info /mnt/projects/zilov/data/quiime_metagenome/v16trim/5b_1.fastq > /mnt/projects/zilov/metagenomes/usearch/cancer_16s/reads_stats/5b_1.stat\n",
      "usearch -fastx_info /mnt/projects/zilov/data/quiime_metagenome/v16trim/61_1.fastq > /mnt/projects/zilov/metagenomes/usearch/cancer_16s/reads_stats/61_1.stat\n",
      "usearch -fastx_info /mnt/projects/zilov/data/quiime_metagenome/v16trim/62_1.fastq > /mnt/projects/zilov/metagenomes/usearch/cancer_16s/reads_stats/62_1.stat\n",
      "usearch -fastx_info /mnt/projects/zilov/data/quiime_metagenome/v16trim/63_1.fastq > /mnt/projects/zilov/metagenomes/usearch/cancer_16s/reads_stats/63_1.stat\n",
      "usearch -fastx_info /mnt/projects/zilov/data/quiime_metagenome/v16trim/64_1.fastq > /mnt/projects/zilov/metagenomes/usearch/cancer_16s/reads_stats/64_1.stat\n",
      "usearch -fastx_info /mnt/projects/zilov/data/quiime_metagenome/v16trim/65_1.fastq > /mnt/projects/zilov/metagenomes/usearch/cancer_16s/reads_stats/65_1.stat\n",
      "usearch -fastx_info /mnt/projects/zilov/data/quiime_metagenome/v16trim/66-rep_1.fastq > /mnt/projects/zilov/metagenomes/usearch/cancer_16s/reads_stats/66-rep_1.stat\n",
      "usearch -fastx_info /mnt/projects/zilov/data/quiime_metagenome/v16trim/67_1.fastq > /mnt/projects/zilov/metagenomes/usearch/cancer_16s/reads_stats/67_1.stat\n",
      "usearch -fastx_info /mnt/projects/zilov/data/quiime_metagenome/v16trim/6b_1.fastq > /mnt/projects/zilov/metagenomes/usearch/cancer_16s/reads_stats/6b_1.stat\n",
      "usearch -fastx_info /mnt/projects/zilov/data/quiime_metagenome/v16trim/70b_1.fastq > /mnt/projects/zilov/metagenomes/usearch/cancer_16s/reads_stats/70b_1.stat\n",
      "usearch -fastx_info /mnt/projects/zilov/data/quiime_metagenome/v16trim/72_1.fastq > /mnt/projects/zilov/metagenomes/usearch/cancer_16s/reads_stats/72_1.stat\n",
      "usearch -fastx_info /mnt/projects/zilov/data/quiime_metagenome/v16trim/73_1.fastq > /mnt/projects/zilov/metagenomes/usearch/cancer_16s/reads_stats/73_1.stat\n",
      "usearch -fastx_info /mnt/projects/zilov/data/quiime_metagenome/v16trim/75_1.fastq > /mnt/projects/zilov/metagenomes/usearch/cancer_16s/reads_stats/75_1.stat\n",
      "usearch -fastx_info /mnt/projects/zilov/data/quiime_metagenome/v16trim/76_1.fastq > /mnt/projects/zilov/metagenomes/usearch/cancer_16s/reads_stats/76_1.stat\n",
      "usearch -fastx_info /mnt/projects/zilov/data/quiime_metagenome/v16trim/77_1.fastq > /mnt/projects/zilov/metagenomes/usearch/cancer_16s/reads_stats/77_1.stat\n",
      "usearch -fastx_info /mnt/projects/zilov/data/quiime_metagenome/v16trim/78_1.fastq > /mnt/projects/zilov/metagenomes/usearch/cancer_16s/reads_stats/78_1.stat\n",
      "usearch -fastx_info /mnt/projects/zilov/data/quiime_metagenome/v16trim/79_1.fastq > /mnt/projects/zilov/metagenomes/usearch/cancer_16s/reads_stats/79_1.stat\n",
      "usearch -fastx_info /mnt/projects/zilov/data/quiime_metagenome/v16trim/7b_1.fastq > /mnt/projects/zilov/metagenomes/usearch/cancer_16s/reads_stats/7b_1.stat\n",
      "usearch -fastx_info /mnt/projects/zilov/data/quiime_metagenome/v16trim/80_1.fastq > /mnt/projects/zilov/metagenomes/usearch/cancer_16s/reads_stats/80_1.stat\n",
      "usearch -fastx_info /mnt/projects/zilov/data/quiime_metagenome/v16trim/81_1.fastq > /mnt/projects/zilov/metagenomes/usearch/cancer_16s/reads_stats/81_1.stat\n",
      "usearch -fastx_info /mnt/projects/zilov/data/quiime_metagenome/v16trim/8b_1.fastq > /mnt/projects/zilov/metagenomes/usearch/cancer_16s/reads_stats/8b_1.stat\n",
      "usearch -fastx_info /mnt/projects/zilov/data/quiime_metagenome/v16trim/9b_1.fastq > /mnt/projects/zilov/metagenomes/usearch/cancer_16s/reads_stats/9b_1.stat\n"
     ]
    }
   ],
   "source": [
    "# basic statistics\n",
    "output_dir = work_dir + \"/reads_stats\"\n",
    "for f_read in forward_reads:\n",
    "    in_file = f_read\n",
    "    out_file = output_dir + \"/\" + f_read.split(\"/\")[-1].split(\".\")[0]\n",
    "    if not os.path.exists(output_dir):\n",
    "        os.mkdir(output_dir)\n",
    "    command = f\"usearch -fastx_info {in_file} > {out_file}.stat\"\n",
    "    print(command)"
   ]
  },
  {
   "cell_type": "code",
   "execution_count": 246,
   "metadata": {},
   "outputs": [],
   "source": [
    "reads_dir = '/mnt/projects/zilov/data/quiime_metagenome/v16trim_R/'\n",
    "forward_reads = glob.glob(\"/mnt/projects/zilov/data/quiime_metagenome/v16trim/*_1.fastq\")\n",
    "reverse_reads = glob.glob(\"/mnt/projects/zilov/data/quiime_metagenome/v16trim/*_2.fastq\")\n",
    "\n",
    "forward_reads.sort()\n",
    "reverse_reads.sort()"
   ]
  },
  {
   "cell_type": "code",
   "execution_count": 249,
   "metadata": {},
   "outputs": [
    {
     "name": "stdout",
     "output_type": "stream",
     "text": [
      "cp /mnt/projects/zilov/data/quiime_metagenome/v16trim/10b_2.fastq /mnt/projects/zilov/data/quiime_metagenome/v16trim_R/human_10b_R2_001.fastq\n",
      "cp /mnt/projects/zilov/data/quiime_metagenome/v16trim/11b_2.fastq /mnt/projects/zilov/data/quiime_metagenome/v16trim_R/human_11b_R2_001.fastq\n",
      "cp /mnt/projects/zilov/data/quiime_metagenome/v16trim/12b_2.fastq /mnt/projects/zilov/data/quiime_metagenome/v16trim_R/human_12b_R2_001.fastq\n",
      "cp /mnt/projects/zilov/data/quiime_metagenome/v16trim/13b_2.fastq /mnt/projects/zilov/data/quiime_metagenome/v16trim_R/human_13b_R2_001.fastq\n",
      "cp /mnt/projects/zilov/data/quiime_metagenome/v16trim/14b_2.fastq /mnt/projects/zilov/data/quiime_metagenome/v16trim_R/human_14b_R2_001.fastq\n",
      "cp /mnt/projects/zilov/data/quiime_metagenome/v16trim/15b_2.fastq /mnt/projects/zilov/data/quiime_metagenome/v16trim_R/human_15b_R2_001.fastq\n",
      "cp /mnt/projects/zilov/data/quiime_metagenome/v16trim/16b_2.fastq /mnt/projects/zilov/data/quiime_metagenome/v16trim_R/human_16b_R2_001.fastq\n",
      "cp /mnt/projects/zilov/data/quiime_metagenome/v16trim/17b_2.fastq /mnt/projects/zilov/data/quiime_metagenome/v16trim_R/human_17b_R2_001.fastq\n",
      "cp /mnt/projects/zilov/data/quiime_metagenome/v16trim/18b_2.fastq /mnt/projects/zilov/data/quiime_metagenome/v16trim_R/human_18b_R2_001.fastq\n",
      "cp /mnt/projects/zilov/data/quiime_metagenome/v16trim/19b_2.fastq /mnt/projects/zilov/data/quiime_metagenome/v16trim_R/human_19b_R2_001.fastq\n",
      "cp /mnt/projects/zilov/data/quiime_metagenome/v16trim/1_2.fastq /mnt/projects/zilov/data/quiime_metagenome/v16trim_R/human_1_R2_001.fastq\n",
      "cp /mnt/projects/zilov/data/quiime_metagenome/v16trim/1b_2.fastq /mnt/projects/zilov/data/quiime_metagenome/v16trim_R/human_1b_R2_001.fastq\n",
      "cp /mnt/projects/zilov/data/quiime_metagenome/v16trim/20b_2.fastq /mnt/projects/zilov/data/quiime_metagenome/v16trim_R/human_20b_R2_001.fastq\n",
      "cp /mnt/projects/zilov/data/quiime_metagenome/v16trim/21b_2.fastq /mnt/projects/zilov/data/quiime_metagenome/v16trim_R/human_21b_R2_001.fastq\n",
      "cp /mnt/projects/zilov/data/quiime_metagenome/v16trim/22b_2.fastq /mnt/projects/zilov/data/quiime_metagenome/v16trim_R/human_22b_R2_001.fastq\n",
      "cp /mnt/projects/zilov/data/quiime_metagenome/v16trim/23b_2.fastq /mnt/projects/zilov/data/quiime_metagenome/v16trim_R/human_23b_R2_001.fastq\n",
      "cp /mnt/projects/zilov/data/quiime_metagenome/v16trim/24b_2.fastq /mnt/projects/zilov/data/quiime_metagenome/v16trim_R/human_24b_R2_001.fastq\n",
      "cp /mnt/projects/zilov/data/quiime_metagenome/v16trim/25b_2.fastq /mnt/projects/zilov/data/quiime_metagenome/v16trim_R/human_25b_R2_001.fastq\n",
      "cp /mnt/projects/zilov/data/quiime_metagenome/v16trim/26b_2.fastq /mnt/projects/zilov/data/quiime_metagenome/v16trim_R/human_26b_R2_001.fastq\n",
      "cp /mnt/projects/zilov/data/quiime_metagenome/v16trim/27b_2.fastq /mnt/projects/zilov/data/quiime_metagenome/v16trim_R/human_27b_R2_001.fastq\n",
      "cp /mnt/projects/zilov/data/quiime_metagenome/v16trim/28b_2.fastq /mnt/projects/zilov/data/quiime_metagenome/v16trim_R/human_28b_R2_001.fastq\n",
      "cp /mnt/projects/zilov/data/quiime_metagenome/v16trim/29b_2.fastq /mnt/projects/zilov/data/quiime_metagenome/v16trim_R/human_29b_R2_001.fastq\n",
      "cp /mnt/projects/zilov/data/quiime_metagenome/v16trim/2_2.fastq /mnt/projects/zilov/data/quiime_metagenome/v16trim_R/human_2_R2_001.fastq\n",
      "cp /mnt/projects/zilov/data/quiime_metagenome/v16trim/31b_2.fastq /mnt/projects/zilov/data/quiime_metagenome/v16trim_R/human_31b_R2_001.fastq\n",
      "cp /mnt/projects/zilov/data/quiime_metagenome/v16trim/32b_2.fastq /mnt/projects/zilov/data/quiime_metagenome/v16trim_R/human_32b_R2_001.fastq\n",
      "cp /mnt/projects/zilov/data/quiime_metagenome/v16trim/33b_2.fastq /mnt/projects/zilov/data/quiime_metagenome/v16trim_R/human_33b_R2_001.fastq\n",
      "cp /mnt/projects/zilov/data/quiime_metagenome/v16trim/34b_2.fastq /mnt/projects/zilov/data/quiime_metagenome/v16trim_R/human_34b_R2_001.fastq\n",
      "cp /mnt/projects/zilov/data/quiime_metagenome/v16trim/35b_2.fastq /mnt/projects/zilov/data/quiime_metagenome/v16trim_R/human_35b_R2_001.fastq\n",
      "cp /mnt/projects/zilov/data/quiime_metagenome/v16trim/36b_2.fastq /mnt/projects/zilov/data/quiime_metagenome/v16trim_R/human_36b_R2_001.fastq\n",
      "cp /mnt/projects/zilov/data/quiime_metagenome/v16trim/37b_2.fastq /mnt/projects/zilov/data/quiime_metagenome/v16trim_R/human_37b_R2_001.fastq\n",
      "cp /mnt/projects/zilov/data/quiime_metagenome/v16trim/38b_2.fastq /mnt/projects/zilov/data/quiime_metagenome/v16trim_R/human_38b_R2_001.fastq\n",
      "cp /mnt/projects/zilov/data/quiime_metagenome/v16trim/3_2.fastq /mnt/projects/zilov/data/quiime_metagenome/v16trim_R/human_3_R2_001.fastq\n",
      "cp /mnt/projects/zilov/data/quiime_metagenome/v16trim/3b_2.fastq /mnt/projects/zilov/data/quiime_metagenome/v16trim_R/human_3b_R2_001.fastq\n",
      "cp /mnt/projects/zilov/data/quiime_metagenome/v16trim/41b_2.fastq /mnt/projects/zilov/data/quiime_metagenome/v16trim_R/human_41b_R2_001.fastq\n",
      "cp /mnt/projects/zilov/data/quiime_metagenome/v16trim/42b_2.fastq /mnt/projects/zilov/data/quiime_metagenome/v16trim_R/human_42b_R2_001.fastq\n",
      "cp /mnt/projects/zilov/data/quiime_metagenome/v16trim/43b_2.fastq /mnt/projects/zilov/data/quiime_metagenome/v16trim_R/human_43b_R2_001.fastq\n",
      "cp /mnt/projects/zilov/data/quiime_metagenome/v16trim/44b_2.fastq /mnt/projects/zilov/data/quiime_metagenome/v16trim_R/human_44b_R2_001.fastq\n",
      "cp /mnt/projects/zilov/data/quiime_metagenome/v16trim/46b_2.fastq /mnt/projects/zilov/data/quiime_metagenome/v16trim_R/human_46b_R2_001.fastq\n",
      "cp /mnt/projects/zilov/data/quiime_metagenome/v16trim/48b_2.fastq /mnt/projects/zilov/data/quiime_metagenome/v16trim_R/human_48b_R2_001.fastq\n",
      "cp /mnt/projects/zilov/data/quiime_metagenome/v16trim/49b_2.fastq /mnt/projects/zilov/data/quiime_metagenome/v16trim_R/human_49b_R2_001.fastq\n",
      "cp /mnt/projects/zilov/data/quiime_metagenome/v16trim/4_2.fastq /mnt/projects/zilov/data/quiime_metagenome/v16trim_R/human_4_R2_001.fastq\n",
      "cp /mnt/projects/zilov/data/quiime_metagenome/v16trim/4b_2.fastq /mnt/projects/zilov/data/quiime_metagenome/v16trim_R/human_4b_R2_001.fastq\n",
      "cp /mnt/projects/zilov/data/quiime_metagenome/v16trim/50b_2.fastq /mnt/projects/zilov/data/quiime_metagenome/v16trim_R/human_50b_R2_001.fastq\n",
      "cp /mnt/projects/zilov/data/quiime_metagenome/v16trim/51b_2.fastq /mnt/projects/zilov/data/quiime_metagenome/v16trim_R/human_51b_R2_001.fastq\n",
      "cp /mnt/projects/zilov/data/quiime_metagenome/v16trim/52b_2.fastq /mnt/projects/zilov/data/quiime_metagenome/v16trim_R/human_52b_R2_001.fastq\n",
      "cp /mnt/projects/zilov/data/quiime_metagenome/v16trim/53b_2.fastq /mnt/projects/zilov/data/quiime_metagenome/v16trim_R/human_53b_R2_001.fastq\n",
      "cp /mnt/projects/zilov/data/quiime_metagenome/v16trim/54b_2.fastq /mnt/projects/zilov/data/quiime_metagenome/v16trim_R/human_54b_R2_001.fastq\n",
      "cp /mnt/projects/zilov/data/quiime_metagenome/v16trim/55b_2.fastq /mnt/projects/zilov/data/quiime_metagenome/v16trim_R/human_55b_R2_001.fastq\n",
      "cp /mnt/projects/zilov/data/quiime_metagenome/v16trim/5_2.fastq /mnt/projects/zilov/data/quiime_metagenome/v16trim_R/human_5_R2_001.fastq\n",
      "cp /mnt/projects/zilov/data/quiime_metagenome/v16trim/5b_2.fastq /mnt/projects/zilov/data/quiime_metagenome/v16trim_R/human_5b_R2_001.fastq\n",
      "cp /mnt/projects/zilov/data/quiime_metagenome/v16trim/61_2.fastq /mnt/projects/zilov/data/quiime_metagenome/v16trim_R/human_61_R2_001.fastq\n",
      "cp /mnt/projects/zilov/data/quiime_metagenome/v16trim/62_2.fastq /mnt/projects/zilov/data/quiime_metagenome/v16trim_R/human_62_R2_001.fastq\n",
      "cp /mnt/projects/zilov/data/quiime_metagenome/v16trim/63_2.fastq /mnt/projects/zilov/data/quiime_metagenome/v16trim_R/human_63_R2_001.fastq\n",
      "cp /mnt/projects/zilov/data/quiime_metagenome/v16trim/64_2.fastq /mnt/projects/zilov/data/quiime_metagenome/v16trim_R/human_64_R2_001.fastq\n",
      "cp /mnt/projects/zilov/data/quiime_metagenome/v16trim/65_2.fastq /mnt/projects/zilov/data/quiime_metagenome/v16trim_R/human_65_R2_001.fastq\n",
      "cp /mnt/projects/zilov/data/quiime_metagenome/v16trim/66-rep_2.fastq /mnt/projects/zilov/data/quiime_metagenome/v16trim_R/human_66-rep_R2_001.fastq\n",
      "cp /mnt/projects/zilov/data/quiime_metagenome/v16trim/67_2.fastq /mnt/projects/zilov/data/quiime_metagenome/v16trim_R/human_67_R2_001.fastq\n",
      "cp /mnt/projects/zilov/data/quiime_metagenome/v16trim/6b_2.fastq /mnt/projects/zilov/data/quiime_metagenome/v16trim_R/human_6b_R2_001.fastq\n"
     ]
    },
    {
     "name": "stdout",
     "output_type": "stream",
     "text": [
      "cp /mnt/projects/zilov/data/quiime_metagenome/v16trim/70b_2.fastq /mnt/projects/zilov/data/quiime_metagenome/v16trim_R/human_70b_R2_001.fastq\n",
      "cp /mnt/projects/zilov/data/quiime_metagenome/v16trim/72_2.fastq /mnt/projects/zilov/data/quiime_metagenome/v16trim_R/human_72_R2_001.fastq\n",
      "cp /mnt/projects/zilov/data/quiime_metagenome/v16trim/73_2.fastq /mnt/projects/zilov/data/quiime_metagenome/v16trim_R/human_73_R2_001.fastq\n",
      "cp /mnt/projects/zilov/data/quiime_metagenome/v16trim/75_2.fastq /mnt/projects/zilov/data/quiime_metagenome/v16trim_R/human_75_R2_001.fastq\n",
      "cp /mnt/projects/zilov/data/quiime_metagenome/v16trim/76_2.fastq /mnt/projects/zilov/data/quiime_metagenome/v16trim_R/human_76_R2_001.fastq\n",
      "cp /mnt/projects/zilov/data/quiime_metagenome/v16trim/77_2.fastq /mnt/projects/zilov/data/quiime_metagenome/v16trim_R/human_77_R2_001.fastq\n",
      "cp /mnt/projects/zilov/data/quiime_metagenome/v16trim/78_2.fastq /mnt/projects/zilov/data/quiime_metagenome/v16trim_R/human_78_R2_001.fastq\n",
      "cp /mnt/projects/zilov/data/quiime_metagenome/v16trim/79_2.fastq /mnt/projects/zilov/data/quiime_metagenome/v16trim_R/human_79_R2_001.fastq\n",
      "cp /mnt/projects/zilov/data/quiime_metagenome/v16trim/7b_2.fastq /mnt/projects/zilov/data/quiime_metagenome/v16trim_R/human_7b_R2_001.fastq\n",
      "cp /mnt/projects/zilov/data/quiime_metagenome/v16trim/80_2.fastq /mnt/projects/zilov/data/quiime_metagenome/v16trim_R/human_80_R2_001.fastq\n",
      "cp /mnt/projects/zilov/data/quiime_metagenome/v16trim/81_2.fastq /mnt/projects/zilov/data/quiime_metagenome/v16trim_R/human_81_R2_001.fastq\n",
      "cp /mnt/projects/zilov/data/quiime_metagenome/v16trim/8b_2.fastq /mnt/projects/zilov/data/quiime_metagenome/v16trim_R/human_8b_R2_001.fastq\n",
      "cp /mnt/projects/zilov/data/quiime_metagenome/v16trim/9b_2.fastq /mnt/projects/zilov/data/quiime_metagenome/v16trim_R/human_9b_R2_001.fastq\n"
     ]
    }
   ],
   "source": [
    "for i in range(len(forward_reads)):\n",
    "    mv_file = reverse_reads[i]\n",
    "    prefix = \"human_\" + mv_file.split(\"/\")[-1].split(\"_\")[0] + \"_R2_001.fastq\"\n",
    "    command = f\"cp {mv_file} {reads_dir + prefix}\"\n",
    "    print(command)\n",
    "    os.system(command)"
   ]
  },
  {
   "cell_type": "code",
   "execution_count": null,
   "metadata": {},
   "outputs": [],
   "source": []
  }
 ],
 "metadata": {
  "kernelspec": {
   "display_name": "Python 3",
   "language": "python",
   "name": "python3"
  },
  "language_info": {
   "codemirror_mode": {
    "name": "ipython",
    "version": 3
   },
   "file_extension": ".py",
   "mimetype": "text/x-python",
   "name": "python",
   "nbconvert_exporter": "python",
   "pygments_lexer": "ipython3",
   "version": "3.7.9"
  }
 },
 "nbformat": 4,
 "nbformat_minor": 4
}
