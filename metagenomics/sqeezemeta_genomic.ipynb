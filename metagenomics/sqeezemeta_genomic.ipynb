{
 "cells": [
  {
   "cell_type": "code",
   "execution_count": 2,
   "metadata": {},
   "outputs": [],
   "source": [
    "import os\n",
    "import os.path"
   ]
  },
  {
   "cell_type": "code",
   "execution_count": 6,
   "metadata": {},
   "outputs": [],
   "source": [
    "reads_dir = \"/media/eternus1/data/prokaryota/milk/STAKA-222020803/Staka2-362721390/Staka2-ds.98e0ea04afbe4ccfa728b03e60ddfc52\"\n",
    "\n",
    "samples_file = \"/mnt/projects/zilov/metagenomes/sqeezemeta/test_run_staka2/sample\"\n",
    "threads = \"50\""
   ]
  },
  {
   "cell_type": "code",
   "execution_count": 7,
   "metadata": {},
   "outputs": [
    {
     "name": "stdout",
     "output_type": "stream",
     "text": [
      "time SqueezeMeta.pl -m sequential -s /mnt/projects/zilov/metagenomes/sqeezemeta/test_run_staka2/sample -f /media/eternus1/data/prokaryota/milk/STAKA-222020803/Staka2-362721390/Staka2-ds.98e0ea04afbe4ccfa728b03e60ddfc52 -t 50\n",
      "time SqueezeMeta.pl -m coassembly -p staka_2_coassembly -s /mnt/projects/zilov/metagenomes/sqeezemeta/test_run_staka2/sample -f /media/eternus1/data/prokaryota/milk/STAKA-222020803/Staka2-362721390/Staka2-ds.98e0ea04afbe4ccfa728b03e60ddfc52 -t 50\n",
      "time SqueezeMeta.pl -m merged -p staka_2_merged -s /mnt/projects/zilov/metagenomes/sqeezemeta/test_run_staka2/sample -f /media/eternus1/data/prokaryota/milk/STAKA-222020803/Staka2-362721390/Staka2-ds.98e0ea04afbe4ccfa728b03e60ddfc52 -t 50\n"
     ]
    }
   ],
   "source": [
    "# sequental mode\n",
    "command_1 = f\"time SqueezeMeta.pl -m sequential -s {samples_file} -f {reads_dir} -t {threads}\"\n",
    "# coassembly mode\n",
    "command_2 = f\"time SqueezeMeta.pl -m coassembly -p staka_2_coassembly -s {samples_file} -f {reads_dir} -t {threads}\"\n",
    "# merged mode\n",
    "command_3 = f\"time SqueezeMeta.pl -m merged -p staka_2_merged -s {samples_file} -f {reads_dir} -t {threads}\"\n",
    "\n",
    "print(command_1)\n",
    "print(command_2)\n",
    "print(command_3)"
   ]
  },
  {
   "cell_type": "code",
   "execution_count": 3,
   "metadata": {},
   "outputs": [],
   "source": []
  },
  {
   "cell_type": "code",
   "execution_count": null,
   "metadata": {},
   "outputs": [],
   "source": []
  }
 ],
 "metadata": {
  "kernelspec": {
   "display_name": "Python 3",
   "language": "python",
   "name": "python3"
  },
  "language_info": {
   "codemirror_mode": {
    "name": "ipython",
    "version": 3
   },
   "file_extension": ".py",
   "mimetype": "text/x-python",
   "name": "python",
   "nbconvert_exporter": "python",
   "pygments_lexer": "ipython3",
   "version": "3.7.7"
  }
 },
 "nbformat": 4,
 "nbformat_minor": 4
}
