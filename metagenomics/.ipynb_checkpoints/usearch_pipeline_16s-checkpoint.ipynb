{
 "cells": [
  {
   "cell_type": "code",
   "execution_count": 2,
   "metadata": {},
   "outputs": [],
   "source": [
    "import os\n",
    "import os.path\n",
    "import glob"
   ]
  },
  {
   "cell_type": "code",
   "execution_count": 35,
   "metadata": {},
   "outputs": [],
   "source": [
    "work_dir = os.path.abspath(\"/mnt/projects/zilov/metagenomes/usearch/cancer_16s/\")\n",
    "reads_dir = os.path.abspath(\"/mnt/projects/zilov/data/quiime_metagenome/v16trim\")\n",
    "\n",
    "forward_reads = glob.glob(f\"{reads_dir}/*_1.fastq\")\n",
    "reverse_reads = glob.glob(f\"{reads_dir}/*_2.fastq\")\n",
    "\n",
    "forward_reads.sort()\n",
    "reverse_reads.sort()"
   ]
  },
  {
   "cell_type": "code",
   "execution_count": 39,
   "metadata": {},
   "outputs": [
    {
     "name": "stdout",
     "output_type": "stream",
     "text": [
      "mv /mnt/projects/zilov/data/quiime_metagenome/v16trim/10b_2.fastq /mnt/projects/zilov/data/quiime_metagenome/v16trim/10b_R2.fastq\n",
      "mv /mnt/projects/zilov/data/quiime_metagenome/v16trim/11b_2.fastq /mnt/projects/zilov/data/quiime_metagenome/v16trim/11b_R2.fastq\n",
      "mv /mnt/projects/zilov/data/quiime_metagenome/v16trim/12b_2.fastq /mnt/projects/zilov/data/quiime_metagenome/v16trim/12b_R2.fastq\n",
      "mv /mnt/projects/zilov/data/quiime_metagenome/v16trim/13b_2.fastq /mnt/projects/zilov/data/quiime_metagenome/v16trim/13b_R2.fastq\n",
      "mv /mnt/projects/zilov/data/quiime_metagenome/v16trim/14b_2.fastq /mnt/projects/zilov/data/quiime_metagenome/v16trim/14b_R2.fastq\n",
      "mv /mnt/projects/zilov/data/quiime_metagenome/v16trim/15b_2.fastq /mnt/projects/zilov/data/quiime_metagenome/v16trim/15b_R2.fastq\n",
      "mv /mnt/projects/zilov/data/quiime_metagenome/v16trim/16b_2.fastq /mnt/projects/zilov/data/quiime_metagenome/v16trim/16b_R2.fastq\n",
      "mv /mnt/projects/zilov/data/quiime_metagenome/v16trim/17b_2.fastq /mnt/projects/zilov/data/quiime_metagenome/v16trim/17b_R2.fastq\n",
      "mv /mnt/projects/zilov/data/quiime_metagenome/v16trim/18b_2.fastq /mnt/projects/zilov/data/quiime_metagenome/v16trim/18b_R2.fastq\n",
      "mv /mnt/projects/zilov/data/quiime_metagenome/v16trim/19b_2.fastq /mnt/projects/zilov/data/quiime_metagenome/v16trim/19b_R2.fastq\n",
      "mv /mnt/projects/zilov/data/quiime_metagenome/v16trim/1_2.fastq /mnt/projects/zilov/data/quiime_metagenome/v16trim/1_R2.fastq\n",
      "mv /mnt/projects/zilov/data/quiime_metagenome/v16trim/1b_2.fastq /mnt/projects/zilov/data/quiime_metagenome/v16trim/1b_R2.fastq\n",
      "mv /mnt/projects/zilov/data/quiime_metagenome/v16trim/20b_2.fastq /mnt/projects/zilov/data/quiime_metagenome/v16trim/20b_R2.fastq\n",
      "mv /mnt/projects/zilov/data/quiime_metagenome/v16trim/21b_2.fastq /mnt/projects/zilov/data/quiime_metagenome/v16trim/21b_R2.fastq\n",
      "mv /mnt/projects/zilov/data/quiime_metagenome/v16trim/22b_2.fastq /mnt/projects/zilov/data/quiime_metagenome/v16trim/22b_R2.fastq\n",
      "mv /mnt/projects/zilov/data/quiime_metagenome/v16trim/23b_2.fastq /mnt/projects/zilov/data/quiime_metagenome/v16trim/23b_R2.fastq\n",
      "mv /mnt/projects/zilov/data/quiime_metagenome/v16trim/24b_2.fastq /mnt/projects/zilov/data/quiime_metagenome/v16trim/24b_R2.fastq\n",
      "mv /mnt/projects/zilov/data/quiime_metagenome/v16trim/25b_2.fastq /mnt/projects/zilov/data/quiime_metagenome/v16trim/25b_R2.fastq\n",
      "mv /mnt/projects/zilov/data/quiime_metagenome/v16trim/26b_2.fastq /mnt/projects/zilov/data/quiime_metagenome/v16trim/26b_R2.fastq\n",
      "mv /mnt/projects/zilov/data/quiime_metagenome/v16trim/27b_2.fastq /mnt/projects/zilov/data/quiime_metagenome/v16trim/27b_R2.fastq\n",
      "mv /mnt/projects/zilov/data/quiime_metagenome/v16trim/28b_2.fastq /mnt/projects/zilov/data/quiime_metagenome/v16trim/28b_R2.fastq\n",
      "mv /mnt/projects/zilov/data/quiime_metagenome/v16trim/29b_2.fastq /mnt/projects/zilov/data/quiime_metagenome/v16trim/29b_R2.fastq\n",
      "mv /mnt/projects/zilov/data/quiime_metagenome/v16trim/2_2.fastq /mnt/projects/zilov/data/quiime_metagenome/v16trim/2_R2.fastq\n",
      "mv /mnt/projects/zilov/data/quiime_metagenome/v16trim/31b_2.fastq /mnt/projects/zilov/data/quiime_metagenome/v16trim/31b_R2.fastq\n",
      "mv /mnt/projects/zilov/data/quiime_metagenome/v16trim/32b_2.fastq /mnt/projects/zilov/data/quiime_metagenome/v16trim/32b_R2.fastq\n",
      "mv /mnt/projects/zilov/data/quiime_metagenome/v16trim/33b_2.fastq /mnt/projects/zilov/data/quiime_metagenome/v16trim/33b_R2.fastq\n",
      "mv /mnt/projects/zilov/data/quiime_metagenome/v16trim/34b_2.fastq /mnt/projects/zilov/data/quiime_metagenome/v16trim/34b_R2.fastq\n",
      "mv /mnt/projects/zilov/data/quiime_metagenome/v16trim/35b_2.fastq /mnt/projects/zilov/data/quiime_metagenome/v16trim/35b_R2.fastq\n",
      "mv /mnt/projects/zilov/data/quiime_metagenome/v16trim/36b_2.fastq /mnt/projects/zilov/data/quiime_metagenome/v16trim/36b_R2.fastq\n",
      "mv /mnt/projects/zilov/data/quiime_metagenome/v16trim/37b_2.fastq /mnt/projects/zilov/data/quiime_metagenome/v16trim/37b_R2.fastq\n",
      "mv /mnt/projects/zilov/data/quiime_metagenome/v16trim/38b_2.fastq /mnt/projects/zilov/data/quiime_metagenome/v16trim/38b_R2.fastq\n",
      "mv /mnt/projects/zilov/data/quiime_metagenome/v16trim/3_2.fastq /mnt/projects/zilov/data/quiime_metagenome/v16trim/3_R2.fastq\n",
      "mv /mnt/projects/zilov/data/quiime_metagenome/v16trim/3b_2.fastq /mnt/projects/zilov/data/quiime_metagenome/v16trim/3b_R2.fastq\n",
      "mv /mnt/projects/zilov/data/quiime_metagenome/v16trim/41b_2.fastq /mnt/projects/zilov/data/quiime_metagenome/v16trim/41b_R2.fastq\n",
      "mv /mnt/projects/zilov/data/quiime_metagenome/v16trim/42b_2.fastq /mnt/projects/zilov/data/quiime_metagenome/v16trim/42b_R2.fastq\n",
      "mv /mnt/projects/zilov/data/quiime_metagenome/v16trim/43b_2.fastq /mnt/projects/zilov/data/quiime_metagenome/v16trim/43b_R2.fastq\n",
      "mv /mnt/projects/zilov/data/quiime_metagenome/v16trim/44b_2.fastq /mnt/projects/zilov/data/quiime_metagenome/v16trim/44b_R2.fastq\n",
      "mv /mnt/projects/zilov/data/quiime_metagenome/v16trim/46b_2.fastq /mnt/projects/zilov/data/quiime_metagenome/v16trim/46b_R2.fastq\n",
      "mv /mnt/projects/zilov/data/quiime_metagenome/v16trim/48b_2.fastq /mnt/projects/zilov/data/quiime_metagenome/v16trim/48b_R2.fastq\n",
      "mv /mnt/projects/zilov/data/quiime_metagenome/v16trim/49b_2.fastq /mnt/projects/zilov/data/quiime_metagenome/v16trim/49b_R2.fastq\n",
      "mv /mnt/projects/zilov/data/quiime_metagenome/v16trim/4_2.fastq /mnt/projects/zilov/data/quiime_metagenome/v16trim/4_R2.fastq\n",
      "mv /mnt/projects/zilov/data/quiime_metagenome/v16trim/4b_2.fastq /mnt/projects/zilov/data/quiime_metagenome/v16trim/4b_R2.fastq\n",
      "mv /mnt/projects/zilov/data/quiime_metagenome/v16trim/50b_2.fastq /mnt/projects/zilov/data/quiime_metagenome/v16trim/50b_R2.fastq\n",
      "mv /mnt/projects/zilov/data/quiime_metagenome/v16trim/51b_2.fastq /mnt/projects/zilov/data/quiime_metagenome/v16trim/51b_R2.fastq\n",
      "mv /mnt/projects/zilov/data/quiime_metagenome/v16trim/52b_2.fastq /mnt/projects/zilov/data/quiime_metagenome/v16trim/52b_R2.fastq\n",
      "mv /mnt/projects/zilov/data/quiime_metagenome/v16trim/53b_2.fastq /mnt/projects/zilov/data/quiime_metagenome/v16trim/53b_R2.fastq\n",
      "mv /mnt/projects/zilov/data/quiime_metagenome/v16trim/54b_2.fastq /mnt/projects/zilov/data/quiime_metagenome/v16trim/54b_R2.fastq\n",
      "mv /mnt/projects/zilov/data/quiime_metagenome/v16trim/55b_2.fastq /mnt/projects/zilov/data/quiime_metagenome/v16trim/55b_R2.fastq\n",
      "mv /mnt/projects/zilov/data/quiime_metagenome/v16trim/5_2.fastq /mnt/projects/zilov/data/quiime_metagenome/v16trim/5_R2.fastq\n",
      "mv /mnt/projects/zilov/data/quiime_metagenome/v16trim/5b_2.fastq /mnt/projects/zilov/data/quiime_metagenome/v16trim/5b_R2.fastq\n",
      "mv /mnt/projects/zilov/data/quiime_metagenome/v16trim/61_2.fastq /mnt/projects/zilov/data/quiime_metagenome/v16trim/61_R2.fastq\n",
      "mv /mnt/projects/zilov/data/quiime_metagenome/v16trim/62_2.fastq /mnt/projects/zilov/data/quiime_metagenome/v16trim/62_R2.fastq\n",
      "mv /mnt/projects/zilov/data/quiime_metagenome/v16trim/63_2.fastq /mnt/projects/zilov/data/quiime_metagenome/v16trim/63_R2.fastq\n",
      "mv /mnt/projects/zilov/data/quiime_metagenome/v16trim/64_2.fastq /mnt/projects/zilov/data/quiime_metagenome/v16trim/64_R2.fastq\n",
      "mv /mnt/projects/zilov/data/quiime_metagenome/v16trim/65_2.fastq /mnt/projects/zilov/data/quiime_metagenome/v16trim/65_R2.fastq\n",
      "mv /mnt/projects/zilov/data/quiime_metagenome/v16trim/66-rep_2.fastq /mnt/projects/zilov/data/quiime_metagenome/v16trim/66-rep_R2.fastq\n",
      "mv /mnt/projects/zilov/data/quiime_metagenome/v16trim/67_2.fastq /mnt/projects/zilov/data/quiime_metagenome/v16trim/67_R2.fastq\n",
      "mv /mnt/projects/zilov/data/quiime_metagenome/v16trim/6b_2.fastq /mnt/projects/zilov/data/quiime_metagenome/v16trim/6b_R2.fastq\n",
      "mv /mnt/projects/zilov/data/quiime_metagenome/v16trim/70b_2.fastq /mnt/projects/zilov/data/quiime_metagenome/v16trim/70b_R2.fastq\n",
      "mv /mnt/projects/zilov/data/quiime_metagenome/v16trim/72_2.fastq /mnt/projects/zilov/data/quiime_metagenome/v16trim/72_R2.fastq\n",
      "mv /mnt/projects/zilov/data/quiime_metagenome/v16trim/73_2.fastq /mnt/projects/zilov/data/quiime_metagenome/v16trim/73_R2.fastq\n",
      "mv /mnt/projects/zilov/data/quiime_metagenome/v16trim/75_2.fastq /mnt/projects/zilov/data/quiime_metagenome/v16trim/75_R2.fastq\n",
      "mv /mnt/projects/zilov/data/quiime_metagenome/v16trim/76_2.fastq /mnt/projects/zilov/data/quiime_metagenome/v16trim/76_R2.fastq\n",
      "mv /mnt/projects/zilov/data/quiime_metagenome/v16trim/77_2.fastq /mnt/projects/zilov/data/quiime_metagenome/v16trim/77_R2.fastq\n",
      "mv /mnt/projects/zilov/data/quiime_metagenome/v16trim/78_2.fastq /mnt/projects/zilov/data/quiime_metagenome/v16trim/78_R2.fastq\n",
      "mv /mnt/projects/zilov/data/quiime_metagenome/v16trim/79_2.fastq /mnt/projects/zilov/data/quiime_metagenome/v16trim/79_R2.fastq\n",
      "mv /mnt/projects/zilov/data/quiime_metagenome/v16trim/7b_2.fastq /mnt/projects/zilov/data/quiime_metagenome/v16trim/7b_R2.fastq\n",
      "mv /mnt/projects/zilov/data/quiime_metagenome/v16trim/80_2.fastq /mnt/projects/zilov/data/quiime_metagenome/v16trim/80_R2.fastq\n",
      "mv /mnt/projects/zilov/data/quiime_metagenome/v16trim/81_2.fastq /mnt/projects/zilov/data/quiime_metagenome/v16trim/81_R2.fastq\n",
      "mv /mnt/projects/zilov/data/quiime_metagenome/v16trim/8b_2.fastq /mnt/projects/zilov/data/quiime_metagenome/v16trim/8b_R2.fastq\n"
     ]
    },
    {
     "name": "stdout",
     "output_type": "stream",
     "text": [
      "mv /mnt/projects/zilov/data/quiime_metagenome/v16trim/9b_2.fastq /mnt/projects/zilov/data/quiime_metagenome/v16trim/9b_R2.fastq\n"
     ]
    }
   ],
   "source": [
    "# renaming all files\n",
    "for file in reverse_reads:\n",
    "    new_file = \"/\".join(file.split(\"/\")[:-1]) + \"/\" + file.split(\"/\")[-1].replace(\"_2.fastq\", \"_R2.fastq\")\n",
    "    command = f\"mv {file} {new_file}\"\n",
    "    print(command)\n",
    "    os.system(command)"
   ]
  },
  {
   "cell_type": "code",
   "execution_count": 20,
   "metadata": {},
   "outputs": [
    {
     "name": "stdout",
     "output_type": "stream",
     "text": [
      "usearch -fastx_info /mnt/projects/zilov/data/quiime_metagenome/v16trim/10b_1.fastq > /mnt/projects/zilov/metagenomes/usearch/cancer_16s/reads_stats/10b_1.stat\n",
      "usearch -fastx_info /mnt/projects/zilov/data/quiime_metagenome/v16trim/11b_1.fastq > /mnt/projects/zilov/metagenomes/usearch/cancer_16s/reads_stats/11b_1.stat\n",
      "usearch -fastx_info /mnt/projects/zilov/data/quiime_metagenome/v16trim/12b_1.fastq > /mnt/projects/zilov/metagenomes/usearch/cancer_16s/reads_stats/12b_1.stat\n",
      "usearch -fastx_info /mnt/projects/zilov/data/quiime_metagenome/v16trim/13b_1.fastq > /mnt/projects/zilov/metagenomes/usearch/cancer_16s/reads_stats/13b_1.stat\n",
      "usearch -fastx_info /mnt/projects/zilov/data/quiime_metagenome/v16trim/14b_1.fastq > /mnt/projects/zilov/metagenomes/usearch/cancer_16s/reads_stats/14b_1.stat\n",
      "usearch -fastx_info /mnt/projects/zilov/data/quiime_metagenome/v16trim/15b_1.fastq > /mnt/projects/zilov/metagenomes/usearch/cancer_16s/reads_stats/15b_1.stat\n",
      "usearch -fastx_info /mnt/projects/zilov/data/quiime_metagenome/v16trim/16b_1.fastq > /mnt/projects/zilov/metagenomes/usearch/cancer_16s/reads_stats/16b_1.stat\n",
      "usearch -fastx_info /mnt/projects/zilov/data/quiime_metagenome/v16trim/17b_1.fastq > /mnt/projects/zilov/metagenomes/usearch/cancer_16s/reads_stats/17b_1.stat\n",
      "usearch -fastx_info /mnt/projects/zilov/data/quiime_metagenome/v16trim/18b_1.fastq > /mnt/projects/zilov/metagenomes/usearch/cancer_16s/reads_stats/18b_1.stat\n",
      "usearch -fastx_info /mnt/projects/zilov/data/quiime_metagenome/v16trim/19b_1.fastq > /mnt/projects/zilov/metagenomes/usearch/cancer_16s/reads_stats/19b_1.stat\n",
      "usearch -fastx_info /mnt/projects/zilov/data/quiime_metagenome/v16trim/1_1.fastq > /mnt/projects/zilov/metagenomes/usearch/cancer_16s/reads_stats/1_1.stat\n",
      "usearch -fastx_info /mnt/projects/zilov/data/quiime_metagenome/v16trim/1b_1.fastq > /mnt/projects/zilov/metagenomes/usearch/cancer_16s/reads_stats/1b_1.stat\n",
      "usearch -fastx_info /mnt/projects/zilov/data/quiime_metagenome/v16trim/20b_1.fastq > /mnt/projects/zilov/metagenomes/usearch/cancer_16s/reads_stats/20b_1.stat\n",
      "usearch -fastx_info /mnt/projects/zilov/data/quiime_metagenome/v16trim/21b_1.fastq > /mnt/projects/zilov/metagenomes/usearch/cancer_16s/reads_stats/21b_1.stat\n",
      "usearch -fastx_info /mnt/projects/zilov/data/quiime_metagenome/v16trim/22b_1.fastq > /mnt/projects/zilov/metagenomes/usearch/cancer_16s/reads_stats/22b_1.stat\n",
      "usearch -fastx_info /mnt/projects/zilov/data/quiime_metagenome/v16trim/23b_1.fastq > /mnt/projects/zilov/metagenomes/usearch/cancer_16s/reads_stats/23b_1.stat\n",
      "usearch -fastx_info /mnt/projects/zilov/data/quiime_metagenome/v16trim/24b_1.fastq > /mnt/projects/zilov/metagenomes/usearch/cancer_16s/reads_stats/24b_1.stat\n",
      "usearch -fastx_info /mnt/projects/zilov/data/quiime_metagenome/v16trim/25b_1.fastq > /mnt/projects/zilov/metagenomes/usearch/cancer_16s/reads_stats/25b_1.stat\n",
      "usearch -fastx_info /mnt/projects/zilov/data/quiime_metagenome/v16trim/26b_1.fastq > /mnt/projects/zilov/metagenomes/usearch/cancer_16s/reads_stats/26b_1.stat\n",
      "usearch -fastx_info /mnt/projects/zilov/data/quiime_metagenome/v16trim/27b_1.fastq > /mnt/projects/zilov/metagenomes/usearch/cancer_16s/reads_stats/27b_1.stat\n",
      "usearch -fastx_info /mnt/projects/zilov/data/quiime_metagenome/v16trim/28b_1.fastq > /mnt/projects/zilov/metagenomes/usearch/cancer_16s/reads_stats/28b_1.stat\n",
      "usearch -fastx_info /mnt/projects/zilov/data/quiime_metagenome/v16trim/29b_1.fastq > /mnt/projects/zilov/metagenomes/usearch/cancer_16s/reads_stats/29b_1.stat\n",
      "usearch -fastx_info /mnt/projects/zilov/data/quiime_metagenome/v16trim/2_1.fastq > /mnt/projects/zilov/metagenomes/usearch/cancer_16s/reads_stats/2_1.stat\n",
      "usearch -fastx_info /mnt/projects/zilov/data/quiime_metagenome/v16trim/31b_1.fastq > /mnt/projects/zilov/metagenomes/usearch/cancer_16s/reads_stats/31b_1.stat\n",
      "usearch -fastx_info /mnt/projects/zilov/data/quiime_metagenome/v16trim/32b_1.fastq > /mnt/projects/zilov/metagenomes/usearch/cancer_16s/reads_stats/32b_1.stat\n",
      "usearch -fastx_info /mnt/projects/zilov/data/quiime_metagenome/v16trim/33b_1.fastq > /mnt/projects/zilov/metagenomes/usearch/cancer_16s/reads_stats/33b_1.stat\n",
      "usearch -fastx_info /mnt/projects/zilov/data/quiime_metagenome/v16trim/34b_1.fastq > /mnt/projects/zilov/metagenomes/usearch/cancer_16s/reads_stats/34b_1.stat\n",
      "usearch -fastx_info /mnt/projects/zilov/data/quiime_metagenome/v16trim/35b_1.fastq > /mnt/projects/zilov/metagenomes/usearch/cancer_16s/reads_stats/35b_1.stat\n",
      "usearch -fastx_info /mnt/projects/zilov/data/quiime_metagenome/v16trim/36b_1.fastq > /mnt/projects/zilov/metagenomes/usearch/cancer_16s/reads_stats/36b_1.stat\n",
      "usearch -fastx_info /mnt/projects/zilov/data/quiime_metagenome/v16trim/37b_1.fastq > /mnt/projects/zilov/metagenomes/usearch/cancer_16s/reads_stats/37b_1.stat\n",
      "usearch -fastx_info /mnt/projects/zilov/data/quiime_metagenome/v16trim/38b_1.fastq > /mnt/projects/zilov/metagenomes/usearch/cancer_16s/reads_stats/38b_1.stat\n",
      "usearch -fastx_info /mnt/projects/zilov/data/quiime_metagenome/v16trim/3_1.fastq > /mnt/projects/zilov/metagenomes/usearch/cancer_16s/reads_stats/3_1.stat\n",
      "usearch -fastx_info /mnt/projects/zilov/data/quiime_metagenome/v16trim/3b_1.fastq > /mnt/projects/zilov/metagenomes/usearch/cancer_16s/reads_stats/3b_1.stat\n",
      "usearch -fastx_info /mnt/projects/zilov/data/quiime_metagenome/v16trim/41b_1.fastq > /mnt/projects/zilov/metagenomes/usearch/cancer_16s/reads_stats/41b_1.stat\n",
      "usearch -fastx_info /mnt/projects/zilov/data/quiime_metagenome/v16trim/42b_1.fastq > /mnt/projects/zilov/metagenomes/usearch/cancer_16s/reads_stats/42b_1.stat\n",
      "usearch -fastx_info /mnt/projects/zilov/data/quiime_metagenome/v16trim/43b_1.fastq > /mnt/projects/zilov/metagenomes/usearch/cancer_16s/reads_stats/43b_1.stat\n",
      "usearch -fastx_info /mnt/projects/zilov/data/quiime_metagenome/v16trim/44b_1.fastq > /mnt/projects/zilov/metagenomes/usearch/cancer_16s/reads_stats/44b_1.stat\n",
      "usearch -fastx_info /mnt/projects/zilov/data/quiime_metagenome/v16trim/46b_1.fastq > /mnt/projects/zilov/metagenomes/usearch/cancer_16s/reads_stats/46b_1.stat\n",
      "usearch -fastx_info /mnt/projects/zilov/data/quiime_metagenome/v16trim/48b_1.fastq > /mnt/projects/zilov/metagenomes/usearch/cancer_16s/reads_stats/48b_1.stat\n",
      "usearch -fastx_info /mnt/projects/zilov/data/quiime_metagenome/v16trim/49b_1.fastq > /mnt/projects/zilov/metagenomes/usearch/cancer_16s/reads_stats/49b_1.stat\n",
      "usearch -fastx_info /mnt/projects/zilov/data/quiime_metagenome/v16trim/4_1.fastq > /mnt/projects/zilov/metagenomes/usearch/cancer_16s/reads_stats/4_1.stat\n",
      "usearch -fastx_info /mnt/projects/zilov/data/quiime_metagenome/v16trim/4b_1.fastq > /mnt/projects/zilov/metagenomes/usearch/cancer_16s/reads_stats/4b_1.stat\n",
      "usearch -fastx_info /mnt/projects/zilov/data/quiime_metagenome/v16trim/50b_1.fastq > /mnt/projects/zilov/metagenomes/usearch/cancer_16s/reads_stats/50b_1.stat\n",
      "usearch -fastx_info /mnt/projects/zilov/data/quiime_metagenome/v16trim/51b_1.fastq > /mnt/projects/zilov/metagenomes/usearch/cancer_16s/reads_stats/51b_1.stat\n",
      "usearch -fastx_info /mnt/projects/zilov/data/quiime_metagenome/v16trim/52b_1.fastq > /mnt/projects/zilov/metagenomes/usearch/cancer_16s/reads_stats/52b_1.stat\n",
      "usearch -fastx_info /mnt/projects/zilov/data/quiime_metagenome/v16trim/53b_1.fastq > /mnt/projects/zilov/metagenomes/usearch/cancer_16s/reads_stats/53b_1.stat\n",
      "usearch -fastx_info /mnt/projects/zilov/data/quiime_metagenome/v16trim/54b_1.fastq > /mnt/projects/zilov/metagenomes/usearch/cancer_16s/reads_stats/54b_1.stat\n",
      "usearch -fastx_info /mnt/projects/zilov/data/quiime_metagenome/v16trim/55b_1.fastq > /mnt/projects/zilov/metagenomes/usearch/cancer_16s/reads_stats/55b_1.stat\n",
      "usearch -fastx_info /mnt/projects/zilov/data/quiime_metagenome/v16trim/5_1.fastq > /mnt/projects/zilov/metagenomes/usearch/cancer_16s/reads_stats/5_1.stat\n",
      "usearch -fastx_info /mnt/projects/zilov/data/quiime_metagenome/v16trim/5b_1.fastq > /mnt/projects/zilov/metagenomes/usearch/cancer_16s/reads_stats/5b_1.stat\n",
      "usearch -fastx_info /mnt/projects/zilov/data/quiime_metagenome/v16trim/61_1.fastq > /mnt/projects/zilov/metagenomes/usearch/cancer_16s/reads_stats/61_1.stat\n",
      "usearch -fastx_info /mnt/projects/zilov/data/quiime_metagenome/v16trim/62_1.fastq > /mnt/projects/zilov/metagenomes/usearch/cancer_16s/reads_stats/62_1.stat\n",
      "usearch -fastx_info /mnt/projects/zilov/data/quiime_metagenome/v16trim/63_1.fastq > /mnt/projects/zilov/metagenomes/usearch/cancer_16s/reads_stats/63_1.stat\n",
      "usearch -fastx_info /mnt/projects/zilov/data/quiime_metagenome/v16trim/64_1.fastq > /mnt/projects/zilov/metagenomes/usearch/cancer_16s/reads_stats/64_1.stat\n",
      "usearch -fastx_info /mnt/projects/zilov/data/quiime_metagenome/v16trim/65_1.fastq > /mnt/projects/zilov/metagenomes/usearch/cancer_16s/reads_stats/65_1.stat\n",
      "usearch -fastx_info /mnt/projects/zilov/data/quiime_metagenome/v16trim/66-rep_1.fastq > /mnt/projects/zilov/metagenomes/usearch/cancer_16s/reads_stats/66-rep_1.stat\n",
      "usearch -fastx_info /mnt/projects/zilov/data/quiime_metagenome/v16trim/67_1.fastq > /mnt/projects/zilov/metagenomes/usearch/cancer_16s/reads_stats/67_1.stat\n",
      "usearch -fastx_info /mnt/projects/zilov/data/quiime_metagenome/v16trim/6b_1.fastq > /mnt/projects/zilov/metagenomes/usearch/cancer_16s/reads_stats/6b_1.stat\n",
      "usearch -fastx_info /mnt/projects/zilov/data/quiime_metagenome/v16trim/70b_1.fastq > /mnt/projects/zilov/metagenomes/usearch/cancer_16s/reads_stats/70b_1.stat\n",
      "usearch -fastx_info /mnt/projects/zilov/data/quiime_metagenome/v16trim/72_1.fastq > /mnt/projects/zilov/metagenomes/usearch/cancer_16s/reads_stats/72_1.stat\n",
      "usearch -fastx_info /mnt/projects/zilov/data/quiime_metagenome/v16trim/73_1.fastq > /mnt/projects/zilov/metagenomes/usearch/cancer_16s/reads_stats/73_1.stat\n",
      "usearch -fastx_info /mnt/projects/zilov/data/quiime_metagenome/v16trim/75_1.fastq > /mnt/projects/zilov/metagenomes/usearch/cancer_16s/reads_stats/75_1.stat\n",
      "usearch -fastx_info /mnt/projects/zilov/data/quiime_metagenome/v16trim/76_1.fastq > /mnt/projects/zilov/metagenomes/usearch/cancer_16s/reads_stats/76_1.stat\n",
      "usearch -fastx_info /mnt/projects/zilov/data/quiime_metagenome/v16trim/77_1.fastq > /mnt/projects/zilov/metagenomes/usearch/cancer_16s/reads_stats/77_1.stat\n",
      "usearch -fastx_info /mnt/projects/zilov/data/quiime_metagenome/v16trim/78_1.fastq > /mnt/projects/zilov/metagenomes/usearch/cancer_16s/reads_stats/78_1.stat\n",
      "usearch -fastx_info /mnt/projects/zilov/data/quiime_metagenome/v16trim/79_1.fastq > /mnt/projects/zilov/metagenomes/usearch/cancer_16s/reads_stats/79_1.stat\n",
      "usearch -fastx_info /mnt/projects/zilov/data/quiime_metagenome/v16trim/7b_1.fastq > /mnt/projects/zilov/metagenomes/usearch/cancer_16s/reads_stats/7b_1.stat\n",
      "usearch -fastx_info /mnt/projects/zilov/data/quiime_metagenome/v16trim/80_1.fastq > /mnt/projects/zilov/metagenomes/usearch/cancer_16s/reads_stats/80_1.stat\n",
      "usearch -fastx_info /mnt/projects/zilov/data/quiime_metagenome/v16trim/81_1.fastq > /mnt/projects/zilov/metagenomes/usearch/cancer_16s/reads_stats/81_1.stat\n",
      "usearch -fastx_info /mnt/projects/zilov/data/quiime_metagenome/v16trim/8b_1.fastq > /mnt/projects/zilov/metagenomes/usearch/cancer_16s/reads_stats/8b_1.stat\n",
      "usearch -fastx_info /mnt/projects/zilov/data/quiime_metagenome/v16trim/9b_1.fastq > /mnt/projects/zilov/metagenomes/usearch/cancer_16s/reads_stats/9b_1.stat\n"
     ]
    }
   ],
   "source": [
    "# basic statistics\n",
    "output_dir = work_dir + \"/reads_stats\"\n",
    "for f_read in forward_reads:\n",
    "    in_file = f_read\n",
    "    out_file = output_dir + \"/\" + f_read.split(\"/\")[-1].split(\".\")[0]\n",
    "    if not os.path.exists(output_dir):\n",
    "        os.mkdir(output_dir)\n",
    "    command = f\"usearch -fastx_info {in_file} > {out_file}.stat\"\n",
    "    print(command)"
   ]
  },
  {
   "cell_type": "code",
   "execution_count": 33,
   "metadata": {},
   "outputs": [
    {
     "name": "stdout",
     "output_type": "stream",
     "text": [
      "usearch -fastq_mergepairs /mnt/projects/zilov/data/quiime_metagenome/v16trim/*_1.fastq -fastq_maxdiffs 14 -fastq_pctid 10 -fastqout /mnt/projects/zilov/metagenomes/usearch/cancer_16s/merged/merged.fq \n"
     ]
    }
   ],
   "source": [
    "# merge(assembly) of 16S rRNA Illumina reads, options - https://drive5.com/usearch/manual/merge_options.html\n",
    "#command = f\"usearch -fastq_mergepairs {forward_read}\"\n",
    "# print(command)\n",
    "\n",
    "# если слилось меньше 70% ридов, меняем дефолтные параметры\n",
    "# -fastq_maxdiffs - как много ошибок может быть в риде (дефолт 5), увеличиваем на 1, проверяем как меняется процент\n",
    "# в какой=то момент он перестанет расти, это значение оставляем\n",
    "output_dir_merge = work_dir + \"/merged\"\n",
    "os.mkdir(output_dir_merge)\n",
    "\n",
    "command_new = f\"usearch -fastq_mergepairs {reads_dir}/*_1.fastq -fastq_maxdiffs 14 -fastq_pctid 10 -fastqout {output_dir_merge}/merged.fq \"\n",
    "print(command_new)"
   ]
  },
  {
   "cell_type": "code",
   "execution_count": 3,
   "metadata": {},
   "outputs": [],
   "source": [
    "# global quality trimming to be confiden there no end gaps between reads"
   ]
  },
  {
   "cell_type": "code",
   "execution_count": 5,
   "metadata": {},
   "outputs": [],
   "source": [
    "# primer trimming to delete primers"
   ]
  },
  {
   "cell_type": "code",
   "execution_count": 2,
   "metadata": {},
   "outputs": [],
   "source": [
    "# quality filtering to delete low-quality reads\n",
    "\n",
    "command = \"usearch -fastq_filter -\""
   ]
  },
  {
   "cell_type": "code",
   "execution_count": 8,
   "metadata": {},
   "outputs": [
    {
     "name": "stdout",
     "output_type": "stream",
     "text": [
      "0\n",
      "1\n",
      "2\n",
      "3\n",
      "4\n",
      "5\n",
      "6\n",
      "7\n",
      "8\n",
      "9\n",
      "10\n",
      "11\n",
      "12\n",
      "13\n",
      "14\n",
      "15\n",
      "16\n",
      "0\n",
      "1\n",
      "0\n",
      "1\n",
      "0\n",
      "1\n",
      "0\n",
      "1\n",
      "0\n",
      "1\n",
      "0\n",
      "1\n",
      "0\n",
      "1\n",
      "0\n",
      "1\n",
      "0\n"
     ]
    }
   ],
   "source": [
    "l = []\n",
    "for i in range(17):\n",
    "    print(i)\n",
    "    l.append(i)\n",
    "m = []\n",
    "for x in l:\n",
    "    print(x&1)\n",
    "    m.append(x&1)"
   ]
  },
  {
   "cell_type": "code",
   "execution_count": null,
   "metadata": {},
   "outputs": [],
   "source": []
  }
 ],
 "metadata": {
  "kernelspec": {
   "display_name": "Python 3",
   "language": "python",
   "name": "python3"
  },
  "language_info": {
   "codemirror_mode": {
    "name": "ipython",
    "version": 3
   },
   "file_extension": ".py",
   "mimetype": "text/x-python",
   "name": "python",
   "nbconvert_exporter": "python",
   "pygments_lexer": "ipython3",
   "version": "3.7.9"
  }
 },
 "nbformat": 4,
 "nbformat_minor": 4
}
