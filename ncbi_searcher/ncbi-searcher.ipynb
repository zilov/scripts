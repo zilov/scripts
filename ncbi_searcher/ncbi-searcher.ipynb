{
 "cells": [
  {
   "cell_type": "code",
   "execution_count": null,
   "metadata": {},
   "outputs": [],
   "source": [
    "### all corona\n",
    "from Bio import Entrez\n",
    "Entrez.email = \"ad3002@gmail.com\"\n",
    "db = \"nucleotide\"\n",
    "query = \"txid1159901[Organism:exp]\"\n",
    "start = 0\n",
    "all_cov_ids = []\n",
    "while True:\n",
    "    handle = Entrez.esearch(db=db, retmax=500, retstart=start\\)\n",
    "    record = Entrez.read(handle)\n",
    "    start += 500\n",
    "    handle.close()\n",
    "    all_cov_ids += record[\"IdList\"]\n",
    "    print len(all_cov_ids),\n",
    "    if len(record[\"IdList\"]) == 0:\n",
    "        break\n",
    "print \"pmc\", len(all_cov_ids)\n",
    "for i in xrange(0, len(all_cov_ids), 500):\n",
    "    print i,\n",
    "    handle = Entrez.efetch(db=\"pmc\", id=\",\".join(all_cov_ids[i:i+500]), rettype=\"xml\", retmode=\"text\")\n",
    "    record = handle.read()"
   ]
  }
 ],
 "metadata": {
  "kernelspec": {
   "display_name": "Python 3",
   "language": "python",
   "name": "python3"
  },
  "language_info": {
   "codemirror_mode": {
    "name": "ipython",
    "version": 3
   },
   "file_extension": ".py",
   "mimetype": "text/x-python",
   "name": "python",
   "nbconvert_exporter": "python",
   "pygments_lexer": "ipython3",
   "version": "3.7.7"
  }
 },
 "nbformat": 4,
 "nbformat_minor": 4
}
