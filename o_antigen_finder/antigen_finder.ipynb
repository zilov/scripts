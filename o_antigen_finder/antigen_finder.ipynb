{
 "cells": [
  {
   "cell_type": "code",
   "execution_count": 60,
   "metadata": {},
   "outputs": [],
   "source": [
    "import os\n",
    "import os.path"
   ]
  },
  {
   "cell_type": "code",
   "execution_count": 61,
   "metadata": {},
   "outputs": [],
   "source": [
    "data_path = os.path.abspath(\"./test_data/\")\n",
    "dir_list =  os.listdir(data_path)"
   ]
  },
  {
   "cell_type": "code",
   "execution_count": 62,
   "metadata": {},
   "outputs": [],
   "source": [
    "files_list = []\n",
    "for n_dir in dir_list:\n",
    "    file = os.listdir(data_path + \"/\" + n_dir)[0]\n",
    "    files_list.append(data_path + \"/\" + n_dir + \"/\" + file)"
   ]
  },
  {
   "cell_type": "code",
   "execution_count": 63,
   "metadata": {},
   "outputs": [],
   "source": [
    "o_antigen_files = []\n",
    "h_antigen_files = []\n",
    "k_antigen_files = []\n",
    "\n",
    "for file in files_list:\n",
    "    with open(file) as fh:\n",
    "        for line in fh:\n",
    "            if line.startswith(\">\"):\n",
    "                if (\"wzx\" or \"wzy\" or \"wzz\") in line[1:5].lower():\n",
    "                    #print(line)\n",
    "                    o_antigen_files.append(file)\n",
    "                elif \"flic\" in line[1:5].lower():\n",
    "                    #print(line)\n",
    "                    h_antigen_files.append(file)\n",
    "                elif \"wza\" in line[1:5].lower() or \"wzb\" in line[1:5].lower() or \"wzc\" in line[1:5].lower():\n",
    "                    #print(line)\n",
    "                    k_antigen_files.append(file)"
   ]
  },
  {
   "cell_type": "code",
   "execution_count": 64,
   "metadata": {},
   "outputs": [],
   "source": [
    "o_h = 0\n",
    "o_k = 0\n",
    "o_h_k = 0\n",
    "h_k = 0\n",
    "\n",
    "for file in o_antigen_files:\n",
    "    if file in h_antigen_files and file in k_antigen_files:\n",
    "        o_h_k += 1\n",
    "    elif file in h_antigen_files:\n",
    "        o_h += 1\n",
    "    elif file in k_antigen_files:\n",
    "        o_k += 1\n",
    "\n",
    "for file in h_antigen_files:\n",
    "    if file in k_antigen_files:\n",
    "        h_k += 1"
   ]
  },
  {
   "cell_type": "code",
   "execution_count": 65,
   "metadata": {},
   "outputs": [
    {
     "name": "stdout",
     "output_type": "stream",
     "text": [
      "10\n",
      "20\n",
      "14\n",
      "4\n"
     ]
    }
   ],
   "source": [
    "print(o_h)\n",
    "print(o_k)\n",
    "print(o_h_k)\n",
    "print(h_k)"
   ]
  },
  {
   "cell_type": "code",
   "execution_count": 66,
   "metadata": {},
   "outputs": [],
   "source": [
    "def fasta_reader(file):\n",
    "        fasta = {}\n",
    "        header = None\n",
    "        with open(file) as fh:\n",
    "            for i, line in enumerate(fh):\n",
    "                line = line.strip()\n",
    "                if line.startswith(\">\"):\n",
    "                    if header:\n",
    "                        fasta[header]=\"\".join(seq)\n",
    "                    header = line\n",
    "                    seq = []\n",
    "                else:\n",
    "                    seq.append(line)\n",
    "        if header:\n",
    "            fasta[header] = \"\".join(seq)\n",
    "        return fasta "
   ]
  },
  {
   "cell_type": "code",
   "execution_count": 67,
   "metadata": {},
   "outputs": [],
   "source": [
    "test_file = fasta_reader(o_antigen_files[0])"
   ]
  },
  {
   "cell_type": "code",
   "execution_count": 98,
   "metadata": {},
   "outputs": [
    {
     "name": "stdout",
     "output_type": "stream",
     "text": [
      "['1197:1217'] ['1046:1066'] []\n"
     ]
    }
   ],
   "source": [
    "key_counter = 0\n",
    "all_keys = []\n",
    "\n",
    "#lists to write keys of interest related to o-h-k antigenes\n",
    "o_genes_of_interest = [] \n",
    "h_genes_of_interest = []\n",
    "k_genes_of_interest = []\n",
    "\n",
    "number_of_genes = len(test_file.keys())\n",
    "\n",
    "for key in test_file.keys():\n",
    "    all_keys.append(key)\n",
    "    key_counter += 1\n",
    "    gene = key[1:5].lower()\n",
    "    #  lookin for o-antigen genes\n",
    "    if (\"wzx\" or \"wzy\" or \"wzz\") in gene:\n",
    "        if key_counter - 10 < 0:\n",
    "            o_genes_of_interest.append(str(0) + \":\" + str(key_counter))\n",
    "        elif key_counter + 10 > number_of_genes:\n",
    "            o_genes_of_interest.append(str(key_counter) + \":\" + str(number_of_genes))\n",
    "        else:\n",
    "            o_genes_of_interest.append(str(key_counter - 10) + \":\" + str(key_counter + 10))\n",
    "    elif (\"flic\" or \"flib\") in gene:\n",
    "        if key_counter - 10 < 0:\n",
    "            h_genes_of_interest.append(str(0) + \":\" + str(key_counter))\n",
    "        elif key_counter + 10 > number_of_genes:\n",
    "            h_genes_of_interest.append(str(key_counter) + \":\" + str(number_of_genes))\n",
    "        else:\n",
    "            h_genes_of_interest.append(str(key_counter - 10) + \":\" + str(key_counter + 10))\n",
    "    elif (\"wza\" or \"wzb\" or \"wzc\") in gene:\n",
    "        if key_counter - 10 < 0:\n",
    "            h_genes_of_interest.append(str(0) + \":\" + str(key_counter))\n",
    "        elif key_counter + 10 > number_of_genes:\n",
    "            h_genes_of_interest.append(str(key_counter) + \":\" + str(number_of_genes))\n",
    "        else:\n",
    "            h_genes_of_interest.append(str(key_counter - 10) + \":\" + str(key_counter + 10))\n",
    "\n",
    "print(o_genes_of_interest, h_genes_of_interest, k_genes_of_interest)"
   ]
  },
  {
   "cell_type": "code",
   "execution_count": 97,
   "metadata": {},
   "outputs": [
    {
     "name": "stdout",
     "output_type": "stream",
     "text": [
      ">parE:NC_0070:NC_007086.1:3066305:3068194:product=DNA topoisomerase 4 subunit B\n",
      ">cdh:NC_0070:NC_007086.1:3068458:3069387:product=CDP-diacylglycerol pyrophosphatase\n",
      ">ydjE:NC_0070:NC_007086.1:3077951:3079357:product=Inner membrane metabolite transport protein YdjE\n",
      ">hepA:NC_0070:NC_007086.1:3079437:3081137:product=Heterocyst differentiation ATP-binding protein HepA\n",
      ">mshA_2:NC_0070:NC_007086.1:3085254:3086366:product=D-inositol-3-phosphate glycosyltransferase\n",
      ">mshA_3:NC_0070:NC_007086.1:3086363:3087487:product=D-inositol-3-phosphate glycosyltransferase\n",
      ">COQ5_2:NC_0070:NC_007086.1:3087612:3088322:product=2-methoxy-6-polyprenyl-1%2C4-benzoquinol methylase%2C mitochondrial\n",
      ">dadD_1:NC_0070:NC_007086.1:3088319:3089533:product=5'-deoxyadenosine deaminase\n",
      ">COQ5_3:NC_0070:NC_007086.1:3089546:3090391:product=2-methoxy-6-polyprenyl-1%2C4-benzoquinol methylase%2C mitochondrial\n",
      ">wzxE:NC_0070:NC_007086.1:3093518:3094771:product=Lipid III flippase\n",
      ">fdtB_1:NC_0070:NC_007086.1:3094768:3095889:product=dTDP-3-amino-3%2C6-dideoxy-alpha-D-galactopyranose transaminase\n",
      ">fdtA:NC_0070:NC_007086.1:3096056:3096478:product=TDP-4-oxo-6-deoxy-alpha-D-glucose-3%2C4-oxoisomerase\n",
      ">yodB_2:NC_0070:NC_007086.1:3096782:3097402:product=Cytochrome b561\n",
      ">rpoE:NC_0070:NC_007086.1:3100323:3100904:product=ECF RNA polymerase sigma-E factor\n",
      ">ccmC_2:NC_0070:NC_007086.1:3102876:3103634:product=Heme exporter protein C\n",
      ">ccmE_2:NC_0070:NC_007086.1:3103831:3104301:product=Cytochrome c-type biogenesis protein CcmE\n",
      ">ccmF_2:NC_0070:NC_007086.1:3104368:3106365:product=Cytochrome c-type biogenesis protein CcmF\n",
      ">dsbE_2:NC_0070:NC_007086.1:3106362:3106904:product=Thiol:disulfide interchange protein DsbE\n",
      ">rcsC_13:NC_0070:NC_007086.1:3108116:3110149:product=Sensor histidine kinase RcsC\n",
      ">kaiC:NC_0070:NC_007086.1:3110175:3111671:product=Circadian clock protein kinase KaiC\n",
      ">cpdR_1:NC_0070:NC_007086.1:3111864:3112238:product=Response regulator receiver protein CpdR\n"
     ]
    }
   ],
   "source": [
    "#  write to o-antigen file\n",
    "\n",
    "for genes in o_genes_of_interest:\n",
    "    start_gene = int(genes.split(\":\")[0])\n",
    "    stop_gene = int(genes.split(\":\")[1])\n",
    "    for key in range(start_gene, stop_gene + 1):\n",
    "        print(all_keys[key])\n",
    "        #print(test_file.get(all_keys[key]))\n",
    "        \n",
    "#  write to h-antigen file\n",
    "\n",
    "\n",
    "#  write to k-antigen file"
   ]
  },
  {
   "cell_type": "code",
   "execution_count": 86,
   "metadata": {},
   "outputs": [
    {
     "name": "stdout",
     "output_type": "stream",
     "text": [
      "ATGGATGCTTGGCCCCGCTGTCTGGAACGTCTCGAAGCTGAATTCCCGCCCGAGGATGTCCACACCTGGTTGAAACCCCTGCAGGCCGAAGATCGCGGCGACAGCATCGTGCTGTACGCGCCGAACGCCTTCATTGTTGAGCAGGTCCGCGAGCGATACCTGCCGCGCATCCGCGAGTTGCTGGCATATTTCGCCGGCAATGGCGAGGTGGCGCTGGCGGTCGGCTCCCGTCCGCGTGCGCCGGAGCCGCTGCCGGCACCGCAAGCCGTCGCCAGTGCGCCGGCGGCCGCGCCGATCGTGCCCTTCGCCGGCAACCTGGATTCGCATTACACCTTTGCCAACTTCGTGGAAGGCCGCAGCAACCAGCTCGGTCTGGCCGCGGCGATCCAGGCCGCGCAGAAGCCGGGCGACCGTGCACACAACCCGTTACTGCTGTACGGCAGCACCGGGCTGGGCAAGACCCACCTGATGTTCGCGGCCGGCAACGCGCTGCGCCAGGCCAATCCGGCGGCCAAGGTGATGTACCTGCGCTCGGAACAGTTCTTCAGCGCGATGATCCGCGCGTTGCATGACAAGGCAATGGACCAGTTCAAGCGCCAGTTCCATCAGATCGATGCGCTGCTGATCGACGACATCCAGTTTTTTGCCGGCATGGACCGCACGCAGGAGGAGTTTTTCCACACCTTCAACGCGCTGTTCGACGGCCGCCAGCATATCATCCTGACCTGCGACCGCTATCCGCGCGAAGTCGAGGGCCTGGAGCCGCGGCTGAAGTCGCGCCTGGCCTGGGGCCTGTCGGTGGCGATCGACCCGCCGGATTTCGAGACGCGTGCGGCGATCGTGCTGGCCAAGGCGCGCGAGCGCGGCGCCGAGATTCCCGACGACGTGGCGTTTCTGATCGCCAAGAAGATGCGCTCGAACGTGCGCGACCTGGAAGGGGCGCTCAACACGTTGGTGGCCCGCGCCAACTTCACTGGCCGCTCGATCACTGTGGAGTTTGCGCAGGAGACGCTGCGTGACCTGTTGCGTGCGCAGCAACAGGCGATCGGCATTCCCAACATCCAGAAGACCGTGGCCGACTACTACGGCCTGCAGATGAAGGACCTGCTTTCCAAGCGCCGCACCCGCTCATTGGCGCGCCCGCGCCAGGTGGCGATGGCGCTCGCCAAGGAGTTGACCGAGCACAGCCTGCCGGAGATTGGCGATGCGTTTGCCGGCCGCGACCACACCACCGTGCTGCACGCCTGCCGGCAGATCCGCACGCTGATGGAGGCCGACGGCAAGCTGCGCGAGGACTGGGAAAAGCTGATTCGCAAGCTCAGCGAGTGA\n"
     ]
    }
   ],
   "source": [
    "print(test_file.get('>dnaA:NC_0070:NC_007086.1:42:1370:product=Chromosomal replication initiator protein DnaA'))"
   ]
  },
  {
   "cell_type": "code",
   "execution_count": 100,
   "metadata": {},
   "outputs": [
    {
     "data": {
      "text/plain": [
       "dict_keys"
      ]
     },
     "execution_count": 100,
     "metadata": {},
     "output_type": "execute_result"
    }
   ],
   "source": [
    "type(test_file.keys())"
   ]
  },
  {
   "cell_type": "code",
   "execution_count": null,
   "metadata": {},
   "outputs": [],
   "source": []
  }
 ],
 "metadata": {
  "kernelspec": {
   "display_name": "Python 3",
   "language": "python",
   "name": "python3"
  },
  "language_info": {
   "codemirror_mode": {
    "name": "ipython",
    "version": 3
   },
   "file_extension": ".py",
   "mimetype": "text/x-python",
   "name": "python",
   "nbconvert_exporter": "python",
   "pygments_lexer": "ipython3",
   "version": "3.7.7"
  }
 },
 "nbformat": 4,
 "nbformat_minor": 4
}
