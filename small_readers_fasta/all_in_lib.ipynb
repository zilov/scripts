{
 "cells": [
  {
   "cell_type": "code",
   "execution_count": null,
   "id": "crude-advancement",
   "metadata": {},
   "outputs": [],
   "source": [
    "def read_fasta_file(fasta_file):\n",
    "    fasta = {}\n",
    "    header = None\n",
    "    with open(fasta_file) as fh:\n",
    "        for i, line in enumerate(fh):\n",
    "            line = line.strip()\n",
    "            if line.startswith(\">\"):\n",
    "                if header:\n",
    "                    fasta[header] = \"\".join(seq)\n",
    "                header = line[1:]\n",
    "                seq = []\n",
    "            else:\n",
    "                seq.append(line)\n",
    "        if header:\n",
    "            fasta[header] = \"\".join(seq)\n",
    "    return fasta"
   ]
  }
 ],
 "metadata": {
  "kernelspec": {
   "display_name": "Python 3",
   "language": "python",
   "name": "python3"
  },
  "language_info": {
   "codemirror_mode": {
    "name": "ipython",
    "version": 3
   },
   "file_extension": ".py",
   "mimetype": "text/x-python",
   "name": "python",
   "nbconvert_exporter": "python",
   "pygments_lexer": "ipython3",
   "version": "3.7.9"
  }
 },
 "nbformat": 4,
 "nbformat_minor": 5
}
