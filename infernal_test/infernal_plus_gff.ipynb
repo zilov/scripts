{
 "cells": [
  {
   "cell_type": "code",
   "execution_count": 8,
   "metadata": {},
   "outputs": [],
   "source": [
    "import os\n",
    "import os.path"
   ]
  },
  {
   "cell_type": "code",
   "execution_count": 45,
   "metadata": {},
   "outputs": [],
   "source": [
    "def infernal_runner(infernal_output, input_model, input_fasta):\n",
    "    command = \"cmsearch -o %s --cpu 1 %s %s\" % (infernal_output, input_model, input_fasta)\n",
    "    #if not os.path.exists(infernal_output):\n",
    "        #os.system(command)\n",
    "    print(command)\n",
    "    #else: print(infernal_output + \" exists! Extracting GFF!\")"
   ]
  },
  {
   "cell_type": "code",
   "execution_count": 46,
   "metadata": {},
   "outputs": [],
   "source": [
    "def infernal_to_gff_runner(infernal_to_gff_path, infernal_output, output_gff):\n",
    "    command = \"%s -i %s -o %s\" % (infernal_to_gff_path, infernal_output, output_gff)\n",
    "    #os.system(command)\n",
    "    print(command)\n",
    "    #print(\"Done!\")"
   ]
  },
  {
   "cell_type": "code",
   "execution_count": 23,
   "metadata": {},
   "outputs": [
    {
     "name": "stdout",
     "output_type": "stream",
     "text": [
      "['RF00128.cm', 'RF02678.cm', 'RF02679.cm']\n"
     ]
    }
   ],
   "source": [
    "fasta_path = \"/mnt/data/ncbi/refseq/bacteria_single/fda_genomes/\"\n",
    "path = os.listdir(fasta_path)[0:3]\n",
    "\n",
    "infernal_to_gff_path = \"/home/dzilov/infernal_test/infernal_to_gff.py\"\n",
    "\n",
    "models_path = \"/media/eternus1/nfs/projects/shared/rybozymes_models/\"\n",
    "models = os.listdir(models_dir)[0:3]\n",
    "\n",
    "print(models)"
   ]
  },
  {
   "cell_type": "code",
   "execution_count": 47,
   "metadata": {},
   "outputs": [
    {
     "name": "stdout",
     "output_type": "stream",
     "text": [
      "cmsearch -o /home/dzilov/infernal_test/test_run/GCF_001018725/GCF_001018725_RF00128 --cpu 1 /media/eternus1/nfs/projects/shared/rybozymes_models/RF00128.cm /mnt/data/ncbi/refseq/bacteria_single/fda_genomes/GCF_001018725.2_ASM101872v2_genomic.fna\n",
      "/home/dzilov/infernal_test/infernal_to_gff.py -i /home/dzilov/infernal_test/test_run/GCF_001018725/GCF_001018725_RF00128 -o /home/dzilov/infernal_test/test_run/GCF_001018725/GCF_001018725_RF00128.gff\n",
      "cmsearch -o /home/dzilov/infernal_test/test_run/GCF_006364695/GCF_006364695_RF00128 --cpu 1 /media/eternus1/nfs/projects/shared/rybozymes_models/RF00128.cm /mnt/data/ncbi/refseq/bacteria_single/fda_genomes/GCF_006364695.1_ASM636469v1_genomic.fna\n",
      "/home/dzilov/infernal_test/infernal_to_gff.py -i /home/dzilov/infernal_test/test_run/GCF_006364695/GCF_006364695_RF00128 -o /home/dzilov/infernal_test/test_run/GCF_006364695/GCF_006364695_RF00128.gff\n",
      "cmsearch -o /home/dzilov/infernal_test/test_run/GCF_002591275/GCF_002591275_RF00128 --cpu 1 /media/eternus1/nfs/projects/shared/rybozymes_models/RF00128.cm /mnt/data/ncbi/refseq/bacteria_single/fda_genomes/GCF_002591275.1_ASM259127v1_genomic.fna\n",
      "/home/dzilov/infernal_test/infernal_to_gff.py -i /home/dzilov/infernal_test/test_run/GCF_002591275/GCF_002591275_RF00128 -o /home/dzilov/infernal_test/test_run/GCF_002591275/GCF_002591275_RF00128.gff\n",
      "cmsearch -o /home/dzilov/infernal_test/test_run/GCF_001018725/GCF_001018725_RF02678 --cpu 1 /media/eternus1/nfs/projects/shared/rybozymes_models/RF02678.cm /mnt/data/ncbi/refseq/bacteria_single/fda_genomes/GCF_001018725.2_ASM101872v2_genomic.fna\n",
      "/home/dzilov/infernal_test/infernal_to_gff.py -i /home/dzilov/infernal_test/test_run/GCF_001018725/GCF_001018725_RF02678 -o /home/dzilov/infernal_test/test_run/GCF_001018725/GCF_001018725_RF02678.gff\n",
      "cmsearch -o /home/dzilov/infernal_test/test_run/GCF_006364695/GCF_006364695_RF02678 --cpu 1 /media/eternus1/nfs/projects/shared/rybozymes_models/RF02678.cm /mnt/data/ncbi/refseq/bacteria_single/fda_genomes/GCF_006364695.1_ASM636469v1_genomic.fna\n",
      "/home/dzilov/infernal_test/infernal_to_gff.py -i /home/dzilov/infernal_test/test_run/GCF_006364695/GCF_006364695_RF02678 -o /home/dzilov/infernal_test/test_run/GCF_006364695/GCF_006364695_RF02678.gff\n",
      "cmsearch -o /home/dzilov/infernal_test/test_run/GCF_002591275/GCF_002591275_RF02678 --cpu 1 /media/eternus1/nfs/projects/shared/rybozymes_models/RF02678.cm /mnt/data/ncbi/refseq/bacteria_single/fda_genomes/GCF_002591275.1_ASM259127v1_genomic.fna\n",
      "/home/dzilov/infernal_test/infernal_to_gff.py -i /home/dzilov/infernal_test/test_run/GCF_002591275/GCF_002591275_RF02678 -o /home/dzilov/infernal_test/test_run/GCF_002591275/GCF_002591275_RF02678.gff\n",
      "cmsearch -o /home/dzilov/infernal_test/test_run/GCF_001018725/GCF_001018725_RF02679 --cpu 1 /media/eternus1/nfs/projects/shared/rybozymes_models/RF02679.cm /mnt/data/ncbi/refseq/bacteria_single/fda_genomes/GCF_001018725.2_ASM101872v2_genomic.fna\n",
      "/home/dzilov/infernal_test/infernal_to_gff.py -i /home/dzilov/infernal_test/test_run/GCF_001018725/GCF_001018725_RF02679 -o /home/dzilov/infernal_test/test_run/GCF_001018725/GCF_001018725_RF02679.gff\n",
      "cmsearch -o /home/dzilov/infernal_test/test_run/GCF_006364695/GCF_006364695_RF02679 --cpu 1 /media/eternus1/nfs/projects/shared/rybozymes_models/RF02679.cm /mnt/data/ncbi/refseq/bacteria_single/fda_genomes/GCF_006364695.1_ASM636469v1_genomic.fna\n",
      "/home/dzilov/infernal_test/infernal_to_gff.py -i /home/dzilov/infernal_test/test_run/GCF_006364695/GCF_006364695_RF02679 -o /home/dzilov/infernal_test/test_run/GCF_006364695/GCF_006364695_RF02679.gff\n",
      "cmsearch -o /home/dzilov/infernal_test/test_run/GCF_002591275/GCF_002591275_RF02679 --cpu 1 /media/eternus1/nfs/projects/shared/rybozymes_models/RF02679.cm /mnt/data/ncbi/refseq/bacteria_single/fda_genomes/GCF_002591275.1_ASM259127v1_genomic.fna\n",
      "/home/dzilov/infernal_test/infernal_to_gff.py -i /home/dzilov/infernal_test/test_run/GCF_002591275/GCF_002591275_RF02679 -o /home/dzilov/infernal_test/test_run/GCF_002591275/GCF_002591275_RF02679.gff\n"
     ]
    }
   ],
   "source": [
    "for model in models:\n",
    "    model_prefix = model.split(\".\")[0]\n",
    "    model = models_path + model\n",
    "    for file in path:\n",
    "        input_fasta = fasta_path + file\n",
    "        input_fasta_prefix = file.split(\".\")[0]\n",
    "        input_model = model\n",
    "        output_path = \"/home/dzilov/infernal_test/test_run/%s\" % input_fasta_prefix\n",
    "        if not os.path.exists(output_path):\n",
    "            os.mkdir(output_path)\n",
    "        output_gff = output_path + \"/%s_%s.gff\" % (input_fasta_prefix, model_prefix)\n",
    "        infernal_output = output_gff.split(\".gff\")[0]\n",
    "        \n",
    "        infernal_runner(infernal_output, model, input_fasta)\n",
    "        infernal_to_gff_runner(infernal_to_gff_path, infernal_output, output_gff)"
   ]
  },
  {
   "cell_type": "code",
   "execution_count": null,
   "metadata": {},
   "outputs": [],
   "source": []
  }
 ],
 "metadata": {
  "kernelspec": {
   "display_name": "Python 3",
   "language": "python",
   "name": "python3"
  },
  "language_info": {
   "codemirror_mode": {
    "name": "ipython",
    "version": 3
   },
   "file_extension": ".py",
   "mimetype": "text/x-python",
   "name": "python",
   "nbconvert_exporter": "python",
   "pygments_lexer": "ipython3",
   "version": "3.7.9"
  }
 },
 "nbformat": 4,
 "nbformat_minor": 4
}
