{
 "cells": [
  {
   "cell_type": "code",
   "execution_count": 1,
   "metadata": {},
   "outputs": [],
   "source": [
    "import os\n",
    "import os.path"
   ]
  },
  {
   "cell_type": "code",
   "execution_count": null,
   "metadata": {},
   "outputs": [],
   "source": []
  },
  {
   "cell_type": "code",
   "execution_count": 20,
   "metadata": {},
   "outputs": [],
   "source": [
    "input_fasta = \"/mnt/projects/shared/ecoli_ref.fasta\"\n",
    "input_model = \"/mnt/projects/shared/rybozymes_models/RF02276.cm\"\n",
    "output_gff = \"/home/dzilov/scripts/infernal_parsers/test_output.gff\"\n",
    "infernal_to_gff_path = \"/home/dzilov/scripts/infernal_parsers/infernal_to_gff.py\"\n",
    "infernal_output = output_gff.split(\".gff\")[0]"
   ]
  },
  {
   "cell_type": "code",
   "execution_count": 17,
   "metadata": {},
   "outputs": [],
   "source": [
    "def infernal_runner(infernal_output, input_model, input_fasta):\n",
    "    command = \"cmsearch -o %s --cpu 1 %s %s\" % (infernal_output, input_model, input_fasta)\n",
    "    print(command)\n",
    "    os.system(command)"
   ]
  },
  {
   "cell_type": "code",
   "execution_count": 18,
   "metadata": {},
   "outputs": [],
   "source": [
    "def infernal_to_gff_runner(infernal_to_gff_path, infernal_output, output_gff):\n",
    "    command = \"%s -i %s -o %s\" % (infernal_to_gff_path, infernal_output, output_gff)\n",
    "    print(command)\n",
    "    os.system(command)\n",
    "    print(\"Done!\")"
   ]
  },
  {
   "cell_type": "code",
   "execution_count": null,
   "metadata": {},
   "outputs": [],
   "source": []
  }
 ],
 "metadata": {
  "kernelspec": {
   "display_name": "Python 3",
   "language": "python",
   "name": "python3"
  },
  "language_info": {
   "codemirror_mode": {
    "name": "ipython",
    "version": 3
   },
   "file_extension": ".py",
   "mimetype": "text/x-python",
   "name": "python",
   "nbconvert_exporter": "python",
   "pygments_lexer": "ipython3",
   "version": "3.7.7"
  }
 },
 "nbformat": 4,
 "nbformat_minor": 4
}
