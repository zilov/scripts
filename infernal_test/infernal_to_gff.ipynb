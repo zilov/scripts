{
 "cells": [
  {
   "cell_type": "code",
   "execution_count": 1,
   "metadata": {},
   "outputs": [],
   "source": [
    "import os\n",
    "import os.path\n",
    "infernal_output = \"/mnt/projects/shared/ecolik12_hummerhead_RF02276\"\n",
    "gff_output = \"/mnt/projects/shared/ecolik12_hummerhead_RF02276.gff\""
   ]
  },
  {
   "cell_type": "code",
   "execution_count": 36,
   "metadata": {},
   "outputs": [],
   "source": [
    "with open(gff_output, \"w\") as fw:\n",
    "    fw.write(\"#%s\\t%s\\t%s\\t%s\\t%s\\t%s\\t%s\\t%s\\n\" % (\"seqid\", \"source\", \"e_value\", \"score\", \"start\", \"stop\", \"strand\", \"description\"))\n",
    "    with open(infernal_output) as fh:\n",
    "        for line in fh:\n",
    "            line = line.strip()\n",
    "            if line.startswith(\"Hit alignments\"):\n",
    "                break\n",
    "            if line.startswith(\"Query\"):\n",
    "                query = line.split(\":\")[1].strip()\n",
    "            if line.startswith(\"Accession\"):\n",
    "                accession = line.split(\":\")[1].strip()\n",
    "            if line.startswith(\"#\") or line.startswith(\"Query\") or line.startswith(\"Accession\") or line.startswith(\"Hit scores\") or line.startswith(\"rank\") or line.startswith(\"-\"):\n",
    "                continue\n",
    "            else:\n",
    "                if line:\n",
    "                    line = line.split()\n",
    "                    seqid = line[5]\n",
    "                    source = query + \" \" + accession\n",
    "                    e_value = line[2]\n",
    "                    score = line[3]\n",
    "                    start = line[6]\n",
    "                    stop = line[7]\n",
    "                    strand = line[8]\n",
    "                    description = \" \".join(line[12:])\n",
    "                    fw.write(\"%s\\t%s\\t%s\\t%s\\t%s\\t%s\\t%s\\t%s\\n\" % (seqid, source, e_value, score, start, stop, strand, description))"
   ]
  },
  {
   "cell_type": "code",
   "execution_count": null,
   "metadata": {},
   "outputs": [],
   "source": [
    "os.path.abspath()"
   ]
  }
 ],
 "metadata": {
  "kernelspec": {
   "display_name": "Python 3",
   "language": "python",
   "name": "python3"
  },
  "language_info": {
   "codemirror_mode": {
    "name": "ipython",
    "version": 3
   },
   "file_extension": ".py",
   "mimetype": "text/x-python",
   "name": "python",
   "nbconvert_exporter": "python",
   "pygments_lexer": "ipython3",
   "version": "3.7.6"
  }
 },
 "nbformat": 4,
 "nbformat_minor": 4
}
