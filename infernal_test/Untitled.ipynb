{
 "cells": [
  {
   "cell_type": "code",
   "execution_count": 1,
   "metadata": {},
   "outputs": [],
   "source": [
    "import pymongo\n",
    "\n",
    "myclient = pymongo.MongoClient(\"mongodb://localhost:27017/\")\n",
    "mydb = myclient[\"ribozymes_db\"]\n",
    "mycol = mydb[\"bacteria\"]\n",
    "\n"
   ]
  },
  {
   "cell_type": "code",
   "execution_count": null,
   "metadata": {},
   "outputs": [],
   "source": [
    "mydict = {\"_id\": \"\", \"seqid\": \"\", \"source\": \"\", \"e_value\" : \"\", \"score\": \"\", \"start\": \"\", \"stop\": \"\", \"strand\": \"\", \"description\" : \"\"}\n",
    "\n",
    "x = mycol.insert_one(mydict)"
   ]
  },
  {
   "cell_type": "code",
   "execution_count": 2,
   "metadata": {},
   "outputs": [
    {
     "data": {
      "text/plain": [
       "{'a': 1, 'b': 2, 'c': 3}"
      ]
     },
     "execution_count": 2,
     "metadata": {},
     "output_type": "execute_result"
    }
   ],
   "source": [
    "headers = [\"a\",\"b\",\"c\"]\n",
    "values = [1,2,3]\n",
    "\n",
    "dict(zip(headers,values))"
   ]
  },
  {
   "cell_type": "code",
   "execution_count": 3,
   "metadata": {},
   "outputs": [
    {
     "name": "stdout",
     "output_type": "stream",
     "text": [
      "xargs -P 1 -I {} sh -c \"cmsearch /media/eternus1/nfs/projects/shared/rybozymes_models/RF03072.cm {} | /home/dzilov/infernal_test/infernal_to_gff.py\"\n",
      "xargs -P 1 -I {} sh -c \"cmsearch /media/eternus1/nfs/projects/shared/rybozymes_models/RF00162.cm {} | /home/dzilov/infernal_test/infernal_to_gff.py\"\n",
      "xargs -P 1 -I {} sh -c \"cmsearch /media/eternus1/nfs/projects/shared/rybozymes_models/RF00128.cm {} | /home/dzilov/infernal_test/infernal_to_gff.py\"\n",
      "xargs -P 1 -I {} sh -c \"cmsearch /media/eternus1/nfs/projects/shared/rybozymes_models/RF02678.cm {} | /home/dzilov/infernal_test/infernal_to_gff.py\"\n",
      "xargs -P 1 -I {} sh -c \"cmsearch /media/eternus1/nfs/projects/shared/rybozymes_models/RF02679.cm {} | /home/dzilov/infernal_test/infernal_to_gff.py\"\n",
      "xargs -P 1 -I {} sh -c \"cmsearch /media/eternus1/nfs/projects/shared/rybozymes_models/RF00083.cm {} | /home/dzilov/infernal_test/infernal_to_gff.py\"\n",
      "xargs -P 1 -I {} sh -c \"cmsearch /media/eternus1/nfs/projects/shared/rybozymes_models/RF00168.cm {} | /home/dzilov/infernal_test/infernal_to_gff.py\"\n",
      "xargs -P 1 -I {} sh -c \"cmsearch /media/eternus1/nfs/projects/shared/rybozymes_models/RF01767.cm {} | /home/dzilov/infernal_test/infernal_to_gff.py\"\n",
      "xargs -P 1 -I {} sh -c \"cmsearch /media/eternus1/nfs/projects/shared/rybozymes_models/RF01068.cm {} | /home/dzilov/infernal_test/infernal_to_gff.py\"\n",
      "xargs -P 1 -I {} sh -c \"cmsearch /media/eternus1/nfs/projects/shared/rybozymes_models/RF02685.cm {} | /home/dzilov/infernal_test/infernal_to_gff.py\"\n",
      "xargs -P 1 -I {} sh -c \"cmsearch /media/eternus1/nfs/projects/shared/rybozymes_models/RF03167.cm {} | /home/dzilov/infernal_test/infernal_to_gff.py\"\n",
      "xargs -P 1 -I {} sh -c \"cmsearch /media/eternus1/nfs/projects/shared/rybozymes_models/RF03058.cm {} | /home/dzilov/infernal_test/infernal_to_gff.py\"\n",
      "xargs -P 1 -I {} sh -c \"cmsearch /media/eternus1/nfs/projects/shared/rybozymes_models/RF03169.cm {} | /home/dzilov/infernal_test/infernal_to_gff.py\"\n",
      "xargs -P 1 -I {} sh -c \"cmsearch /media/eternus1/nfs/projects/shared/rybozymes_models/RF02912.cm {} | /home/dzilov/infernal_test/infernal_to_gff.py\"\n",
      "xargs -P 1 -I {} sh -c \"cmsearch /media/eternus1/nfs/projects/shared/rybozymes_models/RF00080.cm {} | /home/dzilov/infernal_test/infernal_to_gff.py\"\n",
      "xargs -P 1 -I {} sh -c \"cmsearch /media/eternus1/nfs/projects/shared/rybozymes_models/RF02681.cm {} | /home/dzilov/infernal_test/infernal_to_gff.py\"\n",
      "xargs -P 1 -I {} sh -c \"cmsearch /media/eternus1/nfs/projects/shared/rybozymes_models/RF00504.cm {} | /home/dzilov/infernal_test/infernal_to_gff.py\"\n",
      "xargs -P 1 -I {} sh -c \"cmsearch /media/eternus1/nfs/projects/shared/rybozymes_models/RF00234.cm {} | /home/dzilov/infernal_test/infernal_to_gff.py\"\n",
      "xargs -P 1 -I {} sh -c \"cmsearch /media/eternus1/nfs/projects/shared/rybozymes_models/RF00050.cm {} | /home/dzilov/infernal_test/infernal_to_gff.py\"\n",
      "xargs -P 1 -I {} sh -c \"cmsearch /media/eternus1/nfs/projects/shared/rybozymes_models/RF00059.cm {} | /home/dzilov/infernal_test/infernal_to_gff.py\"\n",
      "xargs -P 1 -I {} sh -c \"cmsearch /media/eternus1/nfs/projects/shared/rybozymes_models/RF01727.cm {} | /home/dzilov/infernal_test/infernal_to_gff.py\"\n",
      "xargs -P 1 -I {} sh -c \"cmsearch /media/eternus1/nfs/projects/shared/rybozymes_models/RF01510.cm {} | /home/dzilov/infernal_test/infernal_to_gff.py\"\n",
      "xargs -P 1 -I {} sh -c \"cmsearch /media/eternus1/nfs/projects/shared/rybozymes_models/RF01055.cm {} | /home/dzilov/infernal_test/infernal_to_gff.py\"\n",
      "xargs -P 1 -I {} sh -c \"cmsearch /media/eternus1/nfs/projects/shared/rybozymes_models/RF03168.cm {} | /home/dzilov/infernal_test/infernal_to_gff.py\"\n",
      "xargs -P 1 -I {} sh -c \"cmsearch /media/eternus1/nfs/projects/shared/rybozymes_models/RF01831.cm {} | /home/dzilov/infernal_test/infernal_to_gff.py\"\n",
      "xargs -P 1 -I {} sh -c \"cmsearch /media/eternus1/nfs/projects/shared/rybozymes_models/RF02686.cm {} | /home/dzilov/infernal_test/infernal_to_gff.py\"\n",
      "xargs -P 1 -I {} sh -c \"cmsearch /media/eternus1/nfs/projects/shared/rybozymes_models/RF00011.cm {} | /home/dzilov/infernal_test/infernal_to_gff.py\"\n",
      "xargs -P 1 -I {} sh -c \"cmsearch /media/eternus1/nfs/projects/shared/rybozymes_models/RF01750.cm {} | /home/dzilov/infernal_test/infernal_to_gff.py\"\n",
      "xargs -P 1 -I {} sh -c \"cmsearch /media/eternus1/nfs/projects/shared/rybozymes_models/RF00174.cm {} | /home/dzilov/infernal_test/infernal_to_gff.py\"\n",
      "xargs -P 1 -I {} sh -c \"cmsearch /media/eternus1/nfs/projects/shared/rybozymes_models/RF01763.cm {} | /home/dzilov/infernal_test/infernal_to_gff.py\"\n",
      "xargs -P 1 -I {} sh -c \"cmsearch /media/eternus1/nfs/projects/shared/rybozymes_models/RF01054.cm {} | /home/dzilov/infernal_test/infernal_to_gff.py\"\n",
      "xargs -P 1 -I {} sh -c \"cmsearch /media/eternus1/nfs/projects/shared/rybozymes_models/RF02357.cm {} | /home/dzilov/infernal_test/infernal_to_gff.py\"\n",
      "xargs -P 1 -I {} sh -c \"cmsearch /media/eternus1/nfs/projects/shared/rybozymes_models/RF01734.cm {} | /home/dzilov/infernal_test/infernal_to_gff.py\"\n",
      "xargs -P 1 -I {} sh -c \"cmsearch /media/eternus1/nfs/projects/shared/rybozymes_models/RF00373.cm {} | /home/dzilov/infernal_test/infernal_to_gff.py\"\n",
      "xargs -P 1 -I {} sh -c \"cmsearch /media/eternus1/nfs/projects/shared/rybozymes_models/RF00380.cm {} | /home/dzilov/infernal_test/infernal_to_gff.py\"\n",
      "xargs -P 1 -I {} sh -c \"cmsearch /media/eternus1/nfs/projects/shared/rybozymes_models/RF00010.cm {} | /home/dzilov/infernal_test/infernal_to_gff.py\"\n",
      "xargs -P 1 -I {} sh -c \"cmsearch /media/eternus1/nfs/projects/shared/rybozymes_models/RF00442.cm {} | /home/dzilov/infernal_test/infernal_to_gff.py\"\n",
      "xargs -P 1 -I {} sh -c \"cmsearch /media/eternus1/nfs/projects/shared/rybozymes_models/RF00379.cm {} | /home/dzilov/infernal_test/infernal_to_gff.py\"\n",
      "xargs -P 1 -I {} sh -c \"cmsearch /media/eternus1/nfs/projects/shared/rybozymes_models/RF00167.cm {} | /home/dzilov/infernal_test/infernal_to_gff.py\"\n",
      "xargs -P 1 -I {} sh -c \"cmsearch /media/eternus1/nfs/projects/shared/rybozymes_models/RF00521.cm {} | /home/dzilov/infernal_test/infernal_to_gff.py\"\n",
      "xargs -P 1 -I {} sh -c \"cmsearch /media/eternus1/nfs/projects/shared/rybozymes_models/RF01482.cm {} | /home/dzilov/infernal_test/infernal_to_gff.py\"\n",
      "xargs -P 1 -I {} sh -c \"cmsearch /media/eternus1/nfs/projects/shared/rybozymes_models/RF00634.cm {} | /home/dzilov/infernal_test/infernal_to_gff.py\"\n",
      "xargs -P 1 -I {} sh -c \"cmsearch /media/eternus1/nfs/projects/shared/rybozymes_models/RF02688.cm {} | /home/dzilov/infernal_test/infernal_to_gff.py\"\n",
      "xargs -P 1 -I {} sh -c \"cmsearch /media/eternus1/nfs/projects/shared/rybozymes_models/RF01056.cm {} | /home/dzilov/infernal_test/infernal_to_gff.py\"\n",
      "xargs -P 1 -I {} sh -c \"cmsearch /media/eternus1/nfs/projects/shared/rybozymes_models/RF01057.cm {} | /home/dzilov/infernal_test/infernal_to_gff.py\"\n",
      "xargs -P 1 -I {} sh -c \"cmsearch /media/eternus1/nfs/projects/shared/rybozymes_models/RF00522.cm {} | /home/dzilov/infernal_test/infernal_to_gff.py\"\n",
      "xargs -P 1 -I {} sh -c \"cmsearch /media/eternus1/nfs/projects/shared/rybozymes_models/RF01689.cm {} | /home/dzilov/infernal_test/infernal_to_gff.py\"\n",
      "xargs -P 1 -I {} sh -c \"cmsearch /media/eternus1/nfs/projects/shared/rybozymes_models/RF02885.cm {} | /home/dzilov/infernal_test/infernal_to_gff.py\"\n",
      "xargs -P 1 -I {} sh -c \"cmsearch /media/eternus1/nfs/projects/shared/rybozymes_models/RF01786.cm {} | /home/dzilov/infernal_test/infernal_to_gff.py\"\n",
      "xargs -P 1 -I {} sh -c \"cmsearch /media/eternus1/nfs/projects/shared/rybozymes_models/RF01725.cm {} | /home/dzilov/infernal_test/infernal_to_gff.py\"\n",
      "xargs -P 1 -I {} sh -c \"cmsearch /media/eternus1/nfs/projects/shared/rybozymes_models/RF01826.cm {} | /home/dzilov/infernal_test/infernal_to_gff.py\"\n",
      "xargs -P 1 -I {} sh -c \"cmsearch /media/eternus1/nfs/projects/shared/rybozymes_models/RF02680.cm {} | /home/dzilov/infernal_test/infernal_to_gff.py\"\n",
      "xargs -P 1 -I {} sh -c \"cmsearch /media/eternus1/nfs/projects/shared/rybozymes_models/RF02687.cm {} | /home/dzilov/infernal_test/infernal_to_gff.py\"\n",
      "xargs -P 1 -I {} sh -c \"cmsearch /media/eternus1/nfs/projects/shared/rybozymes_models/RF01051.cm {} | /home/dzilov/infernal_test/infernal_to_gff.py\"\n",
      "xargs -P 1 -I {} sh -c \"cmsearch /media/eternus1/nfs/projects/shared/rybozymes_models/RF03166.cm {} | /home/dzilov/infernal_test/infernal_to_gff.py\"\n",
      "xargs -P 1 -I {} sh -c \"cmsearch /media/eternus1/nfs/projects/shared/rybozymes_models/RF02684.cm {} | /home/dzilov/infernal_test/infernal_to_gff.py\"\n",
      "xargs -P 1 -I {} sh -c \"cmsearch /media/eternus1/nfs/projects/shared/rybozymes_models/RF01739.cm {} | /home/dzilov/infernal_test/infernal_to_gff.py\"\n",
      "xargs -P 1 -I {} sh -c \"cmsearch /media/eternus1/nfs/projects/shared/rybozymes_models/RF03057.cm {} | /home/dzilov/infernal_test/infernal_to_gff.py\"\n",
      "xargs -P 1 -I {} sh -c \"cmsearch /media/eternus1/nfs/projects/shared/rybozymes_models/RF02683.cm {} | /home/dzilov/infernal_test/infernal_to_gff.py\"\n",
      "xargs -P 1 -I {} sh -c \"cmsearch /media/eternus1/nfs/projects/shared/rybozymes_models/RF03071.cm {} | /home/dzilov/infernal_test/infernal_to_gff.py\"\n",
      "xargs -P 1 -I {} sh -c \"cmsearch /media/eternus1/nfs/projects/shared/rybozymes_models/RF02276.cm {} | /home/dzilov/infernal_test/infernal_to_gff.py\"\n"
     ]
    }
   ],
   "source": [
    "import os\n",
    "import os.path\n",
    "\n",
    "models_dir = \"/media/eternus1/nfs/projects/shared/rybozymes_models/\"\n",
    "\n",
    "for file in os.listdir(models_dir):\n",
    "    model = models_dir + file\n",
    "    command = 'ls /mnt/data/ncbi/refseq/bacteria_single/genomes/ | grep fna | xargs -P 1 -I {} sh -c \"cmsearch %s {} | /home/dzilov/infernal_test/infernal_to_gff.py\"' % model\n",
    "    print(command)"
   ]
  },
  {
   "cell_type": "code",
   "execution_count": null,
   "metadata": {},
   "outputs": [],
   "source": []
  }
 ],
 "metadata": {
  "kernelspec": {
   "display_name": "Python 3",
   "language": "python",
   "name": "python3"
  },
  "language_info": {
   "codemirror_mode": {
    "name": "ipython",
    "version": 3
   },
   "file_extension": ".py",
   "mimetype": "text/x-python",
   "name": "python",
   "nbconvert_exporter": "python",
   "pygments_lexer": "ipython3",
   "version": "3.7.7"
  }
 },
 "nbformat": 4,
 "nbformat_minor": 4
}
