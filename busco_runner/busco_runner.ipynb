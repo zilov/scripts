{
 "cells": [
  {
   "cell_type": "code",
   "execution_count": 15,
   "metadata": {},
   "outputs": [],
   "source": [
    "import os\n",
    "import os.path\n",
    "path = '/mnt/data/solenodon/'"
   ]
  },
  {
   "cell_type": "code",
   "execution_count": 16,
   "metadata": {},
   "outputs": [],
   "source": [
    "dir_list = os.listdir(path)"
   ]
  },
  {
   "cell_type": "code",
   "execution_count": 31,
   "metadata": {},
   "outputs": [
    {
     "name": "stdout",
     "output_type": "stream",
     "text": [
      "['/mnt/data/solenodon/sus_scrofa', '/mnt/data/solenodon/sorex_araneus', '/mnt/data/solenodon/equus_caballus', '/mnt/data/solenodon/phyllostomus_discolor', '/mnt/data/solenodon/manis_pentadactyla', '/mnt/data/solenodon/uropsilus_gracilis', '/mnt/data/solenodon/erinaceus_europaeus', '/mnt/data/solenodon/scalopus_aquaticus', '/mnt/data/solenodon/felis_catus', '/mnt/data/solenodon/solenodon_paradoxus', '/mnt/data/solenodon/bos_taurus']\n"
     ]
    }
   ],
   "source": [
    "new_dir_list = []\n",
    "for directory in dir_list:\n",
    "    if 'busco' in directory or 'condylura' in directory or 'canis' in directory or 'crocidura' in directory or \"check\" in directory:\n",
    "        continue\n",
    "    else:\n",
    "        new_dir_list.append(path + directory)\n",
    "print(new_dir_list)"
   ]
  },
  {
   "cell_type": "code",
   "execution_count": 32,
   "metadata": {},
   "outputs": [
    {
     "name": "stdout",
     "output_type": "stream",
     "text": [
      "['/mnt/data/solenodon/sus_scrofa/GCF_000003025.6_Sscrofa11.1_genomic.fna', '/mnt/data/solenodon/sorex_araneus/GCF_000181275.1_SorAra2.0_genomic.fna', '/mnt/data/solenodon/equus_caballus/GCF_002863925.1_EquCab3.0_genomic.fna', '/mnt/data/solenodon/phyllostomus_discolor/GCF_004126475.2_mPhyDis1.pri.v3_genomic.fna', '/mnt/data/solenodon/manis_pentadactyla/GCA_000738955.1_M_pentadactyla-1.1.1_genomic.fna', '/mnt/data/solenodon/uropsilus_gracilis/GCA_004024945.1_UroGra_v1_BIUU_genomic.fna', '/mnt/data/solenodon/erinaceus_europaeus/GCF_000296755.1_EriEur2.0_genomic.fna', '/mnt/data/solenodon/scalopus_aquaticus/GCA_004024925.1_ScaAqu_v1_BIUU_genomic.fna', '/mnt/data/solenodon/felis_catus/GCF_000181335.3_Felis_catus_9.0_genomic.fna', '/mnt/data/solenodon/solenodon_paradoxus/GCA_004363575.1_SolPar_v1_BIUU_genomic.fna', '/mnt/data/solenodon/bos_taurus/GCF_002263795.1_ARS-UCD1.2_genomic.fna']\n"
     ]
    }
   ],
   "source": [
    "files_to_busco = []\n",
    "for directory in new_dir_list:\n",
    "    files_in_dir = os.listdir(directory)\n",
    "    for file in files_in_dir:\n",
    "        if file.endswith(\".fna\"):\n",
    "            files_to_busco.append(directory + \"/\" + file)\n",
    "print(files_to_busco)"
   ]
  },
  {
   "cell_type": "code",
   "execution_count": 3,
   "metadata": {},
   "outputs": [
    {
     "name": "stdout",
     "output_type": "stream",
     "text": [
      "time busco --auto-lineage-euk --config /home/dzilov/soft/busco5/config/config.ini -i /mnt/data/lizards/dasha/val/Trinity.fasta -c 192 -m geno -f --out val_result\n",
      "time busco --auto-lineage-euk --config /home/dzilov/soft/busco5/config/config.ini -i /mnt/data/lizards/dasha/unisex/Trinity.fasta -c 192 -m geno -f --out unisex_result\n",
      "time busco --auto-lineage-euk --config /home/dzilov/soft/busco5/config/config.ini -i /mnt/data/lizards/dasha/raddei/Trinity.fasta -c 192 -m geno -f --out raddei_result\n"
     ]
    }
   ],
   "source": [
    "files = [\"/mnt/data/lizards/dasha/val/Trinity.fasta\",\n",
    "         \"/mnt/data/lizards/dasha/unisex/Trinity.fasta\",\n",
    "        \"/mnt/data/lizards/dasha/raddei/Trinity.fasta\"]\n",
    "for file in files:\n",
    "    results_dir = file.split(\"/\")[-2] + \"_result\"\n",
    "    busco_comand = f\"\"\"time busco --auto-lineage-euk --config /home/dzilov/soft/busco5/config/config.ini -i {file} -c 192 -m geno -f --out {results_dir}\"\"\"\n",
    "    print(busco_comand)"
   ]
  },
  {
   "cell_type": "code",
   "execution_count": 48,
   "metadata": {},
   "outputs": [],
   "source": [
    "dicti = {\"bla\" : 124, \"blabla\" : 1234, \"blo\" : 1432}"
   ]
  },
  {
   "cell_type": "code",
   "execution_count": 49,
   "metadata": {},
   "outputs": [],
   "source": [
    "min_val = min(dicti, key = dicti.get)"
   ]
  },
  {
   "cell_type": "code",
   "execution_count": 50,
   "metadata": {},
   "outputs": [
    {
     "data": {
      "text/plain": [
       "'bla'"
      ]
     },
     "execution_count": 50,
     "metadata": {},
     "output_type": "execute_result"
    }
   ],
   "source": [
    "min_val"
   ]
  },
  {
   "cell_type": "code",
   "execution_count": 51,
   "metadata": {},
   "outputs": [
    {
     "name": "stdout",
     "output_type": "stream",
     "text": [
      "[1, 2, 3]\n",
      "[10, 2, 3]\n",
      "[10, 2, 20]\n",
      "[10, 2, 20]\n"
     ]
    }
   ],
   "source": [
    "a = [1, 2, 3]\n",
    "b = a\n",
    "print(b)\n",
    "\n",
    "a[0] = 10\n",
    "print(b)\n",
    "\n",
    "b[2] = 20\n",
    "print(a)\n",
    "\n",
    "a = [2, 4]\n",
    "print(b)"
   ]
  },
  {
   "cell_type": "code",
   "execution_count": null,
   "metadata": {},
   "outputs": [],
   "source": []
  },
  {
   "cell_type": "code",
   "execution_count": null,
   "metadata": {},
   "outputs": [],
   "source": []
  },
  {
   "cell_type": "code",
   "execution_count": null,
   "metadata": {},
   "outputs": [],
   "source": []
  }
 ],
 "metadata": {
  "kernelspec": {
   "display_name": "Python 3",
   "language": "python",
   "name": "python3"
  },
  "language_info": {
   "codemirror_mode": {
    "name": "ipython",
    "version": 3
   },
   "file_extension": ".py",
   "mimetype": "text/x-python",
   "name": "python",
   "nbconvert_exporter": "python",
   "pygments_lexer": "ipython3",
   "version": "3.7.7"
  }
 },
 "nbformat": 4,
 "nbformat_minor": 4
}
