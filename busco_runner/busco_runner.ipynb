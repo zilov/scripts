{
 "cells": [
  {
   "cell_type": "code",
   "execution_count": 17,
   "metadata": {},
   "outputs": [],
   "source": [
    "import os\n",
    "import os.path\n",
    "path = '/mnt/data/vgp/glis_glis/'"
   ]
  },
  {
   "cell_type": "code",
   "execution_count": 19,
   "metadata": {},
   "outputs": [],
   "source": [
    "dir_list = os.listdir(path)\n",
    "files_to_run = []\n",
    "for file in dir_list:\n",
    "    if file.endswith(\".fna\") or file.endswith(\".fasta\"):\n",
    "        files_to_run.append(path + file)"
   ]
  },
  {
   "cell_type": "code",
   "execution_count": 22,
   "metadata": {},
   "outputs": [
    {
     "name": "stdout",
     "output_type": "stream",
     "text": [
      "time busco --auto-lineage-euk --config /home/dzilov/soft/busco5/config/config.ini -i /mnt/data/vgp/glis_glis/GCA_004024805.1_XerIna_v1_BIUU_genomic.fna -c 150 -m geno -f --out GCA_004024805.1_XerIna_v1_BIUU_genomic_result\n",
      "time busco --auto-lineage-euk --config /home/dzilov/soft/busco5/config/config.ini -i /mnt/data/vgp/glis_glis/GCA_011316645.1_ASM1131664v1_genomic.fna -c 150 -m geno -f --out GCA_011316645.1_ASM1131664v1_genomic_result\n",
      "time busco --auto-lineage-euk --config /home/dzilov/soft/busco5/config/config.ini -i /mnt/data/vgp/glis_glis/GCA_004027875.1_AplRuf_v1_BIUU_genomic.fna -c 150 -m geno -f --out GCA_004027875.1_AplRuf_v1_BIUU_genomic_result\n",
      "time busco --auto-lineage-euk --config /home/dzilov/soft/busco5/config/config.ini -i /mnt/data/vgp/glis_glis/GCA_002406435.1_ASM240643v1_genomic.fna -c 150 -m geno -f --out GCA_002406435.1_ASM240643v1_genomic_result\n",
      "time busco --auto-lineage-euk --config /home/dzilov/soft/busco5/config/config.ini -i /mnt/data/vgp/glis_glis/GCA_901343595.1_MONAX5_genomic.fna -c 150 -m geno -f --out GCA_901343595.1_MONAX5_genomic_result\n",
      "time busco --auto-lineage-euk --config /home/dzilov/soft/busco5/config/config.ini -i /mnt/data/vgp/glis_glis/GCA_902686455.2_mSciVul1.2_genomic.fna -c 150 -m geno -f --out GCA_902686455.2_mSciVul1.2_genomic_result\n",
      "time busco --auto-lineage-euk --config /home/dzilov/soft/busco5/config/config.ini -i /mnt/data/vgp/glis_glis/GCA_004006685.1_ASM400668v1_genomic.fna -c 150 -m geno -f --out GCA_004006685.1_ASM400668v1_genomic_result\n",
      "time busco --auto-lineage-euk --config /home/dzilov/soft/busco5/config/config.ini -i /mnt/data/vgp/glis_glis/GCA_003426925.1_ASM342692v1_genomic.fna -c 150 -m geno -f --out GCA_003426925.1_ASM342692v1_genomic_result\n",
      "time busco --auto-lineage-euk --config /home/dzilov/soft/busco5/config/config.ini -i /mnt/data/vgp/glis_glis/GCA_004027655.1_GraMur_v1_BIUU_genomic.fna -c 150 -m geno -f --out GCA_004027655.1_GraMur_v1_BIUU_genomic_result\n",
      "time busco --auto-lineage-euk --config /home/dzilov/soft/busco5/config/config.ini -i /mnt/data/vgp/glis_glis/GCA_001458135.2_marMar_genomic.fna -c 150 -m geno -f --out GCA_001458135.2_marMar_genomic_result\n",
      "time busco --auto-lineage-euk --config /home/dzilov/soft/busco5/config/config.ini -i /mnt/data/vgp/glis_glis/GCA_004027185.1_GliGli_v1_BIUU_genomic.fna -c 150 -m geno -f --out GCA_004027185.1_GliGli_v1_BIUU_genomic_result\n",
      "time busco --auto-lineage-euk --config /home/dzilov/soft/busco5/config/config.ini -i /mnt/data/vgp/glis_glis/GCA_003676075.2_GSC_YBM_2.0_genomic.fna -c 150 -m geno -f --out GCA_003676075.2_GSC_YBM_2.0_genomic_result\n",
      "time busco --auto-lineage-euk --config /home/dzilov/soft/busco5/config/config.ini -i /mnt/data/vgp/glis_glis/GCA_902686445.2_mSciCar1.2_genomic.fna -c 150 -m geno -f --out GCA_902686445.2_mSciCar1.2_genomic_result\n",
      "time busco --auto-lineage-euk --config /home/dzilov/soft/busco5/config/config.ini -i /mnt/data/vgp/glis_glis/GCA_005280165.1_ASM528016v1_genomic.fna -c 150 -m geno -f --out GCA_005280165.1_ASM528016v1_genomic_result\n",
      "time busco --auto-lineage-euk --config /home/dzilov/soft/busco5/config/config.ini -i /mnt/data/vgp/glis_glis/GCA_004027005.1_MusAve_v1_BIUU_genomic.fna -c 150 -m geno -f --out GCA_004027005.1_MusAve_v1_BIUU_genomic_result\n",
      "time busco --auto-lineage-euk --config /home/dzilov/soft/busco5/config/config.ini -i /mnt/data/vgp/glis_glis/GCA_005458795.1_GSC_VIM_1.0_genomic.fna -c 150 -m geno -f --out GCA_005458795.1_GSC_VIM_1.0_genomic_result\n",
      "time busco --auto-lineage-euk --config /home/dzilov/soft/busco5/config/config.ini -i /mnt/data/vgp/glis_glis/glis_glis.SciCar.fasta -c 150 -m geno -f --out glis_glis.SciCar_result\n"
     ]
    }
   ],
   "source": [
    "mode = \"geno\"\n",
    "cpus = \"150\"\n",
    "lineage = \"metazoa_odb10\"\n",
    "for file in files_to_run:\n",
    "    results_dir = file.split(\"/\")[-1].split(\".f\")[0] + \"_result\"\n",
    "    busco_comand = f\"\"\"time busco --auto-lineage-euk --config /home/dzilov/soft/busco5/config/config.ini -i {file} -c {cpus} -m {mode} -f --out {results_dir}\"\"\"\n",
    "    print(busco_comand)"
   ]
  },
  {
   "cell_type": "code",
   "execution_count": 7,
   "metadata": {},
   "outputs": [
    {
     "name": "stdout",
     "output_type": "stream",
     "text": [
      "['/media/eternus1/nfs/projects/upload/milana/Eupentacta/assemblies/trinity_sample58.Trinity.fasta', '/media/eternus1/nfs/projects/upload/milana/Eupentacta/assemblies/trinity_sample70.Trinity.fasta', '/media/eternus1/nfs/projects/upload/milana/Eupentacta/assemblies/trinity_sample52.Trinity.fasta', '/media/eternus1/nfs/projects/upload/milana/Eupentacta/assemblies/trinity_sample33.Trinity.fasta', '/media/eternus1/nfs/projects/upload/milana/Eupentacta/assemblies/trinity_sample45.Trinity.fasta', '/media/eternus1/nfs/projects/upload/milana/Eupentacta/assemblies/trinity_sample1.Trinity.fasta']\n"
     ]
    }
   ],
   "source": [
    "new_dir_list = []\n",
    "for directory in dir_list:\n",
    "    if 'busco' in directory or 'condylura' in directory or 'canis' in directory or 'crocidura' in directory or \"check\" in directory:\n",
    "        continue\n",
    "    else:\n",
    "        new_dir_list.append(path + directory)\n",
    "print(new_dir_list)"
   ]
  },
  {
   "cell_type": "code",
   "execution_count": 32,
   "metadata": {},
   "outputs": [
    {
     "name": "stdout",
     "output_type": "stream",
     "text": [
      "['/mnt/data/solenodon/sus_scrofa/GCF_000003025.6_Sscrofa11.1_genomic.fna', '/mnt/data/solenodon/sorex_araneus/GCF_000181275.1_SorAra2.0_genomic.fna', '/mnt/data/solenodon/equus_caballus/GCF_002863925.1_EquCab3.0_genomic.fna', '/mnt/data/solenodon/phyllostomus_discolor/GCF_004126475.2_mPhyDis1.pri.v3_genomic.fna', '/mnt/data/solenodon/manis_pentadactyla/GCA_000738955.1_M_pentadactyla-1.1.1_genomic.fna', '/mnt/data/solenodon/uropsilus_gracilis/GCA_004024945.1_UroGra_v1_BIUU_genomic.fna', '/mnt/data/solenodon/erinaceus_europaeus/GCF_000296755.1_EriEur2.0_genomic.fna', '/mnt/data/solenodon/scalopus_aquaticus/GCA_004024925.1_ScaAqu_v1_BIUU_genomic.fna', '/mnt/data/solenodon/felis_catus/GCF_000181335.3_Felis_catus_9.0_genomic.fna', '/mnt/data/solenodon/solenodon_paradoxus/GCA_004363575.1_SolPar_v1_BIUU_genomic.fna', '/mnt/data/solenodon/bos_taurus/GCF_002263795.1_ARS-UCD1.2_genomic.fna']\n"
     ]
    }
   ],
   "source": [
    "files_to_busco = []\n",
    "for directory in new_dir_list:\n",
    "    files_in_dir = os.listdir(directory)\n",
    "    for file in files_in_dir:\n",
    "        if file.endswith(\".fna\"):\n",
    "            files_to_busco.append(directory + \"/\" + file)\n",
    "print(files_to_busco)"
   ]
  },
  {
   "cell_type": "code",
   "execution_count": 3,
   "metadata": {},
   "outputs": [
    {
     "name": "stdout",
     "output_type": "stream",
     "text": [
      "time busco --auto-lineage-euk --config /home/dzilov/soft/busco5/config/config.ini -i /mnt/data/lizards/dasha/val/Trinity.fasta -c 192 -m geno -f --out val_result\n",
      "time busco --auto-lineage-euk --config /home/dzilov/soft/busco5/config/config.ini -i /mnt/data/lizards/dasha/unisex/Trinity.fasta -c 192 -m geno -f --out unisex_result\n",
      "time busco --auto-lineage-euk --config /home/dzilov/soft/busco5/config/config.ini -i /mnt/data/lizards/dasha/raddei/Trinity.fasta -c 192 -m geno -f --out raddei_result\n"
     ]
    }
   ],
   "source": [
    "files = [\"/mnt/data/lizards/dasha/val/Trinity.fasta\",\n",
    "         \"/mnt/data/lizards/dasha/unisex/Trinity.fasta\",\n",
    "        \"/mnt/data/lizards/dasha/raddei/Trinity.fasta\"]\n",
    "for file in files:\n",
    "    results_dir = file.split(\"/\")[-2] + \"_result\"\n",
    "    busco_comand = f\"\"\"time busco --auto-lineage-euk --config /home/dzilov/soft/busco5/config/config.ini -i {file} -c 192 -m geno -f --out {results_dir}\"\"\"\n",
    "    print(busco_comand)"
   ]
  },
  {
   "cell_type": "code",
   "execution_count": 48,
   "metadata": {},
   "outputs": [],
   "source": [
    "dicti = {\"bla\" : 124, \"blabla\" : 1234, \"blo\" : 1432}"
   ]
  },
  {
   "cell_type": "code",
   "execution_count": 49,
   "metadata": {},
   "outputs": [],
   "source": [
    "min_val = min(dicti, key = dicti.get)"
   ]
  },
  {
   "cell_type": "code",
   "execution_count": 50,
   "metadata": {},
   "outputs": [
    {
     "data": {
      "text/plain": [
       "'bla'"
      ]
     },
     "execution_count": 50,
     "metadata": {},
     "output_type": "execute_result"
    }
   ],
   "source": [
    "min_val"
   ]
  },
  {
   "cell_type": "code",
   "execution_count": 51,
   "metadata": {},
   "outputs": [
    {
     "name": "stdout",
     "output_type": "stream",
     "text": [
      "[1, 2, 3]\n",
      "[10, 2, 3]\n",
      "[10, 2, 20]\n",
      "[10, 2, 20]\n"
     ]
    }
   ],
   "source": [
    "a = [1, 2, 3]\n",
    "b = a\n",
    "print(b)\n",
    "\n",
    "a[0] = 10\n",
    "print(b)\n",
    "\n",
    "b[2] = 20\n",
    "print(a)\n",
    "\n",
    "a = [2, 4]\n",
    "print(b)"
   ]
  },
  {
   "cell_type": "code",
   "execution_count": null,
   "metadata": {},
   "outputs": [],
   "source": []
  },
  {
   "cell_type": "code",
   "execution_count": 8,
   "metadata": {},
   "outputs": [
    {
     "ename": "SyntaxError",
     "evalue": "unexpected EOF while parsing (<ipython-input-8-86cd9f2039fd>, line 2)",
     "output_type": "error",
     "traceback": [
      "\u001b[0;36m  File \u001b[0;32m\"<ipython-input-8-86cd9f2039fd>\"\u001b[0;36m, line \u001b[0;32m2\u001b[0m\n\u001b[0;31m    \u001b[0m\n\u001b[0m    ^\u001b[0m\n\u001b[0;31mSyntaxError\u001b[0m\u001b[0;31m:\u001b[0m unexpected EOF while parsing\n"
     ]
    }
   ],
   "source": []
  },
  {
   "cell_type": "code",
   "execution_count": 1,
   "metadata": {},
   "outputs": [
    {
     "name": "stdout",
     "output_type": "stream",
     "text": [
      "time busco --auto-lineage-euk --config /home/dzilov/soft/busco5/config/config.ini -i /mnt/data/vgp/glis_glis/pacbio_assembly/wtdbg2_2_ALL_polished.fasta -c 192 -m geno -f --out pacbio_assembly_result\n",
      "time busco --auto-lineage-euk --config /home/dzilov/soft/busco5/config/config.ini -i /mnt/data/vgp/glis_glis/pacbio_assembly/ragtag_output/ragtag.scaffolds.fasta -c 192 -m geno -f --out ragtag_output_result\n"
     ]
    }
   ],
   "source": [
    "files = [\"/mnt/data/vgp/glis_glis/pacbio_assembly/wtdbg2_2_ALL_polished.fasta\",\n",
    "         \"/mnt/data/vgp/glis_glis/pacbio_assembly/ragtag_output/ragtag.scaffolds.fasta\"]\n",
    "\n",
    "for file in files:\n",
    "    results_dir = file.split(\"/\")[-2] + \"_result\"\n",
    "    busco_comand = f\"\"\"time busco --auto-lineage-euk --config /home/dzilov/soft/busco5/config/config.ini -i {file} -c 192 -m geno -f --out {results_dir}\"\"\"\n",
    "    print(busco_comand)"
   ]
  },
  {
   "cell_type": "code",
   "execution_count": null,
   "metadata": {},
   "outputs": [],
   "source": []
  }
 ],
 "metadata": {
  "kernelspec": {
   "display_name": "Python 3",
   "language": "python",
   "name": "python3"
  },
  "language_info": {
   "codemirror_mode": {
    "name": "ipython",
    "version": 3
   },
   "file_extension": ".py",
   "mimetype": "text/x-python",
   "name": "python",
   "nbconvert_exporter": "python",
   "pygments_lexer": "ipython3",
   "version": "3.7.9"
  }
 },
 "nbformat": 4,
 "nbformat_minor": 4
}
