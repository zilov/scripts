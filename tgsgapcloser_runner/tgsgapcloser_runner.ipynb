{
 "cells": [
  {
   "cell_type": "code",
   "execution_count": 1,
   "metadata": {},
   "outputs": [],
   "source": [
    "import os\n",
    "import os.path"
   ]
  },
  {
   "cell_type": "code",
   "execution_count": 17,
   "metadata": {},
   "outputs": [],
   "source": [
    "all_assemblies = []\n",
    "for address, dirs, files in os.walk(\"/mnt/data/lizards/forNCBI/dna_assembly/\"):\n",
    "    for file in files:\n",
    "        if file.endswith(\"A.fasta\") and \"assembly\" in file:\n",
    "            if not \"busco\" in address:\n",
    "                all_assemblies.append(address + \"/\" + file)"
   ]
  },
  {
   "cell_type": "code",
   "execution_count": 19,
   "metadata": {},
   "outputs": [],
   "source": [
    "drad_reads = \"/mnt/data/lizards/forNCBI/raw_dna_reads/drad/pacbio2016/pacbio.fasta\"\n",
    "dval_reads = \"/mnt/data/lizards/forNCBI/raw_dna_reads/dval/pacbio2016/d_val_pacbio.fasta\""
   ]
  },
  {
   "cell_type": "code",
   "execution_count": 18,
   "metadata": {},
   "outputs": [
    {
     "data": {
      "text/plain": [
       "['/mnt/data/lizards/forNCBI/dna_assembly/drad/10x/drad_assembly2020A.fasta',\n",
       " '/mnt/data/lizards/forNCBI/dna_assembly/drad/drad/drad_assembly2020A.fasta',\n",
       " '/mnt/data/lizards/forNCBI/dna_assembly/dval/10x/dval_assembly2020A.fasta',\n",
       " '/mnt/data/lizards/forNCBI/dna_assembly/duni/10x2020/duni/duni_assembly2020A.fasta']"
      ]
     },
     "execution_count": 18,
     "metadata": {},
     "output_type": "execute_result"
    }
   ],
   "source": [
    "all_assemblies"
   ]
  },
  {
   "cell_type": "code",
   "execution_count": 40,
   "metadata": {},
   "outputs": [
    {
     "name": "stdout",
     "output_type": "stream",
     "text": [
      "time tgsgapcloser --scaff /mnt/data/lizards/forNCBI/dna_assembly/drad/10x/drad_assembly2020A.fasta --reads /mnt/data/lizards/forNCBI/raw_dna_reads/drad/pacbio2016/pacbio.fasta --output /mnt/projects/zilov/tgsgapcloser/drad/10x/drad --tgstype pb --racon /home/dzilov/soft/miniconda3/envs/gapcloser/bin/racon --thread 100 >/mnt/projects/zilov/tgsgapcloser/drad/10x/pipe.log 2>/mnt/projects/zilov/tgsgapcloser/drad/10x/pipe.err\n",
      "time tgsgapcloser --scaff /mnt/data/lizards/forNCBI/dna_assembly/drad/drad/drad_assembly2020A.fasta --reads /mnt/data/lizards/forNCBI/raw_dna_reads/drad/pacbio2016/pacbio.fasta --output /mnt/projects/zilov/tgsgapcloser/drad/drad/drad --tgstype pb --racon /home/dzilov/soft/miniconda3/envs/gapcloser/bin/racon --thread 100 >/mnt/projects/zilov/tgsgapcloser/drad/drad/pipe.log 2>/mnt/projects/zilov/tgsgapcloser/drad/drad/pipe.err\n",
      "time tgsgapcloser --scaff /mnt/data/lizards/forNCBI/dna_assembly/dval/10x/dval_assembly2020A.fasta --reads /mnt/data/lizards/forNCBI/raw_dna_reads/dval/pacbio2016/d_val_pacbio.fasta --output /mnt/projects/zilov/tgsgapcloser/dval/10x/dval --tgstype pb --racon /home/dzilov/soft/miniconda3/envs/gapcloser/bin/racon --thread 100 >/mnt/projects/zilov/tgsgapcloser/dval/10x/pipe.log 2>/mnt/projects/zilov/tgsgapcloser/dval/10x/pipe.err\n"
     ]
    }
   ],
   "source": [
    "racon_dir = \"/home/dzilov/soft/miniconda3/envs/gapcloser/bin/racon\"\n",
    "for assembly in all_assemblies:\n",
    "    if \"drad\" in assembly:\n",
    "        output_dir = \"/mnt/projects/zilov/tgsgapcloser/drad/\"\n",
    "        output_prefix = output_dir + assembly.split(\"/\")[-2] + \"/\" + \"drad\"\n",
    "        tgsgapcloser_command(assembly, drad_reads, output_prefix)\n",
    "    if \"dval\" in assembly:\n",
    "        output_dir = \"/mnt/projects/zilov/tgsgapcloser/dval/\"\n",
    "        output_prefix = output_dir + assembly.split(\"/\")[-2] + \"/\" + \"dval\"\n",
    "        tgsgapcloser_command(assembly, dval_reads, output_prefix)"
   ]
  },
  {
   "cell_type": "code",
   "execution_count": null,
   "metadata": {},
   "outputs": [],
   "source": [
    "assembly =\n",
    "read =\n",
    "output_prefix = "
   ]
  },
  {
   "cell_type": "code",
   "execution_count": 39,
   "metadata": {},
   "outputs": [],
   "source": [
    "def tgsgapcloser_command(assembly_file, reads_pb_file, output_prefix):\n",
    "    racon_dir = \"/home/dzilov/soft/miniconda3/envs/gapcloser/bin/racon\"\n",
    "    output_dir = \"/\".join(output_prefix.split(\"/\")[0:-1])\n",
    "    if not os.path.exists(output_dir):\n",
    "        os.mkdir(output_dir)\n",
    "    command = \"time tgsgapcloser --scaff %s --reads %s --output %s --tgstype pb --racon %s --thread 100 >%s/pipe.log 2>%s/pipe.err\" % (assembly_file, reads_pb_file, output_prefix, racon_dir, output_dir, output_dir)\n",
    "    print(command)"
   ]
  },
  {
   "cell_type": "code",
   "execution_count": null,
   "metadata": {},
   "outputs": [],
   "source": []
  }
 ],
 "metadata": {
  "kernelspec": {
   "display_name": "Python 3",
   "language": "python",
   "name": "python3"
  },
  "language_info": {
   "codemirror_mode": {
    "name": "ipython",
    "version": 3
   },
   "file_extension": ".py",
   "mimetype": "text/x-python",
   "name": "python",
   "nbconvert_exporter": "python",
   "pygments_lexer": "ipython3",
   "version": "3.7.7"
  }
 },
 "nbformat": 4,
 "nbformat_minor": 4
}
