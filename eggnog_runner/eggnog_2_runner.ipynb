{
 "cells": [
  {
   "cell_type": "code",
   "execution_count": 1,
   "metadata": {},
   "outputs": [],
   "source": [
    "import os\n",
    "import os.path\n",
    "import glob"
   ]
  },
  {
   "cell_type": "code",
   "execution_count": 2,
   "metadata": {},
   "outputs": [],
   "source": [
    "# constant dependencies\n",
    "eggnog = \"/mnt/projects/zilov/soft/eggnog-mapper-2.0.4-rf1/emapper.py\"\n",
    "database = \"/mnt/projects/zilov/soft/eggnog-mapper-2.0.4-rf1/database\"\n",
    "cpu = \"30\"\n",
    "\n",
    "#project constant \n",
    "output_directory = \"/mnt/projects/zilov/eggnog_2/Eupentacta/\""
   ]
  },
  {
   "cell_type": "code",
   "execution_count": 7,
   "metadata": {},
   "outputs": [
    {
     "name": "stdout",
     "output_type": "stream",
     "text": [
      "['/media/eternus1/nfs/projects/upload/milana/Eupentacta/fastq/transdecoder_sample52/longest_orfs.pep', '/media/eternus1/nfs/projects/upload/milana/Eupentacta/fastq/transdecoder_sample58/longest_orfs.pep', '/media/eternus1/nfs/projects/upload/milana/Eupentacta/fastq/transdecoder_sample45/longest_orfs.pep', '/media/eternus1/nfs/projects/upload/milana/Eupentacta/fastq/transdecoder_sample70/longest_orfs.pep', '/media/eternus1/nfs/projects/upload/milana/Eupentacta/fastq/transdecoder_sample33/longest_orfs.pep', '/media/eternus1/nfs/projects/upload/milana/Eupentacta/fastq/transdecoder_sample1/longest_orfs.pep']\n"
     ]
    }
   ],
   "source": [
    "files = glob.glob(\"/media/eternus1/nfs/projects/upload/milana/Eupentacta/fastq/transdecoder_sample*/*.pep\")\n",
    "print(files)"
   ]
  },
  {
   "cell_type": "code",
   "execution_count": 8,
   "metadata": {},
   "outputs": [
    {
     "name": "stdout",
     "output_type": "stream",
     "text": [
      "time /mnt/projects/zilov/soft/eggnog-mapper-2.0.4-rf1/emapper.py --data_dir /mnt/projects/zilov/soft/eggnog-mapper-2.0.4-rf1/database -i /media/eternus1/nfs/projects/upload/milana/Eupentacta/fastq/transdecoder_sample52/longest_orfs.pep -o sample52 --output_dir /mnt/projects/zilov/eggnog_2/Eupentacta/sample52 -m diamond --cpu 30\n",
      "time /mnt/projects/zilov/soft/eggnog-mapper-2.0.4-rf1/emapper.py --data_dir /mnt/projects/zilov/soft/eggnog-mapper-2.0.4-rf1/database -i /media/eternus1/nfs/projects/upload/milana/Eupentacta/fastq/transdecoder_sample58/longest_orfs.pep -o sample58 --output_dir /mnt/projects/zilov/eggnog_2/Eupentacta/sample58 -m diamond --cpu 30\n",
      "time /mnt/projects/zilov/soft/eggnog-mapper-2.0.4-rf1/emapper.py --data_dir /mnt/projects/zilov/soft/eggnog-mapper-2.0.4-rf1/database -i /media/eternus1/nfs/projects/upload/milana/Eupentacta/fastq/transdecoder_sample45/longest_orfs.pep -o sample45 --output_dir /mnt/projects/zilov/eggnog_2/Eupentacta/sample45 -m diamond --cpu 30\n",
      "time /mnt/projects/zilov/soft/eggnog-mapper-2.0.4-rf1/emapper.py --data_dir /mnt/projects/zilov/soft/eggnog-mapper-2.0.4-rf1/database -i /media/eternus1/nfs/projects/upload/milana/Eupentacta/fastq/transdecoder_sample70/longest_orfs.pep -o sample70 --output_dir /mnt/projects/zilov/eggnog_2/Eupentacta/sample70 -m diamond --cpu 30\n",
      "time /mnt/projects/zilov/soft/eggnog-mapper-2.0.4-rf1/emapper.py --data_dir /mnt/projects/zilov/soft/eggnog-mapper-2.0.4-rf1/database -i /media/eternus1/nfs/projects/upload/milana/Eupentacta/fastq/transdecoder_sample33/longest_orfs.pep -o sample33 --output_dir /mnt/projects/zilov/eggnog_2/Eupentacta/sample33 -m diamond --cpu 30\n",
      "time /mnt/projects/zilov/soft/eggnog-mapper-2.0.4-rf1/emapper.py --data_dir /mnt/projects/zilov/soft/eggnog-mapper-2.0.4-rf1/database -i /media/eternus1/nfs/projects/upload/milana/Eupentacta/fastq/transdecoder_sample1/longest_orfs.pep -o sample1 --output_dir /mnt/projects/zilov/eggnog_2/Eupentacta/sample1 -m diamond --cpu 30\n"
     ]
    }
   ],
   "source": [
    "for file in files:\n",
    "    output_prefix = file.split('/')[-2].split(\"_\")[-1]\n",
    "    output_dir = output_directory + output_prefix\n",
    "    if not os.path.exists(output_dir):\n",
    "        os.makedirs(output_dir)\n",
    "    command = f\"time {eggnog} --data_dir {database} -i {file} -o {output_prefix} --output_dir {output_dir} -m diamond --cpu {cpu}\"\n",
    "    print(command)"
   ]
  },
  {
   "cell_type": "code",
   "execution_count": 4,
   "metadata": {},
   "outputs": [
    {
     "name": "stdout",
     "output_type": "stream",
     "text": [
      "time /mnt/projects/zilov/soft/eggnog-mapper-2.0.4-rf1/emapper.py --data_dir /mnt/projects/zilov/soft/eggnog-mapper-2.0.4-rf1/database -i /media/eternus1/nfs/projects/sigma/consenus_mmseq_v2.morethan1.faa --output_dir /media/eternus1/nfs/projects/sigma/eggnog_consensus/ -m diamond --cpu 50\n"
     ]
    }
   ],
   "source": [
    "file = \"/media/eternus1/nfs/projects/sigma/consenus_mmseq_v2.morethan1.faa\"\n",
    "output_dir = \"/media/eternus1/nfs/projects/sigma/eggnog_consensus/\"\n",
    "cpu = \"50\"\n",
    "\n",
    "if not os.path.exists(output_dir):\n",
    "    os.makedirs(output_dir)\n",
    "command = f\"time {eggnog} --data_dir {database} -i {file} --output_dir {output_dir} -m diamond --cpu {cpu}\"\n",
    "print(command)"
   ]
  },
  {
   "cell_type": "code",
   "execution_count": null,
   "metadata": {},
   "outputs": [],
   "source": []
  }
 ],
 "metadata": {
  "kernelspec": {
   "display_name": "Python 3",
   "language": "python",
   "name": "python3"
  },
  "language_info": {
   "codemirror_mode": {
    "name": "ipython",
    "version": 3
   },
   "file_extension": ".py",
   "mimetype": "text/x-python",
   "name": "python",
   "nbconvert_exporter": "python",
   "pygments_lexer": "ipython3",
   "version": "3.7.9"
  }
 },
 "nbformat": 4,
 "nbformat_minor": 4
}
