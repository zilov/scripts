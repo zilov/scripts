{
 "cells": [
  {
   "cell_type": "code",
   "execution_count": 1,
   "metadata": {},
   "outputs": [],
   "source": [
    "import os"
   ]
  },
  {
   "cell_type": "code",
   "execution_count": 2,
   "metadata": {},
   "outputs": [],
   "source": [
    "reference_fasta_file = \"/mnt/projects/pasteur_bacterias/refs/Salmon1418_reference.fna\""
   ]
  },
  {
   "cell_type": "code",
   "execution_count": 3,
   "metadata": {},
   "outputs": [],
   "source": [
    "def sc_iter_fasta_for_refseq(file_name):\n",
    "    \"\"\" Iter over fasta file.\"\"\"\n",
    "\n",
    "    header = None\n",
    "    seq = []\n",
    "    with open(file_name) as fh:\n",
    "        data = fh.readlines()\n",
    "        for line in data:\n",
    "            if line.startswith(\">\"):\n",
    "                if seq:\n",
    "                    sequence = \"\".join(seq).upper()\n",
    "                    yield (header, sequence)\n",
    "                header = line.strip()[1:]\n",
    "                seq = []\n",
    "                continue\n",
    "            seq.append(line.upper().strip())\n",
    "        if seq or header:\n",
    "            sequence = \"\".join(seq).upper()\n",
    "            yield (header, sequence)"
   ]
  },
  {
   "cell_type": "code",
   "execution_count": 4,
   "metadata": {},
   "outputs": [
    {
     "name": "stdout",
     "output_type": "stream",
     "text": [
      "AE006468.2 Salmonella enterica subsp. enterica serovar Typhimurium str. LT2, complete genome 4857450\n"
     ]
    },
    {
     "data": {
      "text/plain": [
       "4857450"
      ]
     },
     "execution_count": 4,
     "metadata": {},
     "output_type": "execute_result"
    }
   ],
   "source": [
    "for header, sequence in sc_iter_fasta_for_refseq(reference_fasta_file):\n",
    "    print(header, len(sequence))\n",
    "    break\n",
    "    \n",
    "len(sequence)"
   ]
  },
  {
   "cell_type": "code",
   "execution_count": 5,
   "metadata": {},
   "outputs": [],
   "source": [
    "def get_right_forks(kmer, graph):\n",
    "    ''' Returns\n",
    "    - R as a dictionary nucleotide to tf\n",
    "    '''\n",
    "    forks = {}\n",
    "    a = graph[kmer[1:]+'A']\n",
    "    if a:\n",
    "        forks[\"A\"] = a\n",
    "    c = graph[kmer[1:]+'C']\n",
    "    if c:\n",
    "        forks[\"C\"] = c\n",
    "    t = graph[kmer[1:]+'T']\n",
    "    if t:\n",
    "        forks[\"T\"] = t\n",
    "    g = graph[kmer[1:]+'G']\n",
    "    if g:\n",
    "        forks[\"G\"] = g\n",
    "    return forks\n",
    "\n",
    "\n",
    "def print_prev_R(kmer, kmer2freq, cutoff=0):\n",
    "    ''' Returns:\n",
    "    - R as a dictionary nucleotide to tf\n",
    "    '''\n",
    "    R = {}\n",
    "    a = kmer2freq['A'+kmer[:-1]]\n",
    "    if a and a > cutoff:\n",
    "        R[\"A\"] = a\n",
    "    c = kmer2freq['C'+kmer[:-1]]\n",
    "    if c and c > cutoff:\n",
    "        R[\"C\"] = c\n",
    "    t = kmer2freq['T'+kmer[:-1]]\n",
    "    if t and t > cutoff:\n",
    "        R[\"T\"] = t\n",
    "    g = kmer2freq['G'+kmer[:-1]]\n",
    "    if g and g > cutoff:\n",
    "        R[\"G\"] = g\n",
    "    return R"
   ]
  },
  {
   "cell_type": "code",
   "execution_count": 25,
   "metadata": {},
   "outputs": [
    {
     "data": {
      "text/plain": [
       "{'G': 1}"
      ]
     },
     "execution_count": 25,
     "metadata": {},
     "output_type": "execute_result"
    }
   ],
   "source": [
    "get_right_forks(sequence[:23], graph)"
   ]
  },
  {
   "cell_type": "code",
   "execution_count": 19,
   "metadata": {},
   "outputs": [],
   "source": [
    "from collections import defaultdict\n",
    "\n",
    "### 101 illumina \n",
    "### 350 PE illumina 101\n",
    "\n",
    "def get_graph(sequence, k):\n",
    "    graph = defaultdict(int)\n",
    "    for i in range(len(sequence)-k+1):\n",
    "        kmer = sequence[i:i+k]\n",
    "        graph[kmer] += 1\n",
    "    return graph"
   ]
  },
  {
   "cell_type": "code",
   "execution_count": 23,
   "metadata": {},
   "outputs": [],
   "source": [
    "graph = get_graph(sequence, 23)"
   ]
  },
  {
   "cell_type": "code",
   "execution_count": 16,
   "metadata": {},
   "outputs": [],
   "source": [
    "def UBER_ASSEMBLER(sequence, graph, k, verbose=False):\n",
    "    ''' Stupid assembler.\n",
    "    '''\n",
    "    start_kmer = sequence[:k]\n",
    "    queue = [start_kmer]\n",
    "    contigs = []\n",
    "    seen_kmers = set()\n",
    "    while queue:\n",
    "        kmer = queue.pop(0)\n",
    "        contig = kmer\n",
    "        ### handle repeats\n",
    "        if kmer in seen_kmers:\n",
    "            continue\n",
    "        seen_kmers.add(kmer)\n",
    "        ### assembly kmer until fork or end\n",
    "        while True:\n",
    "            R = get_right_forks(kmer, graph)\n",
    "            if len(R) == 1:\n",
    "                contig += list(R.keys())[0]\n",
    "                kmer = kmer[1:] + list(R.keys())[0]\n",
    "            elif len(R) > 1:\n",
    "                for nucl in R:\n",
    "                    rkmer = kmer[1:] + nucl\n",
    "                    queue.append(rkmer)\n",
    "                break\n",
    "            elif len(R) == 0:\n",
    "                break\n",
    "        contigs.append(contig)\n",
    "        lengths = [len(x) for x in contigs]\n",
    "        if verbose:\n",
    "            print(len(contigs), get_n50(lengths) )\n",
    "    if verbose:\n",
    "        print(\"DONE\")\n",
    "#     return contigs"
   ]
  },
  {
   "cell_type": "code",
   "execution_count": 49,
   "metadata": {},
   "outputs": [
    {
     "name": "stdout",
     "output_type": "stream",
     "text": [
      "10000\n",
      "5000\n",
      "7500\n",
      "6250\n",
      "6875\n",
      "6562\n",
      "6718\n",
      "6640\n",
      "6679\n",
      "6659\n",
      "6669\n"
     ]
    },
    {
     "ename": "KeyboardInterrupt",
     "evalue": "",
     "output_type": "error",
     "traceback": [
      "\u001b[0;31m---------------------------------------------------------------------------\u001b[0m",
      "\u001b[0;31mKeyboardInterrupt\u001b[0m                         Traceback (most recent call last)",
      "\u001b[0;32m<timed exec>\u001b[0m in \u001b[0;36m<module>\u001b[0;34m\u001b[0m\n",
      "\u001b[0;32m<ipython-input-19-edbd4071b165>\u001b[0m in \u001b[0;36mget_graph\u001b[0;34m(sequence, k)\u001b[0m\n\u001b[1;32m      7\u001b[0m     \u001b[0mgraph\u001b[0m \u001b[0;34m=\u001b[0m \u001b[0mdefaultdict\u001b[0m\u001b[0;34m(\u001b[0m\u001b[0mint\u001b[0m\u001b[0;34m)\u001b[0m\u001b[0;34m\u001b[0m\u001b[0;34m\u001b[0m\u001b[0m\n\u001b[1;32m      8\u001b[0m     \u001b[0;32mfor\u001b[0m \u001b[0mi\u001b[0m \u001b[0;32min\u001b[0m \u001b[0mrange\u001b[0m\u001b[0;34m(\u001b[0m\u001b[0mlen\u001b[0m\u001b[0;34m(\u001b[0m\u001b[0msequence\u001b[0m\u001b[0;34m)\u001b[0m\u001b[0;34m-\u001b[0m\u001b[0mk\u001b[0m\u001b[0;34m+\u001b[0m\u001b[0;36m1\u001b[0m\u001b[0;34m)\u001b[0m\u001b[0;34m:\u001b[0m\u001b[0;34m\u001b[0m\u001b[0;34m\u001b[0m\u001b[0m\n\u001b[0;32m----> 9\u001b[0;31m         \u001b[0mkmer\u001b[0m \u001b[0;34m=\u001b[0m \u001b[0msequence\u001b[0m\u001b[0;34m[\u001b[0m\u001b[0mi\u001b[0m\u001b[0;34m:\u001b[0m\u001b[0mi\u001b[0m\u001b[0;34m+\u001b[0m\u001b[0mk\u001b[0m\u001b[0;34m]\u001b[0m\u001b[0;34m\u001b[0m\u001b[0;34m\u001b[0m\u001b[0m\n\u001b[0m\u001b[1;32m     10\u001b[0m         \u001b[0mgraph\u001b[0m\u001b[0;34m[\u001b[0m\u001b[0mkmer\u001b[0m\u001b[0;34m]\u001b[0m \u001b[0;34m+=\u001b[0m \u001b[0;36m1\u001b[0m\u001b[0;34m\u001b[0m\u001b[0;34m\u001b[0m\u001b[0m\n\u001b[1;32m     11\u001b[0m     \u001b[0;32mreturn\u001b[0m \u001b[0mgraph\u001b[0m\u001b[0;34m\u001b[0m\u001b[0;34m\u001b[0m\u001b[0m\n",
      "\u001b[0;31mKeyboardInterrupt\u001b[0m: "
     ]
    }
   ],
   "source": [
    "%%time\n",
    "number = 23\n",
    "fork_numbers = []\n",
    "contig_number = []\n",
    "i = 0\n",
    "while i < 20:\n",
    "    print(number)\n",
    "    contig_number.append(number)\n",
    "    graph = get_graph(sequence, number)\n",
    "    \n",
    "    for kmer,fork in graph.items():\n",
    "        if fork > 1:\n",
    "            mid_number = contig_number[-1] + (contig_number[-2] - contig_number[-1]) // 2\n",
    "            if mid_number in fork_numbers:\n",
    "                break\n",
    "            else:\n",
    "                fork_numbers.append(number)\n",
    "            break\n",
    "        else:\n",
    "            continue\n",
    "    \n",
    "    if len(contig_number) < 2:\n",
    "        number = number // 2\n",
    "    elif contig_number[-1] > contig_number[-2]:\n",
    "        number = contig_number[-2] + (contig_number[-1] - contig_number[-2]) // 2\n",
    "    else:\n",
    "        number = contig_number[-1] + (contig_number[-2] - contig_number[-1]) // 2\n",
    "    i+=1\n",
    "\n",
    "print(contig_number[-1])\n",
    "print(fork_numbers)"
   ]
  },
  {
   "cell_type": "code",
   "execution_count": 32,
   "metadata": {},
   "outputs": [
    {
     "name": "stdout",
     "output_type": "stream",
     "text": [
      "1000\n",
      "One more time!\n",
      "500\n",
      "One more time!\n",
      "250\n",
      "One more time!\n",
      "125\n",
      "One more time!\n",
      "62\n",
      "One more time!\n",
      "31\n",
      "One more time!\n",
      "15\n",
      "One more time!\n",
      "7\n",
      "One more time!\n",
      "3\n",
      "3\n"
     ]
    }
   ],
   "source": [
    "check = 1000\n",
    "poop = [\"profp\", \"d,elf,\", \"d,emep\"]\n",
    "for i in range(10):\n",
    "    print(check)\n",
    "    if len(poop) != check:\n",
    "        print(\"One more time!\")\n",
    "        check = check // 2"
   ]
  },
  {
   "cell_type": "code",
   "execution_count": null,
   "metadata": {},
   "outputs": [],
   "source": []
  }
 ],
 "metadata": {
  "kernelspec": {
   "display_name": "Python 3",
   "language": "python",
   "name": "python3"
  },
  "language_info": {
   "codemirror_mode": {
    "name": "ipython",
    "version": 3
   },
   "file_extension": ".py",
   "mimetype": "text/x-python",
   "name": "python",
   "nbconvert_exporter": "python",
   "pygments_lexer": "ipython3",
   "version": "3.7.7"
  }
 },
 "nbformat": 4,
 "nbformat_minor": 4
}
