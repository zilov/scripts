{
 "cells": [
  {
   "cell_type": "code",
   "execution_count": 1,
   "metadata": {},
   "outputs": [],
   "source": [
    "our_assembly = \"/mnt/projects/pasteur_bacterias/refs/salmon1502.fasta\"\n",
    "ref_assembly = \"/mnt/projects/pasteur_bacterias/refs/salmon_ref.fasta\""
   ]
  },
  {
   "cell_type": "code",
   "execution_count": 2,
   "metadata": {},
   "outputs": [],
   "source": [
    "def sc_iter_fasta_for_refseq(file_name):\n",
    "    \"\"\" Iter over fasta file.\"\"\"\n",
    "\n",
    "    header = None\n",
    "    seq = []\n",
    "    with open(file_name) as fh:\n",
    "        data = fh.readlines()\n",
    "        for line in data:\n",
    "            if line.startswith(\">\"):\n",
    "                if seq:\n",
    "                    sequence = \"\".join(seq).upper()\n",
    "                    yield (header, sequence)\n",
    "                header = line.strip()[1:]\n",
    "                seq = []\n",
    "                continue\n",
    "            seq.append(line.upper().strip())\n",
    "        if seq or header:\n",
    "            sequence = \"\".join(seq).upper()\n",
    "            yield (header, sequence)\n",
    "            \n",
    "def get_revcomp(sequence):\n",
    "    '''Return reverse complementary sequence.\n",
    "\n",
    "    >>> complementary('AT CG')\n",
    "    'CGAT'\n",
    "\n",
    "    '''\n",
    "    c = dict(zip('ATCGNatcgn~[]', 'TAGCNtagcn~]['))\n",
    "    return ''.join(c.get(nucleotide, '') for nucleotide in reversed(sequence))"
   ]
  },
  {
   "cell_type": "code",
   "execution_count": 3,
   "metadata": {},
   "outputs": [],
   "source": [
    "from collections import defaultdict\n",
    "\n",
    "def get_position_graph(sequences, k=23):\n",
    "    graph = defaultdict(list)\n",
    "    for sid,sequence in enumerate(sequences):\n",
    "        for i in range(len(sequence)-k+1):\n",
    "            kmer = sequence[i:i+k]\n",
    "            graph[kmer].append((sid,i))\n",
    "            graph[get_revcomp(kmer)].append((sid,-1*i))\n",
    "    return graph"
   ]
  },
  {
   "cell_type": "code",
   "execution_count": 4,
   "metadata": {},
   "outputs": [],
   "source": [
    "our_assembly_sequences = []\n",
    "our_assembly_headers = []\n",
    "for header,seq in sc_iter_fasta_for_refseq(our_assembly):\n",
    "    our_assembly_sequences.append(seq)\n",
    "    our_assembly_headers.append(header)\n",
    "\n",
    "ref_assembly_sequences = []\n",
    "ref_assembly_headers = []\n",
    "for header,seq in sc_iter_fasta_for_refseq(ref_assembly):\n",
    "    ref_assembly_sequences.append(seq)\n",
    "    ref_assembly_headers.append(header)"
   ]
  },
  {
   "cell_type": "code",
   "execution_count": 5,
   "metadata": {},
   "outputs": [],
   "source": [
    "position_ours = get_position_graph(our_assembly_sequences)"
   ]
  },
  {
   "cell_type": "code",
   "execution_count": 6,
   "metadata": {},
   "outputs": [],
   "source": [
    "position_ref = get_position_graph(ref_assembly_sequences)"
   ]
  },
  {
   "cell_type": "code",
   "execution_count": 7,
   "metadata": {},
   "outputs": [
    {
     "ename": "SyntaxError",
     "evalue": "invalid syntax (<ipython-input-7-47df570dfa20>, line 1)",
     "output_type": "error",
     "traceback": [
      "\u001b[0;36m  File \u001b[0;32m\"<ipython-input-7-47df570dfa20>\"\u001b[0;36m, line \u001b[0;32m1\u001b[0m\n\u001b[0;31m    print position_ours.keys()[:100]\u001b[0m\n\u001b[0m                      ^\u001b[0m\n\u001b[0;31mSyntaxError\u001b[0m\u001b[0;31m:\u001b[0m invalid syntax\n"
     ]
    }
   ],
   "source": [
    "print position_ours.keys()[:100]"
   ]
  },
  {
   "cell_type": "code",
   "execution_count": null,
   "metadata": {},
   "outputs": [],
   "source": [
    "position_ours[\"CATATTTACACACCTGCGCCAGC\"], position_ref[\"CATATTTACACACCTGCGCCAGC\"]"
   ]
  },
  {
   "cell_type": "code",
   "execution_count": null,
   "metadata": {},
   "outputs": [],
   "source": [
    "common_kmers = set()\n",
    "for kmer in position_ours:\n",
    "    if position_ref[kmer]:\n",
    "        common_kmers.add(kmer)"
   ]
  },
  {
   "cell_type": "code",
   "execution_count": null,
   "metadata": {},
   "outputs": [],
   "source": [
    "len(common_kmers), len(position_ours), len([x for x in position_ref if position_ref[x]])"
   ]
  },
  {
   "cell_type": "code",
   "execution_count": null,
   "metadata": {},
   "outputs": [],
   "source": [
    "k = 23\n",
    "for sid, seq in enumerate(our_assembly_sequences):\n",
    "    header = our_assembly_headers[sid]\n",
    "    for i in range(len(seq)-k+1):\n",
    "        kmer = seq[i:i+k]\n",
    "        if i > 500:\n",
    "            break\n",
    "        if len(position_ours[kmer]) == 1 and len(position_ref[kmer]) == 1:\n",
    "            print header, sid, i,kmer,position_ref[kmer]"
   ]
  },
  {
   "cell_type": "code",
   "execution_count": null,
   "metadata": {},
   "outputs": [],
   "source": [
    "k = 23\n",
    "last_sid = None\n",
    "last_pos = 0\n",
    "\n",
    "\n",
    "dataset = []\n",
    "for sid, seq in enumerate(ref_assembly_sequences):\n",
    "    header = ref_assembly_headers[sid]\n",
    "    for i in range(len(seq)-k+1):\n",
    "        kmer = seq[i:i+k]\n",
    "        if len(position_ref[kmer]) == 1 and len(position_ours[kmer]) == 1:\n",
    "            our_sid, our_pos = position_ours[kmer][0]\n",
    "            if last_sid != our_sid:\n",
    "                dataset.append([i, i-last_pos, kmer, our_sid, our_assembly_headers[our_sid], our_pos])\n",
    "                last_sid = our_sid\n",
    "                last_pos = i\n",
    "dataset.append([i, i-last_pos, kmer, our_sid, our_assembly_headers[our_sid], our_pos])"
   ]
  },
  {
   "cell_type": "code",
   "execution_count": null,
   "metadata": {
    "scrolled": true
   },
   "outputs": [],
   "source": [
    "fixed_dataset = []\n",
    "for i, x in enumerate(dataset):\n",
    "    if i == len(dataset)-1:\n",
    "        continue\n",
    "    x[1] = dataset[i+1][1]"
   ]
  },
  {
   "cell_type": "code",
   "execution_count": null,
   "metadata": {},
   "outputs": [],
   "source": [
    "for i, x in enumerate(dataset):\n",
    "    if x[3] in [13]:\n",
    "        continue\n",
    "    if x[1] < 10000:\n",
    "        continue\n",
    "    print x"
   ]
  },
  {
   "cell_type": "code",
   "execution_count": null,
   "metadata": {},
   "outputs": [],
   "source": [
    "our_assembly_headers[13],our_assembly_headers[11],our_assembly_headers[18]"
   ]
  },
  {
   "cell_type": "code",
   "execution_count": null,
   "metadata": {},
   "outputs": [],
   "source": []
  }
 ],
 "metadata": {
  "kernelspec": {
   "display_name": "Python 3",
   "language": "python",
   "name": "python3"
  },
  "language_info": {
   "codemirror_mode": {
    "name": "ipython",
    "version": 3
   },
   "file_extension": ".py",
   "mimetype": "text/x-python",
   "name": "python",
   "nbconvert_exporter": "python",
   "pygments_lexer": "ipython3",
   "version": "3.7.7"
  }
 },
 "nbformat": 4,
 "nbformat_minor": 2
}
