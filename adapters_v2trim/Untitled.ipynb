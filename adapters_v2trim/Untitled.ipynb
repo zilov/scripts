{
 "cells": [
  {
   "cell_type": "code",
   "execution_count": 5,
   "id": "ranging-browse",
   "metadata": {},
   "outputs": [],
   "source": [
    "low_index_counter = 1\n",
    "high_ingex_counter = 1\n",
    "bgiseq_adapters = \"./bgiseq_adapters.fasta\"\n",
    "with open(bgiseq_adapters, \"w\") as fw:\n",
    "    with open(\"./Oligos-and-primers-for-BGISEQ&amp;DNBSEQ-NGS-system.txt\") as fh:\n",
    "        for line in fh:\n",
    "            if line.startswith(\"#\"):\n",
    "                continue\n",
    "            line = line.strip().split(\":\")\n",
    "            header = line[0]\n",
    "            seq = line[1]\n",
    "            if header.endswith(\"index\"):\n",
    "                header = header + f\"_{low_index_counter}\"\n",
    "                low_index_counter += 1\n",
    "            elif header.endswith(\"Index\"):\n",
    "                header = header + f\"_{high_ingex_counter}\"\n",
    "                high_ingex_counter += 1\n",
    "            fw.write(f\">{header}\\n{seq}\\n\")"
   ]
  },
  {
   "cell_type": "code",
   "execution_count": null,
   "id": "compound-mission",
   "metadata": {},
   "outputs": [],
   "source": []
  }
 ],
 "metadata": {
  "kernelspec": {
   "display_name": "Python 3",
   "language": "python",
   "name": "python3"
  },
  "language_info": {
   "codemirror_mode": {
    "name": "ipython",
    "version": 3
   },
   "file_extension": ".py",
   "mimetype": "text/x-python",
   "name": "python",
   "nbconvert_exporter": "python",
   "pygments_lexer": "ipython3",
   "version": "3.7.9"
  }
 },
 "nbformat": 4,
 "nbformat_minor": 5
}
