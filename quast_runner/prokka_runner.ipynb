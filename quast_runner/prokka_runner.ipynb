{
 "cells": [
  {
   "cell_type": "code",
   "execution_count": 5,
   "metadata": {},
   "outputs": [],
   "source": [
    "input_file = \"/mnt/data/ncbi/refseq/bacteria_single/genomes/NC_0001.fna\"\n",
    "\n",
    "prefix = input_file.split(\"/\")[-1].split(\".\")[0]\n",
    "outdir = \"/mnt/data/ncbi/refseq/bacteria_single/prokka/\" + prefix"
   ]
  },
  {
   "cell_type": "code",
   "execution_count": 6,
   "metadata": {},
   "outputs": [
    {
     "name": "stdout",
     "output_type": "stream",
     "text": [
      "prokka --cpus 20 --outdir /mnt/data/ncbi/refseq/bacteria_single/prokka/NC_0001 --prefix NC_0001 /mnt/data/ncbi/refseq/bacteria_single/genomes/NC_0001.fna\n"
     ]
    }
   ],
   "source": [
    "command = \"prokka --cpus 20 --outdir %s --prefix %s %s\" % (outdir, prefix, input_file)\n",
    "print(command)"
   ]
  },
  {
   "cell_type": "code",
   "execution_count": null,
   "metadata": {},
   "outputs": [],
   "source": []
  }
 ],
 "metadata": {
  "kernelspec": {
   "display_name": "Python 3",
   "language": "python",
   "name": "python3"
  },
  "language_info": {
   "codemirror_mode": {
    "name": "ipython",
    "version": 3
   },
   "file_extension": ".py",
   "mimetype": "text/x-python",
   "name": "python",
   "nbconvert_exporter": "python",
   "pygments_lexer": "ipython3",
   "version": "3.7.7"
  }
 },
 "nbformat": 4,
 "nbformat_minor": 4
}
